{
 "cells": [
  {
   "cell_type": "code",
   "execution_count": 1,
   "metadata": {
    "ExecuteTime": {
     "end_time": "2020-03-07T04:23:20.174107Z",
     "start_time": "2020-03-07T04:23:20.149175Z"
    }
   },
   "outputs": [
    {
     "data": {
      "text/html": [
       "        <script type=\"text/javascript\">\n",
       "        window.PlotlyConfig = {MathJaxConfig: 'local'};\n",
       "        if (window.MathJax) {MathJax.Hub.Config({SVG: {font: \"STIX-Web\"}});}\n",
       "        if (typeof require !== 'undefined') {\n",
       "        require.undef(\"plotly\");\n",
       "        requirejs.config({\n",
       "            paths: {\n",
       "                'plotly': ['https://cdn.plot.ly/plotly-latest.min']\n",
       "            }\n",
       "        });\n",
       "        require(['plotly'], function(Plotly) {\n",
       "            window._Plotly = Plotly;\n",
       "        });\n",
       "        }\n",
       "        </script>\n",
       "        "
      ]
     },
     "metadata": {},
     "output_type": "display_data"
    },
    {
     "data": {
      "text/html": [
       "        <script type=\"text/javascript\">\n",
       "        window.PlotlyConfig = {MathJaxConfig: 'local'};\n",
       "        if (window.MathJax) {MathJax.Hub.Config({SVG: {font: \"STIX-Web\"}});}\n",
       "        if (typeof require !== 'undefined') {\n",
       "        require.undef(\"plotly\");\n",
       "        requirejs.config({\n",
       "            paths: {\n",
       "                'plotly': ['https://cdn.plot.ly/plotly-latest.min']\n",
       "            }\n",
       "        });\n",
       "        require(['plotly'], function(Plotly) {\n",
       "            window._Plotly = Plotly;\n",
       "        });\n",
       "        }\n",
       "        </script>\n",
       "        "
      ]
     },
     "metadata": {},
     "output_type": "display_data"
    }
   ],
   "source": [
    "    # 1 Data manipulation\n",
    "import numpy as np\n",
    "from bs4 import BeautifulSoup as bs\n",
    "import pandas as pd\n",
    "import pandas_datareader as pdr\n",
    "from pandas_datareader import data as wb\n",
    "    # Visualizations\n",
    "import matplotlib.pyplot as plt\n",
    "%matplotlib inline\n",
    "    # More Visualizations\n",
    "import chart_studio.plotly as py\n",
    "import plotly\n",
    "import plotly.tools as tls\n",
    "import plotly.graph_objs as go\n",
    "import plotly.offline as ply\n",
    "plotly.offline.init_notebook_mode(connected=True)\n",
    "    # Cufflinks binds Plotly directly to pandas dataframes.\n",
    "import cufflinks as cf\n",
    "cf.go_offline(connected=True)\n",
    "cf.set_config_file(theme='white')\n",
    "    # IMPORT API FUNCTIONS\n",
    "import quandl\n",
    "import yfinance as yf\n",
    "from yahoofinancials import YahooFinancials\n",
    "import requests\n",
    "import alpha_vantage\n",
    "from alpha_vantage.timeseries import TimeSeries\n",
    "import iexfinance\n",
    "from iexfinance.stocks import Stock\n",
    "from iexfinance.stocks import get_historical_data\n",
    "from iexfinance.stocks import get_historical_intraday\n",
    "from iexfinance.refdata import get_symbols\n",
    "from iexfinance.data_apis import get_data_points\n",
    "from iexfinance.data_apis import get_time_series\n",
    "from iexfinance.altdata import get_social_sentiment\n",
    "from iexfinance.altdata import get_ceo_compensation\n",
    "    # MISC LIB IMPORTS\n",
    "import locale\n",
    "from datetime import date, datetime\n",
    "from nsepy import get_history\n",
    "import os\n",
    "import time\n",
    "import csv\n",
    "import json\n",
    "from patsy import dmatrices\n",
    "import warnings\n",
    "warnings.filterwarnings('ignore')\n",
    "    # Include local library paths\n",
    "import sys"
   ]
  },
  {
   "cell_type": "markdown",
   "metadata": {},
   "source": [
    "# NASDAQ TICKER_LIST GENERATION:"
   ]
  },
  {
   "cell_type": "code",
   "execution_count": 5,
   "metadata": {
    "ExecuteTime": {
     "end_time": "2020-03-07T04:23:42.712428Z",
     "start_time": "2020-03-07T04:23:42.639879Z"
    },
    "scrolled": true
   },
   "outputs": [
    {
     "data": {
      "text/html": [
       "<div>\n",
       "<style scoped>\n",
       "    .dataframe tbody tr th:only-of-type {\n",
       "        vertical-align: middle;\n",
       "    }\n",
       "\n",
       "    .dataframe tbody tr th {\n",
       "        vertical-align: top;\n",
       "    }\n",
       "\n",
       "    .dataframe thead th {\n",
       "        text-align: right;\n",
       "    }\n",
       "</style>\n",
       "<table border=\"1\" class=\"dataframe\">\n",
       "  <thead>\n",
       "    <tr style=\"text-align: right;\">\n",
       "      <th></th>\n",
       "      <th>Security Name</th>\n",
       "      <th>Symbol</th>\n",
       "      <th>CQS Symbol</th>\n",
       "      <th>NASDAQ Symbol</th>\n",
       "    </tr>\n",
       "  </thead>\n",
       "  <tbody>\n",
       "    <tr>\n",
       "      <th>0</th>\n",
       "      <td>Agilent Technologies, Inc. Common Stock</td>\n",
       "      <td>A</td>\n",
       "      <td>A</td>\n",
       "      <td>A</td>\n",
       "    </tr>\n",
       "    <tr>\n",
       "      <th>1</th>\n",
       "      <td>Alcoa Corporation Common Stock</td>\n",
       "      <td>AA</td>\n",
       "      <td>AA</td>\n",
       "      <td>AA</td>\n",
       "    </tr>\n",
       "    <tr>\n",
       "      <th>2</th>\n",
       "      <td>Perth Mint Physical Gold ETF</td>\n",
       "      <td>AAAU</td>\n",
       "      <td>AAAU</td>\n",
       "      <td>AAAU</td>\n",
       "    </tr>\n",
       "    <tr>\n",
       "      <th>3</th>\n",
       "      <td>ATA Creativity Global - American Depositary Sh...</td>\n",
       "      <td>AACG</td>\n",
       "      <td>NaN</td>\n",
       "      <td>AACG</td>\n",
       "    </tr>\n",
       "    <tr>\n",
       "      <th>4</th>\n",
       "      <td>AdvisorShares Dorsey Wright ADR ETF</td>\n",
       "      <td>AADR</td>\n",
       "      <td>AADR</td>\n",
       "      <td>AADR</td>\n",
       "    </tr>\n",
       "  </tbody>\n",
       "</table>\n",
       "</div>"
      ],
      "text/plain": [
       "                                       Security Name Symbol CQS Symbol  \\\n",
       "0            Agilent Technologies, Inc. Common Stock      A          A   \n",
       "1                    Alcoa Corporation Common Stock      AA         AA   \n",
       "2                       Perth Mint Physical Gold ETF   AAAU       AAAU   \n",
       "3  ATA Creativity Global - American Depositary Sh...   AACG        NaN   \n",
       "4                AdvisorShares Dorsey Wright ADR ETF   AADR       AADR   \n",
       "\n",
       "  NASDAQ Symbol  \n",
       "0             A  \n",
       "1            AA  \n",
       "2          AAAU  \n",
       "3          AACG  \n",
       "4          AADR  "
      ]
     },
     "execution_count": 5,
     "metadata": {},
     "output_type": "execute_result"
    }
   ],
   "source": [
    "Symbols = wb.get_nasdaq_symbols(retry_count=3, timeout=30,pause=None)\n",
    "\n",
    "Symbols.to_csv(r'C:\\Users\\gordon\\CODE\\4Data\\0_Bulk\\NASDAQ_data.csv')\n",
    "nasdaq=pd.read_csv(r'C:\\Users\\gordon\\CODE\\4Data\\0_Bulk\\NASDAQ_data.csv')\\\n",
    "[['Security Name','Symbol', 'CQS Symbol', 'NASDAQ Symbol']]\n",
    "\n",
    "#Symbols\n",
    "nasdaq.head()"
   ]
  },
  {
   "cell_type": "code",
   "execution_count": 10,
   "metadata": {
    "ExecuteTime": {
     "end_time": "2020-03-07T04:23:42.806176Z",
     "start_time": "2020-03-07T04:23:42.768282Z"
    },
    "scrolled": false
   },
   "outputs": [
    {
     "name": "stdout",
     "output_type": "stream",
     "text": [
      "8854\n"
     ]
    }
   ],
   "source": [
    "NASDAQ_data = pd.read_csv(r'C:\\Users\\gordon\\CODE\\4Data\\0_Bulk\\NASDAQ_data.csv')\n",
    "NAS_ALL = []\n",
    "\n",
    "for n in NASDAQ_data['Symbol']:\n",
    "    NAS_ALL.append(n)\n",
    "NAS_ALL\n",
    "\n",
    "NAS_1 = NAS_ALL[:15]               #[:1105]\n",
    "#NAS_2 = NAS_ALL[:]               #[1105:2210]\n",
    "#NAS_3 = NAS_ALL[:]               #[2210:3315]\n",
    "#NAS_4 = NAS_ALL[:]               #[3315:4420]\n",
    "#NAS_5 = NAS_ALL[:]               #[4420:5525]\n",
    "#NAS_6 = NAS_ALL[:]               #[5530:6635]\n",
    "#NAS_7 = NAS_ALL[:]               #[6635:7740]\n",
    "#NAS_8 = NAS_ALL[:]               #[7740:8855]\n",
    "\n",
    "print(len(NAS_ALL))\n",
    "#print(len(NAS_1))\n",
    "#print(len(NAS_2))\n",
    "#print(len(NAS_3))\n",
    "#print(len(NAS_4))\n",
    "#print(len(NAS_5))\n",
    "#print(len(NAS_6))\n",
    "#print(len(NAS_7))\n",
    "#print(len(NAS_8))"
   ]
  },
  {
   "cell_type": "code",
   "execution_count": null,
   "metadata": {},
   "outputs": [],
   "source": []
  },
  {
   "cell_type": "code",
   "execution_count": 34,
   "metadata": {
    "ExecuteTime": {
     "end_time": "2020-03-02T02:06:03.750581Z",
     "start_time": "2020-03-02T02:06:03.741643Z"
    }
   },
   "outputs": [
    {
     "data": {
      "text/plain": [
       "2068"
      ]
     },
     "execution_count": 34,
     "metadata": {},
     "output_type": "execute_result"
    }
   ],
   "source": [
    "# list = ('A AAL AAP AAPL ABBV ABC ABMD ABT ACN ADBE ADI ADM ADP ADS ADSK AEE AEP AES AFL AGN AIG AIV AIZ AJG AKAM ALB ALGN ALK ALL ALLE ALXN AMAT AMCR AMD AME AMGN AMP AMT AMZN ANET ANSS ANTM AON AOS APA APD APH APTV ARE ARNC ATO ATVI AVB AVGO AVY AWK AXP AZO BA BAC BAX BBY BDX BEN BF.B BIIB BK BKNG BKR BLK BLL BMY BR BRK.B BSX BWA BXP C CAG CAH CAT CB CBOE CBRE CCI CCL CDNS CDW CE CERN CF CFG CHD CHRW CHTR CI CINF CL CLX CMA CMCSA CME CMG CMI CMS CNC CNP COF COG COO COP COST COTY CPB CPRI CPRT CRM CSCO CSX CTAS CTL CTSH CTVA CTXS CVS CVX CXO D DAL DD DE DFS DG DGX DHI DHR DIS DISCA DISCK DISH DLR DLTR DOV DOW DRE DRI DTE DUK DVA DVN DXC EA EBAY ECL ED EFX EIX EL EMN EMR EOG EQIX EQR ES ESS ETFC ETN ETR EVRG EW EXC EXPD EXPE EXR F FANG FAST FB FBHS FCX FDX FE FFIV FIS FISV FITB FLIR FLS FLT FMC FOX FOXA FRC FRT FTI FTNT FTV GD GE GILD GIS GL GLW GM GOOG GOOGL GPC GPN GPS GRMN GS GWW HAL HAS HBAN HBI HCA HD HES HFC HIG HII HLT HOG HOLX HON HP HPE HPQ HRB HRL HSIC HST HSY HUM IBM ICE IDXX IEX IFF ILMN INCY INFO INTC INTU IP IPG IPGP IQV IR IRM ISRG IT ITW IVZ J JBHT JCI JKHY JNJ JNPR JPM JWN K KEY KEYS KHC KIM KLAC KMB KMI KMX KO KR KSS KSU L LB LDOS LEG LEN LH LHX LIN LKQ LLY LMT LNC LNT LOW LRCX LUV LVS LW LYB LYV M MA MAA MAR MAS MCD MCHP MCK MCO MDLZ MDT MET MGM MHK MKC MKTX MLM MMC MMM MNST MO MOS MPC MRK MRO MS MSCI MSFT MSI MTB MTD MU MXIM MYL NBL NCLH NDAQ NEE NEM NFLX NI NKE NLOK NLSN NOC NOV NOW NRG NSC NTAP NTRS NUE NVDA NVR NWL NWS NWSA O ODFL OKE OMC ORCL ORLY OXY PAYC PAYX PBCT PCAR PEAK PEG PEP PFE PFG PG PGR PH PHM PKG PKI PLD PM PNC PNR PNW PPG PPL PRGO PRU PSA PSX PVH PWR PXD PYPL QCOM QRVO RCL RE REG REGN RF RHI RJF RL RMD ROK ROL ROP ROST RSG RTN SBAC SBUX SCHW SEE SHW SIVB SJM SLB SLG SNA SNPS SO SPG SPGI SRE STE STT STX STZ SWK SWKS SYF SYK SYY T TAP TDG TEL TFC TFX TGT TIF TJX TMO TMUS TPR TROW TRV TSCO TSN TTWO TWTR TXN TXT UA UAA UAL UDR UHS ULTA UNH UNM UNP UPS URI USB UTX V VAR VFC VIAC VLO VMC VNO VRSK VRSN VRTX VTR VZ WAB WAT WBA WDC WEC  WELL WFC WHR WLTW WM WMB WMT WRB WRK WU WY WYNN XEC XEL XLNX XOM XRAY XRX XYL YUM ZBH ZBRA ZION ZTS')\n",
    "\n",
    "list = ('A AAL AAP AAPL ABBV ABC ABMD ABT ACN ADBE ADI ADM ADP ADS\\\n",
    "ADSK AEE AEP AES AFL AGN AIG AIV AIZ AJG AKAM ALB ALGN ALK ALL ALLE ALXN AMAT\\\n",
    "AMCR AMD AME AMGN AMP AMT AMZN ANET ANSS ANTM AON AOS APA APD APH APTV ARE \\\n",
    "ARNC ATO ATVI AVB AVGO AVY AWK AXP AZO BA BAC BAX BBY BDX BEN BF.B BIIB BK\\\n",
    "BKNG BKR BLK BLL BMY BR BRK.B BSX BWA BXP C CAG CAH CAT CB CBOE CBRE CCI CCL\\\n",
    "CDNS CDW CE CERN CF CFG CHD CHRW CHTR CI CINF CL CLX CMA CMCSA CME CMG CMI \\\n",
    "CMS CNC CNP COF COG COO COP COST COTY CPB CPRI CPRT CRM CSCO CSX CTAS CTL\\\n",
    "CTSH CTVA CTXS CVS CVX CXO D DAL DD DE DFS DG DGX DHI DHR DIS DISCA DISCK\\\n",
    "DISH DLR DLTR DOV DOW DRE DRI DTE DUK DVA DVN DXC EA EBAY ECL ED EFX EIX\\\n",
    "EL EMN EMR EOG EQIX EQR ES ESS ETFC ETN ETR EVRG EW EXC EXPD EXPE EXR F FANG\\\n",
    "FAST FB FBHS FCX FDX FE FFIV FIS FISV FITB FLIR FLS FLT FMC FOX FOXA FRC\\\n",
    "FRT FTI FTNT FTV GD GE GILD GIS GL GLW GM GOOG GOOGL GPC GPN GPS GRMN GS \\\n",
    "GWW HAL HAS HBAN HBI HCA HD HES HFC HIG HII HLT HOG HOLX HON HP HPE HPQ \\\n",
    "HRB HRL HSIC HST HSY HUM IBM ICE IDXX IEX IFF ILMN INCY INFO INTC INTU IP\\\n",
    "IPG IPGP IQV IR IRM ISRG IT ITW IVZ J JBHT JCI JKHY JNJ JNPR JPM JWN K KEY\\\n",
    "KEYS KHC KIM KLAC KMB KMI KMX KO KR KSS KSU L LB LDOS LEG LEN LH LHX LIN \\\n",
    "LKQ LLY LMT LNC LNT LOW LRCX LUV LVS LW LYB LYV M MA MAA MAR MAS MCD MCHP\\\n",
    "MCK MCO MDLZ MDT MET MGM MHK MKC MKTX MLM MMC MMM MNST MO MOS MPC MRK MRO\\\n",
    "MS MSCI MSFT MSI MTB MTD MU MXIM MYL NBL NCLH NDAQ NEE NEM NFLX NI NKE NLOK\\\n",
    "NLSN NOC NOV NOW NRG NSC NTAP NTRS NUE NVDA NVR NWL NWS NWSA O ODFL OKE \\\n",
    "OMC ORCL ORLY OXY PAYC PAYX PBCT PCAR PEAK PEG PEP PFE PFG PG PGR PH PHM \\\n",
    "PKG PKI PLD PM PNC PNR PNW PPG PPL PRGO PRU PSA PSX PVH PWR PXD PYPL QCOM\\\n",
    "QRVO RCL RE REG REGN RF RHI RJF RL RMD ROK ROL ROP ROST RSG RTN SBAC SBUX\\\n",
    "SCHW SEE SHW SIVB SJM SLB SLG SNA SNPS SO SPG SPGI SRE STE STT STX STZ SWK\\\n",
    "SWKS SYF SYK SYY T TAP TDG TEL TFC TFX TGT TIF TJX TMO TMUS TPR TROW TRV\\\n",
    "TSCO TSN TTWO TWTR TXN TXT UA UAA UAL UDR UHS ULTA UNH UNM UNP UPS URI USB\\\n",
    "UTX V VAR VFC VIAC VLO VMC VNO VRSK VRSN VRTX VTR VZ WAB WAT WBA WDC WEC \\\n",
    "WELL WFC WHR WLTW WM WMB WMT WRB WRK WU WY WYNN XEC XEL XLNX XOM XRAY XRX\\\n",
    "XYL YUM ZBH ZBRA ZION ZTS')\n",
    "\n",
    "len(list)"
   ]
  },
  {
   "cell_type": "code",
   "execution_count": 40,
   "metadata": {},
   "outputs": [
    {
     "name": "stdout",
     "output_type": "stream",
     "text": [
      "['A', 'AAL', 'AAP', 'AAPL', 'ABBV', 'ABC', 'ABMD', 'ABT', 'ACN', 'ADBE', 'ADI', 'ADM', 'ADP', 'ADSADSK', 'AEE', 'AEP', 'AES', 'AFL', 'AGN', 'AIG', 'AIV', 'AIZ', 'AJG', 'AKAM', 'ALB', 'ALGN', 'ALK', 'ALL', 'ALLE', 'ALXN', 'AMATAMCR', 'AMD', 'AME', 'AMGN', 'AMP', 'AMT', 'AMZN', 'ANET', 'ANSS', 'ANTM', 'AON', 'AOS', 'APA', 'APD', 'APH', 'APTV', 'ARE', 'ARNC', 'ATO', 'ATVI', 'AVB', 'AVGO', 'AVY', 'AWK', 'AXP', 'AZO', 'BA', 'BAC', 'BAX', 'BBY', 'BDX', 'BEN', 'BF.B', 'BIIB', 'BKBKNG', 'BKR', 'BLK', 'BLL', 'BMY', 'BR', 'BRK.B', 'BSX', 'BWA', 'BXP', 'C', 'CAG', 'CAH', 'CAT', 'CB', 'CBOE', 'CBRE', 'CCI', 'CCLCDNS', 'CDW', 'CE', 'CERN', 'CF', 'CFG', 'CHD', 'CHRW', 'CHTR', 'CI', 'CINF', 'CL', 'CLX', 'CMA', 'CMCSA', 'CME', 'CMG', 'CMI', 'CMS', 'CNC', 'CNP', 'COF', 'COG', 'COO', 'COP', 'COST', 'COTY', 'CPB', 'CPRI', 'CPRT', 'CRM', 'CSCO', 'CSX', 'CTAS', 'CTLCTSH', 'CTVA', 'CTXS', 'CVS', 'CVX', 'CXO', 'D', 'DAL', 'DD', 'DE', 'DFS', 'DG', 'DGX', 'DHI', 'DHR', 'DIS', 'DISCA', 'DISCKDISH', 'DLR', 'DLTR', 'DOV', 'DOW', 'DRE', 'DRI', 'DTE', 'DUK', 'DVA', 'DVN', 'DXC', 'EA', 'EBAY', 'ECL', 'ED', 'EFX', 'EIXEL', 'EMN', 'EMR', 'EOG', 'EQIX', 'EQR', 'ES', 'ESS', 'ETFC', 'ETN', 'ETR', 'EVRG', 'EW', 'EXC', 'EXPD', 'EXPE', 'EXR', 'F', 'FANGFAST', 'FB', 'FBHS', 'FCX', 'FDX', 'FE', 'FFIV', 'FIS', 'FISV', 'FITB', 'FLIR', 'FLS', 'FLT', 'FMC', 'FOX', 'FOXA', 'FRCFRT', 'FTI', 'FTNT', 'FTV', 'GD', 'GE', 'GILD', 'GIS', 'GL', 'GLW', 'GM', 'GOOG', 'GOOGL', 'GPC', 'GPN', 'GPS', 'GRMN', 'GS', 'GWW', 'HAL', 'HAS', 'HBAN', 'HBI', 'HCA', 'HD', 'HES', 'HFC', 'HIG', 'HII', 'HLT', 'HOG', 'HOLX', 'HON', 'HP', 'HPE', 'HPQ', 'HRB', 'HRL', 'HSIC', 'HST', 'HSY', 'HUM', 'IBM', 'ICE', 'IDXX', 'IEX', 'IFF', 'ILMN', 'INCY', 'INFO', 'INTC', 'INTU', 'IPIPG', 'IPGP', 'IQV', 'IR', 'IRM', 'ISRG', 'IT', 'ITW', 'IVZ', 'J', 'JBHT', 'JCI', 'JKHY', 'JNJ', 'JNPR', 'JPM', 'JWN', 'K', 'KEYKEYS', 'KHC', 'KIM', 'KLAC', 'KMB', 'KMI', 'KMX', 'KO', 'KR', 'KSS', 'KSU', 'L', 'LB', 'LDOS', 'LEG', 'LEN', 'LH', 'LHX', 'LIN', 'LKQ', 'LLY', 'LMT', 'LNC', 'LNT', 'LOW', 'LRCX', 'LUV', 'LVS', 'LW', 'LYB', 'LYV', 'M', 'MA', 'MAA', 'MAR', 'MAS', 'MCD', 'MCHPMCK', 'MCO', 'MDLZ', 'MDT', 'MET', 'MGM', 'MHK', 'MKC', 'MKTX', 'MLM', 'MMC', 'MMM', 'MNST', 'MO', 'MOS', 'MPC', 'MRK', 'MROMS', 'MSCI', 'MSFT', 'MSI', 'MTB', 'MTD', 'MU', 'MXIM', 'MYL', 'NBL', 'NCLH', 'NDAQ', 'NEE', 'NEM', 'NFLX', 'NI', 'NKE', 'NLOKNLSN', 'NOC', 'NOV', 'NOW', 'NRG', 'NSC', 'NTAP', 'NTRS', 'NUE', 'NVDA', 'NVR', 'NWL', 'NWS', 'NWSA', 'O', 'ODFL', 'OKE', 'OMC', 'ORCL', 'ORLY', 'OXY', 'PAYC', 'PAYX', 'PBCT', 'PCAR', 'PEAK', 'PEG', 'PEP', 'PFE', 'PFG', 'PG', 'PGR', 'PH', 'PHM', 'PKG', 'PKI', 'PLD', 'PM', 'PNC', 'PNR', 'PNW', 'PPG', 'PPL', 'PRGO', 'PRU', 'PSA', 'PSX', 'PVH', 'PWR', 'PXD', 'PYPL', 'QCOMQRVO', 'RCL', 'RE', 'REG', 'REGN', 'RF', 'RHI', 'RJF', 'RL', 'RMD', 'ROK', 'ROL', 'ROP', 'ROST', 'RSG', 'RTN', 'SBAC', 'SBUXSCHW', 'SEE', 'SHW', 'SIVB', 'SJM', 'SLB', 'SLG', 'SNA', 'SNPS', 'SO', 'SPG', 'SPGI', 'SRE', 'STE', 'STT', 'STX', 'STZ', 'SWKSWKS', 'SYF', 'SYK', 'SYY', 'T', 'TAP', 'TDG', 'TEL', 'TFC', 'TFX', 'TGT', 'TIF', 'TJX', 'TMO', 'TMUS', 'TPR', 'TROW', 'TRVTSCO', 'TSN', 'TTWO', 'TWTR', 'TXN', 'TXT', 'UA', 'UAA', 'UAL', 'UDR', 'UHS', 'ULTA', 'UNH', 'UNM', 'UNP', 'UPS', 'URI', 'USBUTX', 'V', 'VAR', 'VFC', 'VIAC', 'VLO', 'VMC', 'VNO', 'VRSK', 'VRSN', 'VRTX', 'VTR', 'VZ', 'WAB', 'WAT', 'WBA', 'WDC', 'WEC', 'WELL', 'WFC', 'WHR', 'WLTW', 'WM', 'WMB', 'WMT', 'WRB', 'WRK', 'WU', 'WY', 'WYNN', 'XEC', 'XEL', 'XLNX', 'XOM', 'XRAY', 'XRXXYL', 'YUM', 'ZBH', 'ZBRA', 'ZION', 'ZTS']\n"
     ]
    }
   ],
   "source": [
    "new_l = list.split(' ')\n",
    "print(new_l)"
   ]
  },
  {
   "cell_type": "markdown",
   "metadata": {},
   "source": [
    "# Concept_One"
   ]
  },
  {
   "cell_type": "code",
   "execution_count": null,
   "metadata": {},
   "outputs": [],
   "source": [
    "#       C:/Users/gordon/CODE/4Data/3_Test/"
   ]
  },
  {
   "cell_type": "code",
   "execution_count": 231,
   "metadata": {
    "ExecuteTime": {
     "end_time": "2020-03-07T04:25:39.145609Z",
     "start_time": "2020-03-07T04:23:44.898651Z"
    },
    "scrolled": false
   },
   "outputs": [
    {
     "data": {
      "text/html": [
       "<div>\n",
       "<style scoped>\n",
       "    .dataframe tbody tr th:only-of-type {\n",
       "        vertical-align: middle;\n",
       "    }\n",
       "\n",
       "    .dataframe tbody tr th {\n",
       "        vertical-align: top;\n",
       "    }\n",
       "\n",
       "    .dataframe thead th {\n",
       "        text-align: right;\n",
       "    }\n",
       "</style>\n",
       "<table border=\"1\" class=\"dataframe\">\n",
       "  <thead>\n",
       "    <tr style=\"text-align: right;\">\n",
       "      <th></th>\n",
       "      <th>Attributes</th>\n",
       "      <th>Adj Close</th>\n",
       "      <th>Adj Close.1</th>\n",
       "      <th>Adj Close.2</th>\n",
       "      <th>Adj Close.3</th>\n",
       "      <th>Adj Close.4</th>\n",
       "      <th>Adj Close.5</th>\n",
       "      <th>Adj Close.6</th>\n",
       "      <th>Adj Close.7</th>\n",
       "      <th>Adj Close.8</th>\n",
       "      <th>...</th>\n",
       "      <th>Volume.5</th>\n",
       "      <th>Volume.6</th>\n",
       "      <th>Volume.7</th>\n",
       "      <th>Volume.8</th>\n",
       "      <th>Volume.9</th>\n",
       "      <th>Volume.10</th>\n",
       "      <th>Volume.11</th>\n",
       "      <th>Volume.12</th>\n",
       "      <th>Volume.13</th>\n",
       "      <th>Volume.14</th>\n",
       "    </tr>\n",
       "  </thead>\n",
       "  <tbody>\n",
       "    <tr>\n",
       "      <th>0</th>\n",
       "      <td>Symbols</td>\n",
       "      <td>A</td>\n",
       "      <td>AA</td>\n",
       "      <td>AAAU</td>\n",
       "      <td>AACG</td>\n",
       "      <td>AADR</td>\n",
       "      <td>AAL</td>\n",
       "      <td>AAMC</td>\n",
       "      <td>AAME</td>\n",
       "      <td>AAN</td>\n",
       "      <td>...</td>\n",
       "      <td>AAL</td>\n",
       "      <td>AAMC</td>\n",
       "      <td>AAME</td>\n",
       "      <td>AAN</td>\n",
       "      <td>AAOI</td>\n",
       "      <td>AAON</td>\n",
       "      <td>AAP</td>\n",
       "      <td>AAPL</td>\n",
       "      <td>AAT</td>\n",
       "      <td>AAU</td>\n",
       "    </tr>\n",
       "    <tr>\n",
       "      <th>1</th>\n",
       "      <td>Date</td>\n",
       "      <td>NaN</td>\n",
       "      <td>NaN</td>\n",
       "      <td>NaN</td>\n",
       "      <td>NaN</td>\n",
       "      <td>NaN</td>\n",
       "      <td>NaN</td>\n",
       "      <td>NaN</td>\n",
       "      <td>NaN</td>\n",
       "      <td>NaN</td>\n",
       "      <td>...</td>\n",
       "      <td>NaN</td>\n",
       "      <td>NaN</td>\n",
       "      <td>NaN</td>\n",
       "      <td>NaN</td>\n",
       "      <td>NaN</td>\n",
       "      <td>NaN</td>\n",
       "      <td>NaN</td>\n",
       "      <td>NaN</td>\n",
       "      <td>NaN</td>\n",
       "      <td>NaN</td>\n",
       "    </tr>\n",
       "    <tr>\n",
       "      <th>2</th>\n",
       "      <td>2019-01-02</td>\n",
       "      <td>64.96868133544922</td>\n",
       "      <td>26.239999771118164</td>\n",
       "      <td>13.050000190734863</td>\n",
       "      <td>NaN</td>\n",
       "      <td>40.0748176574707</td>\n",
       "      <td>31.963159561157227</td>\n",
       "      <td>30.010000228881836</td>\n",
       "      <td>2.470238208770752</td>\n",
       "      <td>43.27732467651367</td>\n",
       "      <td>...</td>\n",
       "      <td>5229500.0</td>\n",
       "      <td>8700.0</td>\n",
       "      <td>1800.0</td>\n",
       "      <td>789600.0</td>\n",
       "      <td>478300.0</td>\n",
       "      <td>124800.0</td>\n",
       "      <td>1291000.0</td>\n",
       "      <td>37039700.0</td>\n",
       "      <td>235000.0</td>\n",
       "      <td>203700.0</td>\n",
       "    </tr>\n",
       "    <tr>\n",
       "      <th>3</th>\n",
       "      <td>2019-01-03</td>\n",
       "      <td>62.57524871826172</td>\n",
       "      <td>26.239999771118164</td>\n",
       "      <td>12.930000305175781</td>\n",
       "      <td>NaN</td>\n",
       "      <td>39.627662658691406</td>\n",
       "      <td>29.5816650390625</td>\n",
       "      <td>30.309999465942383</td>\n",
       "      <td>2.6289684772491455</td>\n",
       "      <td>42.56068420410156</td>\n",
       "      <td>...</td>\n",
       "      <td>16822000.0</td>\n",
       "      <td>700.0</td>\n",
       "      <td>6900.0</td>\n",
       "      <td>566600.0</td>\n",
       "      <td>398400.0</td>\n",
       "      <td>165000.0</td>\n",
       "      <td>1514700.0</td>\n",
       "      <td>91312200.0</td>\n",
       "      <td>166400.0</td>\n",
       "      <td>136700.0</td>\n",
       "    </tr>\n",
       "    <tr>\n",
       "      <th>4</th>\n",
       "      <td>2019-01-04</td>\n",
       "      <td>64.74120330810547</td>\n",
       "      <td>28.34000015258789</td>\n",
       "      <td>12.84000015258789</td>\n",
       "      <td>NaN</td>\n",
       "      <td>41.16785430908203</td>\n",
       "      <td>31.530160903930664</td>\n",
       "      <td>29.760000228881836</td>\n",
       "      <td>2.9265873432159424</td>\n",
       "      <td>43.78495407104492</td>\n",
       "      <td>...</td>\n",
       "      <td>9369600.0</td>\n",
       "      <td>2000.0</td>\n",
       "      <td>1300.0</td>\n",
       "      <td>641100.0</td>\n",
       "      <td>765400.0</td>\n",
       "      <td>245700.0</td>\n",
       "      <td>1423000.0</td>\n",
       "      <td>58607100.0</td>\n",
       "      <td>240000.0</td>\n",
       "      <td>187000.0</td>\n",
       "    </tr>\n",
       "    <tr>\n",
       "      <th>...</th>\n",
       "      <td>...</td>\n",
       "      <td>...</td>\n",
       "      <td>...</td>\n",
       "      <td>...</td>\n",
       "      <td>...</td>\n",
       "      <td>...</td>\n",
       "      <td>...</td>\n",
       "      <td>...</td>\n",
       "      <td>...</td>\n",
       "      <td>...</td>\n",
       "      <td>...</td>\n",
       "      <td>...</td>\n",
       "      <td>...</td>\n",
       "      <td>...</td>\n",
       "      <td>...</td>\n",
       "      <td>...</td>\n",
       "      <td>...</td>\n",
       "      <td>...</td>\n",
       "      <td>...</td>\n",
       "      <td>...</td>\n",
       "      <td>...</td>\n",
       "    </tr>\n",
       "    <tr>\n",
       "      <th>249</th>\n",
       "      <td>2019-12-24</td>\n",
       "      <td>84.90418243408203</td>\n",
       "      <td>21.579999923706055</td>\n",
       "      <td>14.960000038146973</td>\n",
       "      <td>1.4299999475479126</td>\n",
       "      <td>54.0</td>\n",
       "      <td>29.07256317138672</td>\n",
       "      <td>13.300000190734863</td>\n",
       "      <td>1.8899999856948853</td>\n",
       "      <td>58.03342819213867</td>\n",
       "      <td>...</td>\n",
       "      <td>2373600.0</td>\n",
       "      <td>6900.0</td>\n",
       "      <td>1700.0</td>\n",
       "      <td>243100.0</td>\n",
       "      <td>165100.0</td>\n",
       "      <td>45100.0</td>\n",
       "      <td>324200.0</td>\n",
       "      <td>12119700.0</td>\n",
       "      <td>79000.0</td>\n",
       "      <td>565000.0</td>\n",
       "    </tr>\n",
       "    <tr>\n",
       "      <th>250</th>\n",
       "      <td>2019-12-26</td>\n",
       "      <td>85.05347442626953</td>\n",
       "      <td>21.450000762939453</td>\n",
       "      <td>15.069999694824219</td>\n",
       "      <td>1.4700000286102295</td>\n",
       "      <td>54.29999923706055</td>\n",
       "      <td>29.560758590698242</td>\n",
       "      <td>13.1899995803833</td>\n",
       "      <td>1.899999976158142</td>\n",
       "      <td>56.8260612487793</td>\n",
       "      <td>...</td>\n",
       "      <td>4746500.0</td>\n",
       "      <td>300.0</td>\n",
       "      <td>5900.0</td>\n",
       "      <td>463500.0</td>\n",
       "      <td>579400.0</td>\n",
       "      <td>57700.0</td>\n",
       "      <td>482300.0</td>\n",
       "      <td>23280300.0</td>\n",
       "      <td>95000.0</td>\n",
       "      <td>539400.0</td>\n",
       "    </tr>\n",
       "    <tr>\n",
       "      <th>251</th>\n",
       "      <td>2019-12-27</td>\n",
       "      <td>85.02362060546875</td>\n",
       "      <td>21.579999923706055</td>\n",
       "      <td>15.079999923706055</td>\n",
       "      <td>1.399999976158142</td>\n",
       "      <td>54.5099983215332</td>\n",
       "      <td>28.33528709411621</td>\n",
       "      <td>13.1899995803833</td>\n",
       "      <td>1.850000023841858</td>\n",
       "      <td>56.20741271972656</td>\n",
       "      <td>...</td>\n",
       "      <td>8416500.0</td>\n",
       "      <td>0.0</td>\n",
       "      <td>3500.0</td>\n",
       "      <td>479800.0</td>\n",
       "      <td>931600.0</td>\n",
       "      <td>69500.0</td>\n",
       "      <td>487200.0</td>\n",
       "      <td>36566500.0</td>\n",
       "      <td>172100.0</td>\n",
       "      <td>528800.0</td>\n",
       "    </tr>\n",
       "    <tr>\n",
       "      <th>252</th>\n",
       "      <td>2019-12-30</td>\n",
       "      <td>84.68448638916016</td>\n",
       "      <td>21.34000015258789</td>\n",
       "      <td>15.109999656677246</td>\n",
       "      <td>1.3799999952316284</td>\n",
       "      <td>54.099998474121094</td>\n",
       "      <td>28.19580078125</td>\n",
       "      <td>11.199999809265137</td>\n",
       "      <td>1.9199999570846558</td>\n",
       "      <td>56.74623489379883</td>\n",
       "      <td>...</td>\n",
       "      <td>4940300.0</td>\n",
       "      <td>20100.0</td>\n",
       "      <td>700.0</td>\n",
       "      <td>524100.0</td>\n",
       "      <td>484700.0</td>\n",
       "      <td>122100.0</td>\n",
       "      <td>563400.0</td>\n",
       "      <td>36028600.0</td>\n",
       "      <td>272800.0</td>\n",
       "      <td>245200.0</td>\n",
       "    </tr>\n",
       "    <tr>\n",
       "      <th>253</th>\n",
       "      <td>2019-12-31</td>\n",
       "      <td>85.09344482421875</td>\n",
       "      <td>21.510000228881836</td>\n",
       "      <td>15.149999618530273</td>\n",
       "      <td>1.3600000143051147</td>\n",
       "      <td>53.88999938964844</td>\n",
       "      <td>28.574403762817383</td>\n",
       "      <td>12.350000381469727</td>\n",
       "      <td>1.9700000286102295</td>\n",
       "      <td>56.985713958740234</td>\n",
       "      <td>...</td>\n",
       "      <td>4396800.0</td>\n",
       "      <td>21500.0</td>\n",
       "      <td>3400.0</td>\n",
       "      <td>729800.0</td>\n",
       "      <td>559800.0</td>\n",
       "      <td>178900.0</td>\n",
       "      <td>609600.0</td>\n",
       "      <td>25201400.0</td>\n",
       "      <td>322600.0</td>\n",
       "      <td>251800.0</td>\n",
       "    </tr>\n",
       "  </tbody>\n",
       "</table>\n",
       "<p>254 rows × 91 columns</p>\n",
       "</div>"
      ],
      "text/plain": [
       "     Attributes          Adj Close         Adj Close.1         Adj Close.2  \\\n",
       "0       Symbols                  A                  AA                AAAU   \n",
       "1          Date                NaN                 NaN                 NaN   \n",
       "2    2019-01-02  64.96868133544922  26.239999771118164  13.050000190734863   \n",
       "3    2019-01-03  62.57524871826172  26.239999771118164  12.930000305175781   \n",
       "4    2019-01-04  64.74120330810547   28.34000015258789   12.84000015258789   \n",
       "..          ...                ...                 ...                 ...   \n",
       "249  2019-12-24  84.90418243408203  21.579999923706055  14.960000038146973   \n",
       "250  2019-12-26  85.05347442626953  21.450000762939453  15.069999694824219   \n",
       "251  2019-12-27  85.02362060546875  21.579999923706055  15.079999923706055   \n",
       "252  2019-12-30  84.68448638916016   21.34000015258789  15.109999656677246   \n",
       "253  2019-12-31  85.09344482421875  21.510000228881836  15.149999618530273   \n",
       "\n",
       "            Adj Close.3         Adj Close.4         Adj Close.5  \\\n",
       "0                  AACG                AADR                 AAL   \n",
       "1                   NaN                 NaN                 NaN   \n",
       "2                   NaN    40.0748176574707  31.963159561157227   \n",
       "3                   NaN  39.627662658691406    29.5816650390625   \n",
       "4                   NaN   41.16785430908203  31.530160903930664   \n",
       "..                  ...                 ...                 ...   \n",
       "249  1.4299999475479126                54.0   29.07256317138672   \n",
       "250  1.4700000286102295   54.29999923706055  29.560758590698242   \n",
       "251   1.399999976158142    54.5099983215332   28.33528709411621   \n",
       "252  1.3799999952316284  54.099998474121094      28.19580078125   \n",
       "253  1.3600000143051147   53.88999938964844  28.574403762817383   \n",
       "\n",
       "            Adj Close.6         Adj Close.7         Adj Close.8  ...  \\\n",
       "0                  AAMC                AAME                 AAN  ...   \n",
       "1                   NaN                 NaN                 NaN  ...   \n",
       "2    30.010000228881836   2.470238208770752   43.27732467651367  ...   \n",
       "3    30.309999465942383  2.6289684772491455   42.56068420410156  ...   \n",
       "4    29.760000228881836  2.9265873432159424   43.78495407104492  ...   \n",
       "..                  ...                 ...                 ...  ...   \n",
       "249  13.300000190734863  1.8899999856948853   58.03342819213867  ...   \n",
       "250    13.1899995803833   1.899999976158142    56.8260612487793  ...   \n",
       "251    13.1899995803833   1.850000023841858   56.20741271972656  ...   \n",
       "252  11.199999809265137  1.9199999570846558   56.74623489379883  ...   \n",
       "253  12.350000381469727  1.9700000286102295  56.985713958740234  ...   \n",
       "\n",
       "       Volume.5 Volume.6 Volume.7  Volume.8  Volume.9 Volume.10  Volume.11  \\\n",
       "0           AAL     AAMC     AAME       AAN      AAOI      AAON        AAP   \n",
       "1           NaN      NaN      NaN       NaN       NaN       NaN        NaN   \n",
       "2     5229500.0   8700.0   1800.0  789600.0  478300.0  124800.0  1291000.0   \n",
       "3    16822000.0    700.0   6900.0  566600.0  398400.0  165000.0  1514700.0   \n",
       "4     9369600.0   2000.0   1300.0  641100.0  765400.0  245700.0  1423000.0   \n",
       "..          ...      ...      ...       ...       ...       ...        ...   \n",
       "249   2373600.0   6900.0   1700.0  243100.0  165100.0   45100.0   324200.0   \n",
       "250   4746500.0    300.0   5900.0  463500.0  579400.0   57700.0   482300.0   \n",
       "251   8416500.0      0.0   3500.0  479800.0  931600.0   69500.0   487200.0   \n",
       "252   4940300.0  20100.0    700.0  524100.0  484700.0  122100.0   563400.0   \n",
       "253   4396800.0  21500.0   3400.0  729800.0  559800.0  178900.0   609600.0   \n",
       "\n",
       "      Volume.12 Volume.13 Volume.14  \n",
       "0          AAPL       AAT       AAU  \n",
       "1           NaN       NaN       NaN  \n",
       "2    37039700.0  235000.0  203700.0  \n",
       "3    91312200.0  166400.0  136700.0  \n",
       "4    58607100.0  240000.0  187000.0  \n",
       "..          ...       ...       ...  \n",
       "249  12119700.0   79000.0  565000.0  \n",
       "250  23280300.0   95000.0  539400.0  \n",
       "251  36566500.0  172100.0  528800.0  \n",
       "252  36028600.0  272800.0  245200.0  \n",
       "253  25201400.0  322600.0  251800.0  \n",
       "\n",
       "[254 rows x 91 columns]"
      ]
     },
     "execution_count": 231,
     "metadata": {},
     "output_type": "execute_result"
    }
   ],
   "source": [
    "start = datetime(2019, 1, 1)\n",
    "end = datetime(2020, 1, 1)\n",
    "\n",
    "stock_data = pd.DataFrame()\n",
    "sData = pd.DataFrame()\n",
    "stock_data = pdr.DataReader(NAS_1, 'yahoo', start, end)\n",
    "\n",
    "stock_data.to_csv(r'C:/Users/gordon/CODE/4Data/3_Test/NAS101.csv')\n",
    "sData = pd.read_csv(r'C:/Users/gordon/CODE/4Data/3_Test/NAS101.csv')\n",
    "\n",
    "sData"
   ]
  },
  {
   "cell_type": "code",
   "execution_count": 221,
   "metadata": {
    "ExecuteTime": {
     "end_time": "2020-03-07T04:27:52.166710Z",
     "start_time": "2020-03-07T04:26:59.574337Z"
    },
    "scrolled": false
   },
   "outputs": [
    {
     "data": {
      "image/png": "[encoded data removed]",
      "text/plain": [
       "<Figure size 1080x792 with 1 Axes>"
      ]
     },
     "metadata": {
      "needs_background": "light"
     },
     "output_type": "display_data"
    },
    {
     "data": {
      "image/png": "[encoded data removed]",
      "text/plain": [
       "<Figure size 1080x432 with 1 Axes>"
      ]
     },
     "metadata": {
      "needs_background": "light"
     },
     "output_type": "display_data"
    }
   ],
   "source": [
    "df_r.plot(grid = True, figsize=(15,11)).axhline(y = 1, color = \"black\", lw = 2)\n",
    "plt.title('PRICE CHANGE vs TIME:')\n",
    "plt.legend()\n",
    "plt.show()\n",
    "\n",
    "(stock_data['Close'] / stock_data['Close'].iloc[0] * 100).plot(figsize=(15,6))\n",
    "plt.show()"
   ]
  },
  {
   "cell_type": "code",
   "execution_count": 222,
   "metadata": {},
   "outputs": [
    {
     "name": "stdout",
     "output_type": "stream",
     "text": [
      "['A', 'AA', 'AAAU', 'AACG', 'AADR', 'AAL', 'AAMC', 'AAME', 'AAN', 'AAOI', 'AAON', 'AAP', 'AAPL', 'AAT', 'AAU']\n"
     ]
    },
    {
     "data": {
      "text/html": [
       "<div>\n",
       "<style scoped>\n",
       "    .dataframe tbody tr th:only-of-type {\n",
       "        vertical-align: middle;\n",
       "    }\n",
       "\n",
       "    .dataframe tbody tr th {\n",
       "        vertical-align: top;\n",
       "    }\n",
       "\n",
       "    .dataframe thead th {\n",
       "        text-align: right;\n",
       "    }\n",
       "</style>\n",
       "<table border=\"1\" class=\"dataframe\">\n",
       "  <thead>\n",
       "    <tr style=\"text-align: right;\">\n",
       "      <th>Symbols</th>\n",
       "      <th>A</th>\n",
       "      <th>AA</th>\n",
       "      <th>AAAU</th>\n",
       "      <th>AACG</th>\n",
       "      <th>AADR</th>\n",
       "      <th>AAL</th>\n",
       "      <th>AAMC</th>\n",
       "      <th>AAME</th>\n",
       "      <th>AAN</th>\n",
       "      <th>AAOI</th>\n",
       "      <th>AAON</th>\n",
       "      <th>AAP</th>\n",
       "      <th>AAPL</th>\n",
       "      <th>AAT</th>\n",
       "      <th>AAU</th>\n",
       "    </tr>\n",
       "    <tr>\n",
       "      <th>Date</th>\n",
       "      <th></th>\n",
       "      <th></th>\n",
       "      <th></th>\n",
       "      <th></th>\n",
       "      <th></th>\n",
       "      <th></th>\n",
       "      <th></th>\n",
       "      <th></th>\n",
       "      <th></th>\n",
       "      <th></th>\n",
       "      <th></th>\n",
       "      <th></th>\n",
       "      <th></th>\n",
       "      <th></th>\n",
       "      <th></th>\n",
       "    </tr>\n",
       "  </thead>\n",
       "  <tbody>\n",
       "    <tr>\n",
       "      <th>2019-12-24</th>\n",
       "      <td>85.300003</td>\n",
       "      <td>21.580000</td>\n",
       "      <td>14.96</td>\n",
       "      <td>1.43</td>\n",
       "      <td>54.000000</td>\n",
       "      <td>29.180000</td>\n",
       "      <td>13.30</td>\n",
       "      <td>1.89</td>\n",
       "      <td>58.160000</td>\n",
       "      <td>11.12</td>\n",
       "      <td>49.799999</td>\n",
       "      <td>160.570007</td>\n",
       "      <td>284.269989</td>\n",
       "      <td>44.730000</td>\n",
       "      <td>0.55</td>\n",
       "    </tr>\n",
       "    <tr>\n",
       "      <th>2019-12-26</th>\n",
       "      <td>85.449997</td>\n",
       "      <td>21.450001</td>\n",
       "      <td>15.07</td>\n",
       "      <td>1.47</td>\n",
       "      <td>54.299999</td>\n",
       "      <td>29.670000</td>\n",
       "      <td>13.19</td>\n",
       "      <td>1.90</td>\n",
       "      <td>56.950001</td>\n",
       "      <td>11.61</td>\n",
       "      <td>49.900002</td>\n",
       "      <td>159.270004</td>\n",
       "      <td>289.910004</td>\n",
       "      <td>44.939999</td>\n",
       "      <td>0.62</td>\n",
       "    </tr>\n",
       "    <tr>\n",
       "      <th>2019-12-27</th>\n",
       "      <td>85.419998</td>\n",
       "      <td>21.580000</td>\n",
       "      <td>15.08</td>\n",
       "      <td>1.40</td>\n",
       "      <td>54.509998</td>\n",
       "      <td>28.440001</td>\n",
       "      <td>13.19</td>\n",
       "      <td>1.85</td>\n",
       "      <td>56.330002</td>\n",
       "      <td>11.52</td>\n",
       "      <td>49.810001</td>\n",
       "      <td>158.350006</td>\n",
       "      <td>289.799988</td>\n",
       "      <td>45.250000</td>\n",
       "      <td>0.57</td>\n",
       "    </tr>\n",
       "    <tr>\n",
       "      <th>2019-12-30</th>\n",
       "      <td>84.900002</td>\n",
       "      <td>21.340000</td>\n",
       "      <td>15.11</td>\n",
       "      <td>1.38</td>\n",
       "      <td>54.099998</td>\n",
       "      <td>28.299999</td>\n",
       "      <td>11.20</td>\n",
       "      <td>1.92</td>\n",
       "      <td>56.869999</td>\n",
       "      <td>11.61</td>\n",
       "      <td>49.380001</td>\n",
       "      <td>159.119995</td>\n",
       "      <td>291.519989</td>\n",
       "      <td>45.500000</td>\n",
       "      <td>0.57</td>\n",
       "    </tr>\n",
       "    <tr>\n",
       "      <th>2019-12-31</th>\n",
       "      <td>85.309998</td>\n",
       "      <td>21.510000</td>\n",
       "      <td>15.15</td>\n",
       "      <td>1.36</td>\n",
       "      <td>53.889999</td>\n",
       "      <td>28.680000</td>\n",
       "      <td>12.35</td>\n",
       "      <td>1.97</td>\n",
       "      <td>57.110001</td>\n",
       "      <td>11.88</td>\n",
       "      <td>49.410000</td>\n",
       "      <td>160.160004</td>\n",
       "      <td>293.649994</td>\n",
       "      <td>45.900002</td>\n",
       "      <td>0.59</td>\n",
       "    </tr>\n",
       "  </tbody>\n",
       "</table>\n",
       "</div>"
      ],
      "text/plain": [
       "Symbols             A         AA   AAAU  AACG       AADR        AAL   AAMC  \\\n",
       "Date                                                                         \n",
       "2019-12-24  85.300003  21.580000  14.96  1.43  54.000000  29.180000  13.30   \n",
       "2019-12-26  85.449997  21.450001  15.07  1.47  54.299999  29.670000  13.19   \n",
       "2019-12-27  85.419998  21.580000  15.08  1.40  54.509998  28.440001  13.19   \n",
       "2019-12-30  84.900002  21.340000  15.11  1.38  54.099998  28.299999  11.20   \n",
       "2019-12-31  85.309998  21.510000  15.15  1.36  53.889999  28.680000  12.35   \n",
       "\n",
       "Symbols     AAME        AAN   AAOI       AAON         AAP        AAPL  \\\n",
       "Date                                                                    \n",
       "2019-12-24  1.89  58.160000  11.12  49.799999  160.570007  284.269989   \n",
       "2019-12-26  1.90  56.950001  11.61  49.900002  159.270004  289.910004   \n",
       "2019-12-27  1.85  56.330002  11.52  49.810001  158.350006  289.799988   \n",
       "2019-12-30  1.92  56.869999  11.61  49.380001  159.119995  291.519989   \n",
       "2019-12-31  1.97  57.110001  11.88  49.410000  160.160004  293.649994   \n",
       "\n",
       "Symbols           AAT   AAU  \n",
       "Date                         \n",
       "2019-12-24  44.730000  0.55  \n",
       "2019-12-26  44.939999  0.62  \n",
       "2019-12-27  45.250000  0.57  \n",
       "2019-12-30  45.500000  0.57  \n",
       "2019-12-31  45.900002  0.59  "
      ]
     },
     "execution_count": 222,
     "metadata": {},
     "output_type": "execute_result"
    }
   ],
   "source": [
    "################### df RETURNED FROM DATA ABOVE:\n",
    "NAS_1\n",
    "NAS_2208\n",
    "NAS_3316\n",
    "NAS_4424\n",
    "NAS_5532\n",
    "NAS_6640\n",
    "NAS_7748\n",
    "NAS_8855\n",
    "print(NAS_1)\n",
    "stock_data['Close'].tail()"
   ]
  },
  {
   "cell_type": "code",
   "execution_count": 223,
   "metadata": {},
   "outputs": [
    {
     "name": "stdout",
     "output_type": "stream",
     "text": [
      "\n"
     ]
    }
   ],
   "source": [
    "########################################### SET START DATE AND LOC IT\n",
    "    # .loc requirements = 'dates'    \n",
    "stock_data.loc['2019-01-02']\n",
    "print('')"
   ]
  },
  {
   "cell_type": "code",
   "execution_count": 224,
   "metadata": {},
   "outputs": [
    {
     "ename": "KeyError",
     "evalue": "'Date'",
     "output_type": "error",
     "traceback": [
      "\u001b[1;31m---------------------------------------------------------------------------\u001b[0m",
      "\u001b[1;31mKeyError\u001b[0m                                  Traceback (most recent call last)",
      "\u001b[1;32mC:\\ProgramData\\Anaconda3\\lib\\site-packages\\pandas\\core\\indexes\\base.py\u001b[0m in \u001b[0;36mget_loc\u001b[1;34m(self, key, method, tolerance)\u001b[0m\n\u001b[0;32m   2645\u001b[0m             \u001b[1;32mtry\u001b[0m\u001b[1;33m:\u001b[0m\u001b[1;33m\u001b[0m\u001b[1;33m\u001b[0m\u001b[0m\n\u001b[1;32m-> 2646\u001b[1;33m                 \u001b[1;32mreturn\u001b[0m \u001b[0mself\u001b[0m\u001b[1;33m.\u001b[0m\u001b[0m_engine\u001b[0m\u001b[1;33m.\u001b[0m\u001b[0mget_loc\u001b[0m\u001b[1;33m(\u001b[0m\u001b[0mkey\u001b[0m\u001b[1;33m)\u001b[0m\u001b[1;33m\u001b[0m\u001b[1;33m\u001b[0m\u001b[0m\n\u001b[0m\u001b[0;32m   2647\u001b[0m             \u001b[1;32mexcept\u001b[0m \u001b[0mKeyError\u001b[0m\u001b[1;33m:\u001b[0m\u001b[1;33m\u001b[0m\u001b[1;33m\u001b[0m\u001b[0m\n",
      "\u001b[1;32mpandas\\_libs\\index.pyx\u001b[0m in \u001b[0;36mpandas._libs.index.IndexEngine.get_loc\u001b[1;34m()\u001b[0m\n",
      "\u001b[1;32mpandas\\_libs\\index.pyx\u001b[0m in \u001b[0;36mpandas._libs.index.IndexEngine.get_loc\u001b[1;34m()\u001b[0m\n",
      "\u001b[1;32mpandas\\_libs\\hashtable_class_helper.pxi\u001b[0m in \u001b[0;36mpandas._libs.hashtable.PyObjectHashTable.get_item\u001b[1;34m()\u001b[0m\n",
      "\u001b[1;32mpandas\\_libs\\hashtable_class_helper.pxi\u001b[0m in \u001b[0;36mpandas._libs.hashtable.PyObjectHashTable.get_item\u001b[1;34m()\u001b[0m\n",
      "\u001b[1;31mKeyError\u001b[0m: 'Date'",
      "\nDuring handling of the above exception, another exception occurred:\n",
      "\u001b[1;31mKeyError\u001b[0m                                  Traceback (most recent call last)",
      "\u001b[1;32m<ipython-input-224-8c48c25fa116>\u001b[0m in \u001b[0;36m<module>\u001b[1;34m\u001b[0m\n\u001b[1;32m----> 1\u001b[1;33m \u001b[0mstock_data\u001b[0m\u001b[1;33m[\u001b[0m\u001b[1;34m'Date'\u001b[0m\u001b[1;33m]\u001b[0m\u001b[1;33m\u001b[0m\u001b[1;33m\u001b[0m\u001b[0m\n\u001b[0m",
      "\u001b[1;32mC:\\ProgramData\\Anaconda3\\lib\\site-packages\\pandas\\core\\frame.py\u001b[0m in \u001b[0;36m__getitem__\u001b[1;34m(self, key)\u001b[0m\n\u001b[0;32m   2797\u001b[0m         \u001b[1;32mif\u001b[0m \u001b[0mis_single_key\u001b[0m\u001b[1;33m:\u001b[0m\u001b[1;33m\u001b[0m\u001b[1;33m\u001b[0m\u001b[0m\n\u001b[0;32m   2798\u001b[0m             \u001b[1;32mif\u001b[0m \u001b[0mself\u001b[0m\u001b[1;33m.\u001b[0m\u001b[0mcolumns\u001b[0m\u001b[1;33m.\u001b[0m\u001b[0mnlevels\u001b[0m \u001b[1;33m>\u001b[0m \u001b[1;36m1\u001b[0m\u001b[1;33m:\u001b[0m\u001b[1;33m\u001b[0m\u001b[1;33m\u001b[0m\u001b[0m\n\u001b[1;32m-> 2799\u001b[1;33m                 \u001b[1;32mreturn\u001b[0m \u001b[0mself\u001b[0m\u001b[1;33m.\u001b[0m\u001b[0m_getitem_multilevel\u001b[0m\u001b[1;33m(\u001b[0m\u001b[0mkey\u001b[0m\u001b[1;33m)\u001b[0m\u001b[1;33m\u001b[0m\u001b[1;33m\u001b[0m\u001b[0m\n\u001b[0m\u001b[0;32m   2800\u001b[0m             \u001b[0mindexer\u001b[0m \u001b[1;33m=\u001b[0m \u001b[0mself\u001b[0m\u001b[1;33m.\u001b[0m\u001b[0mcolumns\u001b[0m\u001b[1;33m.\u001b[0m\u001b[0mget_loc\u001b[0m\u001b[1;33m(\u001b[0m\u001b[0mkey\u001b[0m\u001b[1;33m)\u001b[0m\u001b[1;33m\u001b[0m\u001b[1;33m\u001b[0m\u001b[0m\n\u001b[0;32m   2801\u001b[0m             \u001b[1;32mif\u001b[0m \u001b[0mis_integer\u001b[0m\u001b[1;33m(\u001b[0m\u001b[0mindexer\u001b[0m\u001b[1;33m)\u001b[0m\u001b[1;33m:\u001b[0m\u001b[1;33m\u001b[0m\u001b[1;33m\u001b[0m\u001b[0m\n",
      "\u001b[1;32mC:\\ProgramData\\Anaconda3\\lib\\site-packages\\pandas\\core\\frame.py\u001b[0m in \u001b[0;36m_getitem_multilevel\u001b[1;34m(self, key)\u001b[0m\n\u001b[0;32m   2847\u001b[0m     \u001b[1;32mdef\u001b[0m \u001b[0m_getitem_multilevel\u001b[0m\u001b[1;33m(\u001b[0m\u001b[0mself\u001b[0m\u001b[1;33m,\u001b[0m \u001b[0mkey\u001b[0m\u001b[1;33m)\u001b[0m\u001b[1;33m:\u001b[0m\u001b[1;33m\u001b[0m\u001b[1;33m\u001b[0m\u001b[0m\n\u001b[0;32m   2848\u001b[0m         \u001b[1;31m# self.columns is a MultiIndex\u001b[0m\u001b[1;33m\u001b[0m\u001b[1;33m\u001b[0m\u001b[1;33m\u001b[0m\u001b[0m\n\u001b[1;32m-> 2849\u001b[1;33m         \u001b[0mloc\u001b[0m \u001b[1;33m=\u001b[0m \u001b[0mself\u001b[0m\u001b[1;33m.\u001b[0m\u001b[0mcolumns\u001b[0m\u001b[1;33m.\u001b[0m\u001b[0mget_loc\u001b[0m\u001b[1;33m(\u001b[0m\u001b[0mkey\u001b[0m\u001b[1;33m)\u001b[0m\u001b[1;33m\u001b[0m\u001b[1;33m\u001b[0m\u001b[0m\n\u001b[0m\u001b[0;32m   2850\u001b[0m         \u001b[1;32mif\u001b[0m \u001b[0misinstance\u001b[0m\u001b[1;33m(\u001b[0m\u001b[0mloc\u001b[0m\u001b[1;33m,\u001b[0m \u001b[1;33m(\u001b[0m\u001b[0mslice\u001b[0m\u001b[1;33m,\u001b[0m \u001b[0mSeries\u001b[0m\u001b[1;33m,\u001b[0m \u001b[0mnp\u001b[0m\u001b[1;33m.\u001b[0m\u001b[0mndarray\u001b[0m\u001b[1;33m,\u001b[0m \u001b[0mIndex\u001b[0m\u001b[1;33m)\u001b[0m\u001b[1;33m)\u001b[0m\u001b[1;33m:\u001b[0m\u001b[1;33m\u001b[0m\u001b[1;33m\u001b[0m\u001b[0m\n\u001b[0;32m   2851\u001b[0m             \u001b[0mnew_columns\u001b[0m \u001b[1;33m=\u001b[0m \u001b[0mself\u001b[0m\u001b[1;33m.\u001b[0m\u001b[0mcolumns\u001b[0m\u001b[1;33m[\u001b[0m\u001b[0mloc\u001b[0m\u001b[1;33m]\u001b[0m\u001b[1;33m\u001b[0m\u001b[1;33m\u001b[0m\u001b[0m\n",
      "\u001b[1;32mC:\\ProgramData\\Anaconda3\\lib\\site-packages\\pandas\\core\\indexes\\multi.py\u001b[0m in \u001b[0;36mget_loc\u001b[1;34m(self, key, method)\u001b[0m\n\u001b[0;32m   2660\u001b[0m         \u001b[1;32mif\u001b[0m \u001b[1;32mnot\u001b[0m \u001b[0misinstance\u001b[0m\u001b[1;33m(\u001b[0m\u001b[0mkey\u001b[0m\u001b[1;33m,\u001b[0m \u001b[1;33m(\u001b[0m\u001b[0mtuple\u001b[0m\u001b[1;33m,\u001b[0m \u001b[0mlist\u001b[0m\u001b[1;33m)\u001b[0m\u001b[1;33m)\u001b[0m\u001b[1;33m:\u001b[0m\u001b[1;33m\u001b[0m\u001b[1;33m\u001b[0m\u001b[0m\n\u001b[0;32m   2661\u001b[0m             \u001b[1;31m# not including list here breaks some indexing, xref #30892\u001b[0m\u001b[1;33m\u001b[0m\u001b[1;33m\u001b[0m\u001b[1;33m\u001b[0m\u001b[0m\n\u001b[1;32m-> 2662\u001b[1;33m             \u001b[0mloc\u001b[0m \u001b[1;33m=\u001b[0m \u001b[0mself\u001b[0m\u001b[1;33m.\u001b[0m\u001b[0m_get_level_indexer\u001b[0m\u001b[1;33m(\u001b[0m\u001b[0mkey\u001b[0m\u001b[1;33m,\u001b[0m \u001b[0mlevel\u001b[0m\u001b[1;33m=\u001b[0m\u001b[1;36m0\u001b[0m\u001b[1;33m)\u001b[0m\u001b[1;33m\u001b[0m\u001b[1;33m\u001b[0m\u001b[0m\n\u001b[0m\u001b[0;32m   2663\u001b[0m             \u001b[1;32mreturn\u001b[0m \u001b[0m_maybe_to_slice\u001b[0m\u001b[1;33m(\u001b[0m\u001b[0mloc\u001b[0m\u001b[1;33m)\u001b[0m\u001b[1;33m\u001b[0m\u001b[1;33m\u001b[0m\u001b[0m\n\u001b[0;32m   2664\u001b[0m \u001b[1;33m\u001b[0m\u001b[0m\n",
      "\u001b[1;32mC:\\ProgramData\\Anaconda3\\lib\\site-packages\\pandas\\core\\indexes\\multi.py\u001b[0m in \u001b[0;36m_get_level_indexer\u001b[1;34m(self, key, level, indexer)\u001b[0m\n\u001b[0;32m   2927\u001b[0m         \u001b[1;32melse\u001b[0m\u001b[1;33m:\u001b[0m\u001b[1;33m\u001b[0m\u001b[1;33m\u001b[0m\u001b[0m\n\u001b[0;32m   2928\u001b[0m \u001b[1;33m\u001b[0m\u001b[0m\n\u001b[1;32m-> 2929\u001b[1;33m             \u001b[0mcode\u001b[0m \u001b[1;33m=\u001b[0m \u001b[0mself\u001b[0m\u001b[1;33m.\u001b[0m\u001b[0m_get_loc_single_level_index\u001b[0m\u001b[1;33m(\u001b[0m\u001b[0mlevel_index\u001b[0m\u001b[1;33m,\u001b[0m \u001b[0mkey\u001b[0m\u001b[1;33m)\u001b[0m\u001b[1;33m\u001b[0m\u001b[1;33m\u001b[0m\u001b[0m\n\u001b[0m\u001b[0;32m   2930\u001b[0m \u001b[1;33m\u001b[0m\u001b[0m\n\u001b[0;32m   2931\u001b[0m             \u001b[1;32mif\u001b[0m \u001b[0mlevel\u001b[0m \u001b[1;33m>\u001b[0m \u001b[1;36m0\u001b[0m \u001b[1;32mor\u001b[0m \u001b[0mself\u001b[0m\u001b[1;33m.\u001b[0m\u001b[0mlexsort_depth\u001b[0m \u001b[1;33m==\u001b[0m \u001b[1;36m0\u001b[0m\u001b[1;33m:\u001b[0m\u001b[1;33m\u001b[0m\u001b[1;33m\u001b[0m\u001b[0m\n",
      "\u001b[1;32mC:\\ProgramData\\Anaconda3\\lib\\site-packages\\pandas\\core\\indexes\\multi.py\u001b[0m in \u001b[0;36m_get_loc_single_level_index\u001b[1;34m(self, level_index, key)\u001b[0m\n\u001b[0;32m   2596\u001b[0m             \u001b[1;32mreturn\u001b[0m \u001b[1;33m-\u001b[0m\u001b[1;36m1\u001b[0m\u001b[1;33m\u001b[0m\u001b[1;33m\u001b[0m\u001b[0m\n\u001b[0;32m   2597\u001b[0m         \u001b[1;32melse\u001b[0m\u001b[1;33m:\u001b[0m\u001b[1;33m\u001b[0m\u001b[1;33m\u001b[0m\u001b[0m\n\u001b[1;32m-> 2598\u001b[1;33m             \u001b[1;32mreturn\u001b[0m \u001b[0mlevel_index\u001b[0m\u001b[1;33m.\u001b[0m\u001b[0mget_loc\u001b[0m\u001b[1;33m(\u001b[0m\u001b[0mkey\u001b[0m\u001b[1;33m)\u001b[0m\u001b[1;33m\u001b[0m\u001b[1;33m\u001b[0m\u001b[0m\n\u001b[0m\u001b[0;32m   2599\u001b[0m \u001b[1;33m\u001b[0m\u001b[0m\n\u001b[0;32m   2600\u001b[0m     \u001b[1;32mdef\u001b[0m \u001b[0mget_loc\u001b[0m\u001b[1;33m(\u001b[0m\u001b[0mself\u001b[0m\u001b[1;33m,\u001b[0m \u001b[0mkey\u001b[0m\u001b[1;33m,\u001b[0m \u001b[0mmethod\u001b[0m\u001b[1;33m=\u001b[0m\u001b[1;32mNone\u001b[0m\u001b[1;33m)\u001b[0m\u001b[1;33m:\u001b[0m\u001b[1;33m\u001b[0m\u001b[1;33m\u001b[0m\u001b[0m\n",
      "\u001b[1;32mC:\\ProgramData\\Anaconda3\\lib\\site-packages\\pandas\\core\\indexes\\base.py\u001b[0m in \u001b[0;36mget_loc\u001b[1;34m(self, key, method, tolerance)\u001b[0m\n\u001b[0;32m   2646\u001b[0m                 \u001b[1;32mreturn\u001b[0m \u001b[0mself\u001b[0m\u001b[1;33m.\u001b[0m\u001b[0m_engine\u001b[0m\u001b[1;33m.\u001b[0m\u001b[0mget_loc\u001b[0m\u001b[1;33m(\u001b[0m\u001b[0mkey\u001b[0m\u001b[1;33m)\u001b[0m\u001b[1;33m\u001b[0m\u001b[1;33m\u001b[0m\u001b[0m\n\u001b[0;32m   2647\u001b[0m             \u001b[1;32mexcept\u001b[0m \u001b[0mKeyError\u001b[0m\u001b[1;33m:\u001b[0m\u001b[1;33m\u001b[0m\u001b[1;33m\u001b[0m\u001b[0m\n\u001b[1;32m-> 2648\u001b[1;33m                 \u001b[1;32mreturn\u001b[0m \u001b[0mself\u001b[0m\u001b[1;33m.\u001b[0m\u001b[0m_engine\u001b[0m\u001b[1;33m.\u001b[0m\u001b[0mget_loc\u001b[0m\u001b[1;33m(\u001b[0m\u001b[0mself\u001b[0m\u001b[1;33m.\u001b[0m\u001b[0m_maybe_cast_indexer\u001b[0m\u001b[1;33m(\u001b[0m\u001b[0mkey\u001b[0m\u001b[1;33m)\u001b[0m\u001b[1;33m)\u001b[0m\u001b[1;33m\u001b[0m\u001b[1;33m\u001b[0m\u001b[0m\n\u001b[0m\u001b[0;32m   2649\u001b[0m         \u001b[0mindexer\u001b[0m \u001b[1;33m=\u001b[0m \u001b[0mself\u001b[0m\u001b[1;33m.\u001b[0m\u001b[0mget_indexer\u001b[0m\u001b[1;33m(\u001b[0m\u001b[1;33m[\u001b[0m\u001b[0mkey\u001b[0m\u001b[1;33m]\u001b[0m\u001b[1;33m,\u001b[0m \u001b[0mmethod\u001b[0m\u001b[1;33m=\u001b[0m\u001b[0mmethod\u001b[0m\u001b[1;33m,\u001b[0m \u001b[0mtolerance\u001b[0m\u001b[1;33m=\u001b[0m\u001b[0mtolerance\u001b[0m\u001b[1;33m)\u001b[0m\u001b[1;33m\u001b[0m\u001b[1;33m\u001b[0m\u001b[0m\n\u001b[0;32m   2650\u001b[0m         \u001b[1;32mif\u001b[0m \u001b[0mindexer\u001b[0m\u001b[1;33m.\u001b[0m\u001b[0mndim\u001b[0m \u001b[1;33m>\u001b[0m \u001b[1;36m1\u001b[0m \u001b[1;32mor\u001b[0m \u001b[0mindexer\u001b[0m\u001b[1;33m.\u001b[0m\u001b[0msize\u001b[0m \u001b[1;33m>\u001b[0m \u001b[1;36m1\u001b[0m\u001b[1;33m:\u001b[0m\u001b[1;33m\u001b[0m\u001b[1;33m\u001b[0m\u001b[0m\n",
      "\u001b[1;32mpandas\\_libs\\index.pyx\u001b[0m in \u001b[0;36mpandas._libs.index.IndexEngine.get_loc\u001b[1;34m()\u001b[0m\n",
      "\u001b[1;32mpandas\\_libs\\index.pyx\u001b[0m in \u001b[0;36mpandas._libs.index.IndexEngine.get_loc\u001b[1;34m()\u001b[0m\n",
      "\u001b[1;32mpandas\\_libs\\hashtable_class_helper.pxi\u001b[0m in \u001b[0;36mpandas._libs.hashtable.PyObjectHashTable.get_item\u001b[1;34m()\u001b[0m\n",
      "\u001b[1;32mpandas\\_libs\\hashtable_class_helper.pxi\u001b[0m in \u001b[0;36mpandas._libs.hashtable.PyObjectHashTable.get_item\u001b[1;34m()\u001b[0m\n",
      "\u001b[1;31mKeyError\u001b[0m: 'Date'"
     ]
    }
   ],
   "source": [
    "stock_data['Date']"
   ]
  },
  {
   "cell_type": "code",
   "execution_count": 197,
   "metadata": {
    "ExecuteTime": {
     "end_time": "2020-03-07T04:26:59.571342Z",
     "start_time": "2020-03-07T04:26:58.461862Z"
    },
    "scrolled": false
   },
   "outputs": [
    {
     "data": {
      "text/plain": [
       "Symbols\n",
       "A       0.260304\n",
       "AA     -0.197975\n",
       "AAAU    0.148618\n",
       "AACG    0.178000\n",
       "AADR    0.288694\n",
       "AAL    -0.123929\n",
       "AAMC   -0.884337\n",
       "AAME   -0.233316\n",
       "AAN     0.271592\n",
       "AAOI   -0.289048\n",
       "AAON    0.341441\n",
       "AAP     0.014029\n",
       "AAPL    0.617829\n",
       "AAT     0.154622\n",
       "AAU    -0.170277\n",
       "dtype: float64"
      ]
     },
     "execution_count": 197,
     "metadata": {},
     "output_type": "execute_result"
    }
   ],
   "source": [
    "################################################ LOG RETURN\n",
    "df_r = np.log(stock_data['Close'] / stock_data['Close'].shift(1))\n",
    "    # DAILY LOG RETURN\n",
    "df_r.tail()       \n",
    "\n",
    "df_r_A = df_r.mean()*250\n",
    "    # ANNUAL LOG RETURN\n",
    "df_r_A"
   ]
  },
  {
   "cell_type": "code",
   "execution_count": 210,
   "metadata": {
    "ExecuteTime": {
     "end_time": "2020-03-02T02:16:22.961894Z",
     "start_time": "2020-03-02T02:16:22.952545Z"
    }
   },
   "outputs": [
    {
     "data": {
      "text/plain": [
       "Symbols\n",
       "A       0.290203\n",
       "AA     -0.121490\n",
       "AAAU    0.155396\n",
       "AACG    1.288952\n",
       "AADR    0.297942\n",
       "AAL    -0.061029\n",
       "AAMC   -0.506416\n",
       "AAME    0.060914\n",
       "AAN     0.324525\n",
       "AAOI   -0.128855\n",
       "AAON    0.388943\n",
       "AAP     0.049063\n",
       "AAPL    0.652885\n",
       "AAT     0.167819\n",
       "AAU     0.046484\n",
       "dtype: float64"
      ]
     },
     "execution_count": 210,
     "metadata": {},
     "output_type": "execute_result"
    }
   ],
   "source": [
    "################################################ SIMPLE RETURN\n",
    "#simple_r_A=pd.DataFrame()\n",
    "simple_r_A = (stock_data['Close'] / stock_data['Close'].shift(1))-1\n",
    "    #DAILY SIMPLE RETURN\n",
    "simple_r_A.tail()\n",
    "\n",
    "    #ANNUAL SIMPLE RETURN\n",
    "simple_r_A= simple_r_A.mean()*250\n",
    "simple_r_A"
   ]
  },
  {
   "cell_type": "code",
   "execution_count": 200,
   "metadata": {},
   "outputs": [
    {
     "data": {
      "text/html": [
       "<div>\n",
       "<style scoped>\n",
       "    .dataframe tbody tr th:only-of-type {\n",
       "        vertical-align: middle;\n",
       "    }\n",
       "\n",
       "    .dataframe tbody tr th {\n",
       "        vertical-align: top;\n",
       "    }\n",
       "\n",
       "    .dataframe thead th {\n",
       "        text-align: right;\n",
       "    }\n",
       "</style>\n",
       "<table border=\"1\" class=\"dataframe\">\n",
       "  <thead>\n",
       "    <tr style=\"text-align: right;\">\n",
       "      <th>Symbols</th>\n",
       "      <th>A</th>\n",
       "      <th>AA</th>\n",
       "      <th>AAAU</th>\n",
       "      <th>AACG</th>\n",
       "      <th>AADR</th>\n",
       "      <th>AAL</th>\n",
       "      <th>AAMC</th>\n",
       "      <th>AAME</th>\n",
       "      <th>AAN</th>\n",
       "      <th>AAOI</th>\n",
       "      <th>AAON</th>\n",
       "      <th>AAP</th>\n",
       "      <th>AAPL</th>\n",
       "      <th>AAT</th>\n",
       "      <th>AAU</th>\n",
       "    </tr>\n",
       "    <tr>\n",
       "      <th>Date</th>\n",
       "      <th></th>\n",
       "      <th></th>\n",
       "      <th></th>\n",
       "      <th></th>\n",
       "      <th></th>\n",
       "      <th></th>\n",
       "      <th></th>\n",
       "      <th></th>\n",
       "      <th></th>\n",
       "      <th></th>\n",
       "      <th></th>\n",
       "      <th></th>\n",
       "      <th></th>\n",
       "      <th></th>\n",
       "      <th></th>\n",
       "    </tr>\n",
       "  </thead>\n",
       "  <tbody>\n",
       "    <tr>\n",
       "      <th>2019-01-02</th>\n",
       "      <td>1.000000</td>\n",
       "      <td>1.000000</td>\n",
       "      <td>1.000000</td>\n",
       "      <td>NaN</td>\n",
       "      <td>1.000000</td>\n",
       "      <td>1.000000</td>\n",
       "      <td>1.000000</td>\n",
       "      <td>1.000000</td>\n",
       "      <td>1.000000</td>\n",
       "      <td>1.000000</td>\n",
       "      <td>1.000000</td>\n",
       "      <td>1.000000</td>\n",
       "      <td>1.000000</td>\n",
       "      <td>1.000000</td>\n",
       "      <td>1.000000</td>\n",
       "    </tr>\n",
       "    <tr>\n",
       "      <th>2019-01-03</th>\n",
       "      <td>0.963160</td>\n",
       "      <td>1.000000</td>\n",
       "      <td>0.990805</td>\n",
       "      <td>NaN</td>\n",
       "      <td>0.988842</td>\n",
       "      <td>0.925493</td>\n",
       "      <td>1.009997</td>\n",
       "      <td>1.064257</td>\n",
       "      <td>0.983441</td>\n",
       "      <td>0.948363</td>\n",
       "      <td>0.962931</td>\n",
       "      <td>1.031218</td>\n",
       "      <td>0.900393</td>\n",
       "      <td>1.000255</td>\n",
       "      <td>0.985714</td>\n",
       "    </tr>\n",
       "    <tr>\n",
       "      <th>2019-01-04</th>\n",
       "      <td>0.996499</td>\n",
       "      <td>1.080031</td>\n",
       "      <td>0.983908</td>\n",
       "      <td>NaN</td>\n",
       "      <td>1.027275</td>\n",
       "      <td>0.986453</td>\n",
       "      <td>0.991669</td>\n",
       "      <td>1.184739</td>\n",
       "      <td>1.011730</td>\n",
       "      <td>0.978589</td>\n",
       "      <td>1.015398</td>\n",
       "      <td>1.005636</td>\n",
       "      <td>0.938830</td>\n",
       "      <td>1.008397</td>\n",
       "      <td>1.014286</td>\n",
       "    </tr>\n",
       "    <tr>\n",
       "      <th>2019-01-07</th>\n",
       "      <td>1.017659</td>\n",
       "      <td>1.083079</td>\n",
       "      <td>0.986973</td>\n",
       "      <td>NaN</td>\n",
       "      <td>1.039425</td>\n",
       "      <td>1.014470</td>\n",
       "      <td>0.990670</td>\n",
       "      <td>1.112450</td>\n",
       "      <td>1.031969</td>\n",
       "      <td>0.987406</td>\n",
       "      <td>1.030796</td>\n",
       "      <td>1.020390</td>\n",
       "      <td>0.936740</td>\n",
       "      <td>1.024173</td>\n",
       "      <td>0.985714</td>\n",
       "    </tr>\n",
       "    <tr>\n",
       "      <th>2019-01-08</th>\n",
       "      <td>1.032577</td>\n",
       "      <td>1.076601</td>\n",
       "      <td>0.984674</td>\n",
       "      <td>NaN</td>\n",
       "      <td>1.046615</td>\n",
       "      <td>0.998153</td>\n",
       "      <td>0.969010</td>\n",
       "      <td>1.064257</td>\n",
       "      <td>1.044158</td>\n",
       "      <td>1.008186</td>\n",
       "      <td>1.035928</td>\n",
       "      <td>1.013298</td>\n",
       "      <td>0.954597</td>\n",
       "      <td>1.045293</td>\n",
       "      <td>1.042857</td>\n",
       "    </tr>\n",
       "    <tr>\n",
       "      <th>...</th>\n",
       "      <td>...</td>\n",
       "      <td>...</td>\n",
       "      <td>...</td>\n",
       "      <td>...</td>\n",
       "      <td>...</td>\n",
       "      <td>...</td>\n",
       "      <td>...</td>\n",
       "      <td>...</td>\n",
       "      <td>...</td>\n",
       "      <td>...</td>\n",
       "      <td>...</td>\n",
       "      <td>...</td>\n",
       "      <td>...</td>\n",
       "      <td>...</td>\n",
       "      <td>...</td>\n",
       "    </tr>\n",
       "    <tr>\n",
       "      <th>2019-12-24</th>\n",
       "      <td>1.298523</td>\n",
       "      <td>0.822409</td>\n",
       "      <td>1.146360</td>\n",
       "      <td>NaN</td>\n",
       "      <td>1.338954</td>\n",
       "      <td>0.898399</td>\n",
       "      <td>0.443186</td>\n",
       "      <td>0.759036</td>\n",
       "      <td>1.337627</td>\n",
       "      <td>0.700252</td>\n",
       "      <td>1.420017</td>\n",
       "      <td>1.016781</td>\n",
       "      <td>1.800089</td>\n",
       "      <td>1.138168</td>\n",
       "      <td>0.785714</td>\n",
       "    </tr>\n",
       "    <tr>\n",
       "      <th>2019-12-26</th>\n",
       "      <td>1.300807</td>\n",
       "      <td>0.817454</td>\n",
       "      <td>1.154789</td>\n",
       "      <td>NaN</td>\n",
       "      <td>1.346392</td>\n",
       "      <td>0.913485</td>\n",
       "      <td>0.439520</td>\n",
       "      <td>0.763052</td>\n",
       "      <td>1.309798</td>\n",
       "      <td>0.731108</td>\n",
       "      <td>1.422869</td>\n",
       "      <td>1.008549</td>\n",
       "      <td>1.835803</td>\n",
       "      <td>1.143511</td>\n",
       "      <td>0.885714</td>\n",
       "    </tr>\n",
       "    <tr>\n",
       "      <th>2019-12-27</th>\n",
       "      <td>1.300350</td>\n",
       "      <td>0.822409</td>\n",
       "      <td>1.155556</td>\n",
       "      <td>NaN</td>\n",
       "      <td>1.351599</td>\n",
       "      <td>0.875616</td>\n",
       "      <td>0.439520</td>\n",
       "      <td>0.742972</td>\n",
       "      <td>1.295538</td>\n",
       "      <td>0.725441</td>\n",
       "      <td>1.420302</td>\n",
       "      <td>1.002723</td>\n",
       "      <td>1.835106</td>\n",
       "      <td>1.151400</td>\n",
       "      <td>0.814286</td>\n",
       "    </tr>\n",
       "    <tr>\n",
       "      <th>2019-12-30</th>\n",
       "      <td>1.292434</td>\n",
       "      <td>0.813262</td>\n",
       "      <td>1.157854</td>\n",
       "      <td>NaN</td>\n",
       "      <td>1.341433</td>\n",
       "      <td>0.871305</td>\n",
       "      <td>0.373209</td>\n",
       "      <td>0.771084</td>\n",
       "      <td>1.307958</td>\n",
       "      <td>0.731108</td>\n",
       "      <td>1.408041</td>\n",
       "      <td>1.007599</td>\n",
       "      <td>1.845998</td>\n",
       "      <td>1.157761</td>\n",
       "      <td>0.814286</td>\n",
       "    </tr>\n",
       "    <tr>\n",
       "      <th>2019-12-31</th>\n",
       "      <td>1.298676</td>\n",
       "      <td>0.819741</td>\n",
       "      <td>1.160919</td>\n",
       "      <td>NaN</td>\n",
       "      <td>1.336226</td>\n",
       "      <td>0.883005</td>\n",
       "      <td>0.411529</td>\n",
       "      <td>0.791165</td>\n",
       "      <td>1.313477</td>\n",
       "      <td>0.748111</td>\n",
       "      <td>1.408897</td>\n",
       "      <td>1.014184</td>\n",
       "      <td>1.859486</td>\n",
       "      <td>1.167939</td>\n",
       "      <td>0.842857</td>\n",
       "    </tr>\n",
       "  </tbody>\n",
       "</table>\n",
       "<p>252 rows × 15 columns</p>\n",
       "</div>"
      ],
      "text/plain": [
       "Symbols            A        AA      AAAU  AACG      AADR       AAL      AAMC  \\\n",
       "Date                                                                           \n",
       "2019-01-02  1.000000  1.000000  1.000000   NaN  1.000000  1.000000  1.000000   \n",
       "2019-01-03  0.963160  1.000000  0.990805   NaN  0.988842  0.925493  1.009997   \n",
       "2019-01-04  0.996499  1.080031  0.983908   NaN  1.027275  0.986453  0.991669   \n",
       "2019-01-07  1.017659  1.083079  0.986973   NaN  1.039425  1.014470  0.990670   \n",
       "2019-01-08  1.032577  1.076601  0.984674   NaN  1.046615  0.998153  0.969010   \n",
       "...              ...       ...       ...   ...       ...       ...       ...   \n",
       "2019-12-24  1.298523  0.822409  1.146360   NaN  1.338954  0.898399  0.443186   \n",
       "2019-12-26  1.300807  0.817454  1.154789   NaN  1.346392  0.913485  0.439520   \n",
       "2019-12-27  1.300350  0.822409  1.155556   NaN  1.351599  0.875616  0.439520   \n",
       "2019-12-30  1.292434  0.813262  1.157854   NaN  1.341433  0.871305  0.373209   \n",
       "2019-12-31  1.298676  0.819741  1.160919   NaN  1.336226  0.883005  0.411529   \n",
       "\n",
       "Symbols         AAME       AAN      AAOI      AAON       AAP      AAPL  \\\n",
       "Date                                                                     \n",
       "2019-01-02  1.000000  1.000000  1.000000  1.000000  1.000000  1.000000   \n",
       "2019-01-03  1.064257  0.983441  0.948363  0.962931  1.031218  0.900393   \n",
       "2019-01-04  1.184739  1.011730  0.978589  1.015398  1.005636  0.938830   \n",
       "2019-01-07  1.112450  1.031969  0.987406  1.030796  1.020390  0.936740   \n",
       "2019-01-08  1.064257  1.044158  1.008186  1.035928  1.013298  0.954597   \n",
       "...              ...       ...       ...       ...       ...       ...   \n",
       "2019-12-24  0.759036  1.337627  0.700252  1.420017  1.016781  1.800089   \n",
       "2019-12-26  0.763052  1.309798  0.731108  1.422869  1.008549  1.835803   \n",
       "2019-12-27  0.742972  1.295538  0.725441  1.420302  1.002723  1.835106   \n",
       "2019-12-30  0.771084  1.307958  0.731108  1.408041  1.007599  1.845998   \n",
       "2019-12-31  0.791165  1.313477  0.748111  1.408897  1.014184  1.859486   \n",
       "\n",
       "Symbols          AAT       AAU  \n",
       "Date                            \n",
       "2019-01-02  1.000000  1.000000  \n",
       "2019-01-03  1.000255  0.985714  \n",
       "2019-01-04  1.008397  1.014286  \n",
       "2019-01-07  1.024173  0.985714  \n",
       "2019-01-08  1.045293  1.042857  \n",
       "...              ...       ...  \n",
       "2019-12-24  1.138168  0.785714  \n",
       "2019-12-26  1.143511  0.885714  \n",
       "2019-12-27  1.151400  0.814286  \n",
       "2019-12-30  1.157761  0.814286  \n",
       "2019-12-31  1.167939  0.842857  \n",
       "\n",
       "[252 rows x 15 columns]"
      ]
     },
     "execution_count": 200,
     "metadata": {},
     "output_type": "execute_result"
    }
   ],
   "source": [
    "df_r_N = stock_data['Close']/stock_data.iloc[0]['Close']\n",
    "    #NOMINAL RETURN\n",
    "df_r_N.tail()\n",
    "\n"
   ]
  },
  {
   "cell_type": "code",
   "execution_count": 201,
   "metadata": {},
   "outputs": [
    {
     "ename": "NameError",
     "evalue": "name 'df_stock' is not defined",
     "output_type": "error",
     "traceback": [
      "\u001b[1;31m---------------------------------------------------------------------------\u001b[0m",
      "\u001b[1;31mNameError\u001b[0m                                 Traceback (most recent call last)",
      "\u001b[1;32m<ipython-input-201-458a858efaee>\u001b[0m in \u001b[0;36m<module>\u001b[1;34m\u001b[0m\n\u001b[1;32m----> 1\u001b[1;33m \u001b[0mdf_\u001b[0m\u001b[1;33m[\u001b[0m\u001b[1;34m'Allocation'\u001b[0m\u001b[1;33m]\u001b[0m \u001b[1;33m=\u001b[0m \u001b[0mdf_stock\u001b[0m\u001b[1;33m[\u001b[0m\u001b[1;34m'Normalize Return'\u001b[0m\u001b[1;33m]\u001b[0m\u001b[1;33m*\u001b[0m\u001b[0mallocation\u001b[0m\u001b[1;33m\u001b[0m\u001b[1;33m\u001b[0m\u001b[0m\n\u001b[0m",
      "\u001b[1;31mNameError\u001b[0m: name 'df_stock' is not defined"
     ]
    }
   ],
   "source": [
    "\n",
    "Weights = round(1.00/(len(NAS_1)),3)\n",
    "\n",
    "\n",
    "df_Alocation = df_stock['Normalize Return']*Weights\n",
    "df_Alocation = df_Alocation\n",
    "df_Alocation.tail()"
   ]
  },
  {
   "cell_type": "code",
   "execution_count": null,
   "metadata": {},
   "outputs": [],
   "source": [
    "df = pd.DataFrame()\n",
    "df['Date'] = \n",
    "df['Ticker'] = \n",
    "df['Annual_Log'] = \n",
    "df['Annual_Simple'] = \n",
    "df['Date'] = \n",
    "df['Date'] = "
   ]
  },
  {
   "cell_type": "code",
   "execution_count": null,
   "metadata": {},
   "outputs": [],
   "source": []
  },
  {
   "cell_type": "code",
   "execution_count": 128,
   "metadata": {},
   "outputs": [
    {
     "data": {
      "text/html": [
       "<div>\n",
       "<style scoped>\n",
       "    .dataframe tbody tr th:only-of-type {\n",
       "        vertical-align: middle;\n",
       "    }\n",
       "\n",
       "    .dataframe tbody tr th {\n",
       "        vertical-align: top;\n",
       "    }\n",
       "\n",
       "    .dataframe thead th {\n",
       "        text-align: right;\n",
       "    }\n",
       "</style>\n",
       "<table border=\"1\" class=\"dataframe\">\n",
       "  <thead>\n",
       "    <tr style=\"text-align: right;\">\n",
       "      <th></th>\n",
       "      <th>SMAvg_yr</th>\n",
       "      <th>Weights</th>\n",
       "      <th>Port_R</th>\n",
       "    </tr>\n",
       "    <tr>\n",
       "      <th>Symbols</th>\n",
       "      <th></th>\n",
       "      <th></th>\n",
       "      <th></th>\n",
       "    </tr>\n",
       "  </thead>\n",
       "  <tbody>\n",
       "    <tr>\n",
       "      <th>A</th>\n",
       "      <td>-2249.71</td>\n",
       "      <td>0.067</td>\n",
       "      <td>-2249.71</td>\n",
       "    </tr>\n",
       "    <tr>\n",
       "      <th>AA</th>\n",
       "      <td>-2250.12</td>\n",
       "      <td>0.067</td>\n",
       "      <td>-2250.12</td>\n",
       "    </tr>\n",
       "    <tr>\n",
       "      <th>AAAU</th>\n",
       "      <td>-2249.84</td>\n",
       "      <td>0.067</td>\n",
       "      <td>-2249.84</td>\n",
       "    </tr>\n",
       "    <tr>\n",
       "      <th>AACG</th>\n",
       "      <td>-2248.71</td>\n",
       "      <td>0.067</td>\n",
       "      <td>-2248.71</td>\n",
       "    </tr>\n",
       "    <tr>\n",
       "      <th>AADR</th>\n",
       "      <td>-2249.70</td>\n",
       "      <td>0.067</td>\n",
       "      <td>-2249.70</td>\n",
       "    </tr>\n",
       "    <tr>\n",
       "      <th>AAL</th>\n",
       "      <td>-2250.06</td>\n",
       "      <td>0.067</td>\n",
       "      <td>-2250.06</td>\n",
       "    </tr>\n",
       "    <tr>\n",
       "      <th>AAMC</th>\n",
       "      <td>-2250.51</td>\n",
       "      <td>0.067</td>\n",
       "      <td>-2250.51</td>\n",
       "    </tr>\n",
       "    <tr>\n",
       "      <th>AAME</th>\n",
       "      <td>-2249.94</td>\n",
       "      <td>0.067</td>\n",
       "      <td>-2249.94</td>\n",
       "    </tr>\n",
       "    <tr>\n",
       "      <th>AAN</th>\n",
       "      <td>-2249.68</td>\n",
       "      <td>0.067</td>\n",
       "      <td>-2249.68</td>\n",
       "    </tr>\n",
       "    <tr>\n",
       "      <th>AAOI</th>\n",
       "      <td>-2250.13</td>\n",
       "      <td>0.067</td>\n",
       "      <td>-2250.13</td>\n",
       "    </tr>\n",
       "    <tr>\n",
       "      <th>AAON</th>\n",
       "      <td>-2249.61</td>\n",
       "      <td>0.067</td>\n",
       "      <td>-2249.61</td>\n",
       "    </tr>\n",
       "    <tr>\n",
       "      <th>AAP</th>\n",
       "      <td>-2249.95</td>\n",
       "      <td>0.067</td>\n",
       "      <td>-2249.95</td>\n",
       "    </tr>\n",
       "    <tr>\n",
       "      <th>AAPL</th>\n",
       "      <td>-2249.35</td>\n",
       "      <td>0.067</td>\n",
       "      <td>-2249.35</td>\n",
       "    </tr>\n",
       "    <tr>\n",
       "      <th>AAT</th>\n",
       "      <td>-2249.83</td>\n",
       "      <td>0.067</td>\n",
       "      <td>-2249.83</td>\n",
       "    </tr>\n",
       "    <tr>\n",
       "      <th>AAU</th>\n",
       "      <td>-2249.95</td>\n",
       "      <td>0.067</td>\n",
       "      <td>-2249.95</td>\n",
       "    </tr>\n",
       "  </tbody>\n",
       "</table>\n",
       "</div>"
      ],
      "text/plain": [
       "         SMAvg_yr  Weights   Port_R\n",
       "Symbols                            \n",
       "A        -2249.71    0.067 -2249.71\n",
       "AA       -2250.12    0.067 -2250.12\n",
       "AAAU     -2249.84    0.067 -2249.84\n",
       "AACG     -2248.71    0.067 -2248.71\n",
       "AADR     -2249.70    0.067 -2249.70\n",
       "AAL      -2250.06    0.067 -2250.06\n",
       "AAMC     -2250.51    0.067 -2250.51\n",
       "AAME     -2249.94    0.067 -2249.94\n",
       "AAN      -2249.68    0.067 -2249.68\n",
       "AAOI     -2250.13    0.067 -2250.13\n",
       "AAON     -2249.61    0.067 -2249.61\n",
       "AAP      -2249.95    0.067 -2249.95\n",
       "AAPL     -2249.35    0.067 -2249.35\n",
       "AAT      -2249.83    0.067 -2249.83\n",
       "AAU      -2249.95    0.067 -2249.95"
      ]
     },
     "execution_count": 128,
     "metadata": {},
     "output_type": "execute_result"
    }
   ],
   "source": [
    "    # AVERAGE ANNUAL MEAN RATE OF RETURN\n",
    "df = pd.DataFrame()\n",
    "df['SMAvg_yr'] = round(Port_R.mean()*250,2)\n",
    "\n",
    "    # ADD WEIGHTS INTO POSITONS\n",
    "df['Weights'] = Weights\n",
    "df['Port_R']= round(Port_R.mean()*250,2)\n",
    "\n",
    "np.dot(Port_R, Weights)\n",
    "df "
   ]
  },
  {
   "cell_type": "code",
   "execution_count": 138,
   "metadata": {},
   "outputs": [
    {
     "ename": "KeyError",
     "evalue": "'Adj Close'",
     "output_type": "error",
     "traceback": [
      "\u001b[1;31m---------------------------------------------------------------------------\u001b[0m",
      "\u001b[1;31mKeyError\u001b[0m                                  Traceback (most recent call last)",
      "\u001b[1;32mC:\\ProgramData\\Anaconda3\\lib\\site-packages\\pandas\\core\\indexes\\base.py\u001b[0m in \u001b[0;36mget_loc\u001b[1;34m(self, key, method, tolerance)\u001b[0m\n\u001b[0;32m   2645\u001b[0m             \u001b[1;32mtry\u001b[0m\u001b[1;33m:\u001b[0m\u001b[1;33m\u001b[0m\u001b[1;33m\u001b[0m\u001b[0m\n\u001b[1;32m-> 2646\u001b[1;33m                 \u001b[1;32mreturn\u001b[0m \u001b[0mself\u001b[0m\u001b[1;33m.\u001b[0m\u001b[0m_engine\u001b[0m\u001b[1;33m.\u001b[0m\u001b[0mget_loc\u001b[0m\u001b[1;33m(\u001b[0m\u001b[0mkey\u001b[0m\u001b[1;33m)\u001b[0m\u001b[1;33m\u001b[0m\u001b[1;33m\u001b[0m\u001b[0m\n\u001b[0m\u001b[0;32m   2647\u001b[0m             \u001b[1;32mexcept\u001b[0m \u001b[0mKeyError\u001b[0m\u001b[1;33m:\u001b[0m\u001b[1;33m\u001b[0m\u001b[1;33m\u001b[0m\u001b[0m\n",
      "\u001b[1;32mpandas\\_libs\\index.pyx\u001b[0m in \u001b[0;36mpandas._libs.index.IndexEngine.get_loc\u001b[1;34m()\u001b[0m\n",
      "\u001b[1;32mpandas\\_libs\\index.pyx\u001b[0m in \u001b[0;36mpandas._libs.index.IndexEngine.get_loc\u001b[1;34m()\u001b[0m\n",
      "\u001b[1;32mpandas\\_libs\\hashtable_class_helper.pxi\u001b[0m in \u001b[0;36mpandas._libs.hashtable.PyObjectHashTable.get_item\u001b[1;34m()\u001b[0m\n",
      "\u001b[1;32mpandas\\_libs\\hashtable_class_helper.pxi\u001b[0m in \u001b[0;36mpandas._libs.hashtable.PyObjectHashTable.get_item\u001b[1;34m()\u001b[0m\n",
      "\u001b[1;31mKeyError\u001b[0m: 'Adj Close'",
      "\nDuring handling of the above exception, another exception occurred:\n",
      "\u001b[1;31mKeyError\u001b[0m                                  Traceback (most recent call last)",
      "\u001b[1;32m<ipython-input-138-9467f9fd8e70>\u001b[0m in \u001b[0;36m<module>\u001b[1;34m\u001b[0m\n\u001b[0;32m      1\u001b[0m \u001b[1;32mfor\u001b[0m \u001b[0mdf\u001b[0m \u001b[1;32min\u001b[0m \u001b[1;33m(\u001b[0m\u001b[0mNAS_1\u001b[0m\u001b[1;33m)\u001b[0m\u001b[1;33m:\u001b[0m\u001b[1;33m\u001b[0m\u001b[1;33m\u001b[0m\u001b[0m\n\u001b[1;32m----> 2\u001b[1;33m     \u001b[0mdf\u001b[0m\u001b[1;33m[\u001b[0m\u001b[1;34m'Normalize Return'\u001b[0m\u001b[1;33m]\u001b[0m \u001b[1;33m=\u001b[0m \u001b[0mstock_data\u001b[0m\u001b[1;33m[\u001b[0m\u001b[1;34m'Adj Close'\u001b[0m\u001b[1;33m]\u001b[0m\u001b[1;33m/\u001b[0m\u001b[0mstock_data\u001b[0m\u001b[1;33m.\u001b[0m\u001b[0miloc\u001b[0m\u001b[1;33m[\u001b[0m\u001b[1;36m0\u001b[0m\u001b[1;33m]\u001b[0m\u001b[1;33m[\u001b[0m\u001b[1;34m'Adj Close'\u001b[0m\u001b[1;33m]\u001b[0m\u001b[1;33m\u001b[0m\u001b[1;33m\u001b[0m\u001b[0m\n\u001b[0m",
      "\u001b[1;32mC:\\ProgramData\\Anaconda3\\lib\\site-packages\\pandas\\core\\frame.py\u001b[0m in \u001b[0;36m__getitem__\u001b[1;34m(self, key)\u001b[0m\n\u001b[0;32m   2798\u001b[0m             \u001b[1;32mif\u001b[0m \u001b[0mself\u001b[0m\u001b[1;33m.\u001b[0m\u001b[0mcolumns\u001b[0m\u001b[1;33m.\u001b[0m\u001b[0mnlevels\u001b[0m \u001b[1;33m>\u001b[0m \u001b[1;36m1\u001b[0m\u001b[1;33m:\u001b[0m\u001b[1;33m\u001b[0m\u001b[1;33m\u001b[0m\u001b[0m\n\u001b[0;32m   2799\u001b[0m                 \u001b[1;32mreturn\u001b[0m \u001b[0mself\u001b[0m\u001b[1;33m.\u001b[0m\u001b[0m_getitem_multilevel\u001b[0m\u001b[1;33m(\u001b[0m\u001b[0mkey\u001b[0m\u001b[1;33m)\u001b[0m\u001b[1;33m\u001b[0m\u001b[1;33m\u001b[0m\u001b[0m\n\u001b[1;32m-> 2800\u001b[1;33m             \u001b[0mindexer\u001b[0m \u001b[1;33m=\u001b[0m \u001b[0mself\u001b[0m\u001b[1;33m.\u001b[0m\u001b[0mcolumns\u001b[0m\u001b[1;33m.\u001b[0m\u001b[0mget_loc\u001b[0m\u001b[1;33m(\u001b[0m\u001b[0mkey\u001b[0m\u001b[1;33m)\u001b[0m\u001b[1;33m\u001b[0m\u001b[1;33m\u001b[0m\u001b[0m\n\u001b[0m\u001b[0;32m   2801\u001b[0m             \u001b[1;32mif\u001b[0m \u001b[0mis_integer\u001b[0m\u001b[1;33m(\u001b[0m\u001b[0mindexer\u001b[0m\u001b[1;33m)\u001b[0m\u001b[1;33m:\u001b[0m\u001b[1;33m\u001b[0m\u001b[1;33m\u001b[0m\u001b[0m\n\u001b[0;32m   2802\u001b[0m                 \u001b[0mindexer\u001b[0m \u001b[1;33m=\u001b[0m \u001b[1;33m[\u001b[0m\u001b[0mindexer\u001b[0m\u001b[1;33m]\u001b[0m\u001b[1;33m\u001b[0m\u001b[1;33m\u001b[0m\u001b[0m\n",
      "\u001b[1;32mC:\\ProgramData\\Anaconda3\\lib\\site-packages\\pandas\\core\\indexes\\base.py\u001b[0m in \u001b[0;36mget_loc\u001b[1;34m(self, key, method, tolerance)\u001b[0m\n\u001b[0;32m   2646\u001b[0m                 \u001b[1;32mreturn\u001b[0m \u001b[0mself\u001b[0m\u001b[1;33m.\u001b[0m\u001b[0m_engine\u001b[0m\u001b[1;33m.\u001b[0m\u001b[0mget_loc\u001b[0m\u001b[1;33m(\u001b[0m\u001b[0mkey\u001b[0m\u001b[1;33m)\u001b[0m\u001b[1;33m\u001b[0m\u001b[1;33m\u001b[0m\u001b[0m\n\u001b[0;32m   2647\u001b[0m             \u001b[1;32mexcept\u001b[0m \u001b[0mKeyError\u001b[0m\u001b[1;33m:\u001b[0m\u001b[1;33m\u001b[0m\u001b[1;33m\u001b[0m\u001b[0m\n\u001b[1;32m-> 2648\u001b[1;33m                 \u001b[1;32mreturn\u001b[0m \u001b[0mself\u001b[0m\u001b[1;33m.\u001b[0m\u001b[0m_engine\u001b[0m\u001b[1;33m.\u001b[0m\u001b[0mget_loc\u001b[0m\u001b[1;33m(\u001b[0m\u001b[0mself\u001b[0m\u001b[1;33m.\u001b[0m\u001b[0m_maybe_cast_indexer\u001b[0m\u001b[1;33m(\u001b[0m\u001b[0mkey\u001b[0m\u001b[1;33m)\u001b[0m\u001b[1;33m)\u001b[0m\u001b[1;33m\u001b[0m\u001b[1;33m\u001b[0m\u001b[0m\n\u001b[0m\u001b[0;32m   2649\u001b[0m         \u001b[0mindexer\u001b[0m \u001b[1;33m=\u001b[0m \u001b[0mself\u001b[0m\u001b[1;33m.\u001b[0m\u001b[0mget_indexer\u001b[0m\u001b[1;33m(\u001b[0m\u001b[1;33m[\u001b[0m\u001b[0mkey\u001b[0m\u001b[1;33m]\u001b[0m\u001b[1;33m,\u001b[0m \u001b[0mmethod\u001b[0m\u001b[1;33m=\u001b[0m\u001b[0mmethod\u001b[0m\u001b[1;33m,\u001b[0m \u001b[0mtolerance\u001b[0m\u001b[1;33m=\u001b[0m\u001b[0mtolerance\u001b[0m\u001b[1;33m)\u001b[0m\u001b[1;33m\u001b[0m\u001b[1;33m\u001b[0m\u001b[0m\n\u001b[0;32m   2650\u001b[0m         \u001b[1;32mif\u001b[0m \u001b[0mindexer\u001b[0m\u001b[1;33m.\u001b[0m\u001b[0mndim\u001b[0m \u001b[1;33m>\u001b[0m \u001b[1;36m1\u001b[0m \u001b[1;32mor\u001b[0m \u001b[0mindexer\u001b[0m\u001b[1;33m.\u001b[0m\u001b[0msize\u001b[0m \u001b[1;33m>\u001b[0m \u001b[1;36m1\u001b[0m\u001b[1;33m:\u001b[0m\u001b[1;33m\u001b[0m\u001b[1;33m\u001b[0m\u001b[0m\n",
      "\u001b[1;32mpandas\\_libs\\index.pyx\u001b[0m in \u001b[0;36mpandas._libs.index.IndexEngine.get_loc\u001b[1;34m()\u001b[0m\n",
      "\u001b[1;32mpandas\\_libs\\index.pyx\u001b[0m in \u001b[0;36mpandas._libs.index.IndexEngine.get_loc\u001b[1;34m()\u001b[0m\n",
      "\u001b[1;32mpandas\\_libs\\hashtable_class_helper.pxi\u001b[0m in \u001b[0;36mpandas._libs.hashtable.PyObjectHashTable.get_item\u001b[1;34m()\u001b[0m\n",
      "\u001b[1;32mpandas\\_libs\\hashtable_class_helper.pxi\u001b[0m in \u001b[0;36mpandas._libs.hashtable.PyObjectHashTable.get_item\u001b[1;34m()\u001b[0m\n",
      "\u001b[1;31mKeyError\u001b[0m: 'Adj Close'"
     ]
    }
   ],
   "source": [
    "for df in (NAS_1):\n",
    "    df['Normalize Return'] = stock_data['Adj Close']/stock_data.iloc[0]['Adj Close']"
   ]
  },
  {
   "cell_type": "code",
   "execution_count": null,
   "metadata": {
    "ExecuteTime": {
     "end_time": "2020-03-02T02:34:26.217350Z",
     "start_time": "2020-03-02T02:34:26.202390Z"
    },
    "scrolled": false
   },
   "outputs": [],
   "source": [
    "PORT = np.dot(Port_R, Weights)\n",
    "df['PORT'] = PORT\n",
    "df"
   ]
  },
  {
   "cell_type": "code",
   "execution_count": 136,
   "metadata": {
    "ExecuteTime": {
     "end_time": "2020-03-02T02:42:39.545125Z",
     "start_time": "2020-03-02T02:42:39.534755Z"
    }
   },
   "outputs": [
    {
     "ename": "ValueError",
     "evalue": "Length of values does not match length of index",
     "output_type": "error",
     "traceback": [
      "\u001b[1;31m---------------------------------------------------------------------------\u001b[0m",
      "\u001b[1;31mValueError\u001b[0m                                Traceback (most recent call last)",
      "\u001b[1;32m<ipython-input-136-7337f894e324>\u001b[0m in \u001b[0;36m<module>\u001b[1;34m\u001b[0m\n\u001b[1;32m----> 1\u001b[1;33m \u001b[0mdf\u001b[0m\u001b[1;33m[\u001b[0m\u001b[1;34m'PORT'\u001b[0m\u001b[1;33m]\u001b[0m \u001b[1;33m=\u001b[0m \u001b[0mnp\u001b[0m\u001b[1;33m.\u001b[0m\u001b[0mdot\u001b[0m\u001b[1;33m(\u001b[0m\u001b[0mPort_R\u001b[0m\u001b[1;33m,\u001b[0m \u001b[0mWeights\u001b[0m\u001b[1;33m)\u001b[0m\u001b[1;33m\u001b[0m\u001b[1;33m\u001b[0m\u001b[0m\n\u001b[0m\u001b[0;32m      2\u001b[0m \u001b[1;31m#df['PORT'] = PORT\u001b[0m\u001b[1;33m\u001b[0m\u001b[1;33m\u001b[0m\u001b[1;33m\u001b[0m\u001b[0m\n\u001b[0;32m      3\u001b[0m \u001b[0mdf\u001b[0m\u001b[1;33m\u001b[0m\u001b[1;33m\u001b[0m\u001b[0m\n",
      "\u001b[1;32mC:\\ProgramData\\Anaconda3\\lib\\site-packages\\pandas\\core\\frame.py\u001b[0m in \u001b[0;36m__setitem__\u001b[1;34m(self, key, value)\u001b[0m\n\u001b[0;32m   2936\u001b[0m         \u001b[1;32melse\u001b[0m\u001b[1;33m:\u001b[0m\u001b[1;33m\u001b[0m\u001b[1;33m\u001b[0m\u001b[0m\n\u001b[0;32m   2937\u001b[0m             \u001b[1;31m# set column\u001b[0m\u001b[1;33m\u001b[0m\u001b[1;33m\u001b[0m\u001b[1;33m\u001b[0m\u001b[0m\n\u001b[1;32m-> 2938\u001b[1;33m             \u001b[0mself\u001b[0m\u001b[1;33m.\u001b[0m\u001b[0m_set_item\u001b[0m\u001b[1;33m(\u001b[0m\u001b[0mkey\u001b[0m\u001b[1;33m,\u001b[0m \u001b[0mvalue\u001b[0m\u001b[1;33m)\u001b[0m\u001b[1;33m\u001b[0m\u001b[1;33m\u001b[0m\u001b[0m\n\u001b[0m\u001b[0;32m   2939\u001b[0m \u001b[1;33m\u001b[0m\u001b[0m\n\u001b[0;32m   2940\u001b[0m     \u001b[1;32mdef\u001b[0m \u001b[0m_setitem_slice\u001b[0m\u001b[1;33m(\u001b[0m\u001b[0mself\u001b[0m\u001b[1;33m,\u001b[0m \u001b[0mkey\u001b[0m\u001b[1;33m,\u001b[0m \u001b[0mvalue\u001b[0m\u001b[1;33m)\u001b[0m\u001b[1;33m:\u001b[0m\u001b[1;33m\u001b[0m\u001b[1;33m\u001b[0m\u001b[0m\n",
      "\u001b[1;32mC:\\ProgramData\\Anaconda3\\lib\\site-packages\\pandas\\core\\frame.py\u001b[0m in \u001b[0;36m_set_item\u001b[1;34m(self, key, value)\u001b[0m\n\u001b[0;32m   2998\u001b[0m \u001b[1;33m\u001b[0m\u001b[0m\n\u001b[0;32m   2999\u001b[0m         \u001b[0mself\u001b[0m\u001b[1;33m.\u001b[0m\u001b[0m_ensure_valid_index\u001b[0m\u001b[1;33m(\u001b[0m\u001b[0mvalue\u001b[0m\u001b[1;33m)\u001b[0m\u001b[1;33m\u001b[0m\u001b[1;33m\u001b[0m\u001b[0m\n\u001b[1;32m-> 3000\u001b[1;33m         \u001b[0mvalue\u001b[0m \u001b[1;33m=\u001b[0m \u001b[0mself\u001b[0m\u001b[1;33m.\u001b[0m\u001b[0m_sanitize_column\u001b[0m\u001b[1;33m(\u001b[0m\u001b[0mkey\u001b[0m\u001b[1;33m,\u001b[0m \u001b[0mvalue\u001b[0m\u001b[1;33m)\u001b[0m\u001b[1;33m\u001b[0m\u001b[1;33m\u001b[0m\u001b[0m\n\u001b[0m\u001b[0;32m   3001\u001b[0m         \u001b[0mNDFrame\u001b[0m\u001b[1;33m.\u001b[0m\u001b[0m_set_item\u001b[0m\u001b[1;33m(\u001b[0m\u001b[0mself\u001b[0m\u001b[1;33m,\u001b[0m \u001b[0mkey\u001b[0m\u001b[1;33m,\u001b[0m \u001b[0mvalue\u001b[0m\u001b[1;33m)\u001b[0m\u001b[1;33m\u001b[0m\u001b[1;33m\u001b[0m\u001b[0m\n\u001b[0;32m   3002\u001b[0m \u001b[1;33m\u001b[0m\u001b[0m\n",
      "\u001b[1;32mC:\\ProgramData\\Anaconda3\\lib\\site-packages\\pandas\\core\\frame.py\u001b[0m in \u001b[0;36m_sanitize_column\u001b[1;34m(self, key, value, broadcast)\u001b[0m\n\u001b[0;32m   3634\u001b[0m \u001b[1;33m\u001b[0m\u001b[0m\n\u001b[0;32m   3635\u001b[0m             \u001b[1;31m# turn me into an ndarray\u001b[0m\u001b[1;33m\u001b[0m\u001b[1;33m\u001b[0m\u001b[1;33m\u001b[0m\u001b[0m\n\u001b[1;32m-> 3636\u001b[1;33m             \u001b[0mvalue\u001b[0m \u001b[1;33m=\u001b[0m \u001b[0msanitize_index\u001b[0m\u001b[1;33m(\u001b[0m\u001b[0mvalue\u001b[0m\u001b[1;33m,\u001b[0m \u001b[0mself\u001b[0m\u001b[1;33m.\u001b[0m\u001b[0mindex\u001b[0m\u001b[1;33m,\u001b[0m \u001b[0mcopy\u001b[0m\u001b[1;33m=\u001b[0m\u001b[1;32mFalse\u001b[0m\u001b[1;33m)\u001b[0m\u001b[1;33m\u001b[0m\u001b[1;33m\u001b[0m\u001b[0m\n\u001b[0m\u001b[0;32m   3637\u001b[0m             \u001b[1;32mif\u001b[0m \u001b[1;32mnot\u001b[0m \u001b[0misinstance\u001b[0m\u001b[1;33m(\u001b[0m\u001b[0mvalue\u001b[0m\u001b[1;33m,\u001b[0m \u001b[1;33m(\u001b[0m\u001b[0mnp\u001b[0m\u001b[1;33m.\u001b[0m\u001b[0mndarray\u001b[0m\u001b[1;33m,\u001b[0m \u001b[0mIndex\u001b[0m\u001b[1;33m)\u001b[0m\u001b[1;33m)\u001b[0m\u001b[1;33m:\u001b[0m\u001b[1;33m\u001b[0m\u001b[1;33m\u001b[0m\u001b[0m\n\u001b[0;32m   3638\u001b[0m                 \u001b[1;32mif\u001b[0m \u001b[0misinstance\u001b[0m\u001b[1;33m(\u001b[0m\u001b[0mvalue\u001b[0m\u001b[1;33m,\u001b[0m \u001b[0mlist\u001b[0m\u001b[1;33m)\u001b[0m \u001b[1;32mand\u001b[0m \u001b[0mlen\u001b[0m\u001b[1;33m(\u001b[0m\u001b[0mvalue\u001b[0m\u001b[1;33m)\u001b[0m \u001b[1;33m>\u001b[0m \u001b[1;36m0\u001b[0m\u001b[1;33m:\u001b[0m\u001b[1;33m\u001b[0m\u001b[1;33m\u001b[0m\u001b[0m\n",
      "\u001b[1;32mC:\\ProgramData\\Anaconda3\\lib\\site-packages\\pandas\\core\\internals\\construction.py\u001b[0m in \u001b[0;36msanitize_index\u001b[1;34m(data, index, copy)\u001b[0m\n\u001b[0;32m    609\u001b[0m \u001b[1;33m\u001b[0m\u001b[0m\n\u001b[0;32m    610\u001b[0m     \u001b[1;32mif\u001b[0m \u001b[0mlen\u001b[0m\u001b[1;33m(\u001b[0m\u001b[0mdata\u001b[0m\u001b[1;33m)\u001b[0m \u001b[1;33m!=\u001b[0m \u001b[0mlen\u001b[0m\u001b[1;33m(\u001b[0m\u001b[0mindex\u001b[0m\u001b[1;33m)\u001b[0m\u001b[1;33m:\u001b[0m\u001b[1;33m\u001b[0m\u001b[1;33m\u001b[0m\u001b[0m\n\u001b[1;32m--> 611\u001b[1;33m         \u001b[1;32mraise\u001b[0m \u001b[0mValueError\u001b[0m\u001b[1;33m(\u001b[0m\u001b[1;34m\"Length of values does not match length of index\"\u001b[0m\u001b[1;33m)\u001b[0m\u001b[1;33m\u001b[0m\u001b[1;33m\u001b[0m\u001b[0m\n\u001b[0m\u001b[0;32m    612\u001b[0m \u001b[1;33m\u001b[0m\u001b[0m\n\u001b[0;32m    613\u001b[0m     \u001b[1;32mif\u001b[0m \u001b[0misinstance\u001b[0m\u001b[1;33m(\u001b[0m\u001b[0mdata\u001b[0m\u001b[1;33m,\u001b[0m \u001b[0mABCIndexClass\u001b[0m\u001b[1;33m)\u001b[0m \u001b[1;32mand\u001b[0m \u001b[1;32mnot\u001b[0m \u001b[0mcopy\u001b[0m\u001b[1;33m:\u001b[0m\u001b[1;33m\u001b[0m\u001b[1;33m\u001b[0m\u001b[0m\n",
      "\u001b[1;31mValueError\u001b[0m: Length of values does not match length of index"
     ]
    }
   ],
   "source": [
    "df['PORT'] = np.dot(Port_R, Weights)\n",
    "#df['PORT'] = PORT\n",
    "df"
   ]
  },
  {
   "cell_type": "code",
   "execution_count": null,
   "metadata": {
    "ExecuteTime": {
     "end_time": "2020-03-02T02:46:19.310214Z",
     "start_time": "2020-03-02T02:46:18.469094Z"
    },
    "scrolled": false
   },
   "outputs": [],
   "source": [
    "    # CALC LOG RETURNS\n",
    "sec_RoR = np.log(data / data.shift(1))\n",
    "\n",
    "sec_RoR=sec_RoR['Adj Close']\n",
    "sec_RoR"
   ]
  },
  {
   "cell_type": "code",
   "execution_count": null,
   "metadata": {
    "ExecuteTime": {
     "end_time": "2020-03-02T03:00:32.680024Z",
     "start_time": "2020-03-02T02:59:32.156836Z"
    },
    "scrolled": true
   },
   "outputs": [],
   "source": [
    "(data / data.iloc[0]*100).plot(figsize = (15,9))\n",
    "\n",
    "log_returns = np.log(data / data.shift(1))\n",
    "\n",
    "log_returns.mean()*250\n",
    "\n",
    "log_returns.cov()*250\n",
    "\n",
    "log_returns.corr()"
   ]
  },
  {
   "cell_type": "markdown",
   "metadata": {},
   "source": [
    "# S&P DATA PULL"
   ]
  },
  {
   "cell_type": "code",
   "execution_count": null,
   "metadata": {
    "ExecuteTime": {
     "end_time": "2020-03-03T00:56:54.164069Z",
     "start_time": "2020-03-03T00:56:52.695388Z"
    }
   },
   "outputs": [],
   "source": [
    "import bs4 as bs\n",
    "import pickle\n",
    "import requests\n",
    "\n",
    "def save_sp500_tickers():\n",
    "    resp = requests.get('http://en.wikipedia.org/wiki/List_of_S%26P_500_companies')\n",
    "    soup = bs.BeautifulSoup(resp.text, 'lxml')\n",
    "    table = soup.find('table', {'class': 'wikitable sortable'})\n",
    "    tickers = []\n",
    "    for row in table.findAll('tr')[1:]:\n",
    "        ticker = row.findAll('td')[0].text\n",
    "        tickers.append(ticker)\n",
    "        \n",
    "    with open(\"sp500tickers.pickle\",\"wb\") as f:\n",
    "        pickle.dump(tickers,f)\n",
    "        \n",
    "    return tickers\n",
    "\n",
    "save_sp500_tickers()"
   ]
  },
  {
   "cell_type": "code",
   "execution_count": null,
   "metadata": {
    "ExecuteTime": {
     "end_time": "2020-03-03T00:58:39.557331Z",
     "start_time": "2020-03-03T00:58:14.781921Z"
    }
   },
   "outputs": [],
   "source": [
    "import bs4 as bs\n",
    "import requests\n",
    "import yfinance as yf\n",
    "import datetime\n",
    "\n",
    "resp = requests.get('http://en.wikipedia.org/wiki/List_of_S%26P_500_companies')\n",
    "soup = bs.BeautifulSoup(resp.text, 'lxml')\n",
    "table = soup.find('table', {'class': 'wikitable sortable'})\n",
    "tickers = []\n",
    "for row in table.findAll('tr')[1:]:\n",
    "    ticker = row.findAll('td')[0].text\n",
    "    tickers.append(ticker)\n",
    "\n",
    "tickers = [s.replace('\\n', '') for s in tickers]\n",
    "start = datetime.datetime(2019,1,1)\n",
    "end = datetime.datetime(2019,7,17)\n",
    "data = yf.download(tickers, start=start, end=end)\n",
    "\n",
    "\n",
    "data=pd.DataFrame(data['Adj Close'])\n",
    "data"
   ]
  },
  {
   "cell_type": "code",
   "execution_count": null,
   "metadata": {
    "ExecuteTime": {
     "end_time": "2020-03-03T01:43:06.884972Z",
     "start_time": "2020-03-03T01:43:05.867292Z"
    }
   },
   "outputs": [],
   "source": [
    "import pandas as pd\n",
    "\n",
    "data = pd.read_html('https://en.wikipedia.org/wiki/List_of_S%26P_500_companies')\n",
    "\n",
    "table = data[0]\n",
    "table\n"
   ]
  },
  {
   "cell_type": "code",
   "execution_count": null,
   "metadata": {
    "ExecuteTime": {
     "end_time": "2020-03-03T01:56:01.756913Z",
     "start_time": "2020-03-03T01:56:00.215157Z"
    }
   },
   "outputs": [],
   "source": [
    "import pandas as pd\n",
    "\n",
    "data = pd.read_html('https://finance.yahoo.com/quote/%5EGSPC/history?ltr=1')\n",
    "\n",
    "table = data[0]\n",
    "table\n",
    "\n"
   ]
  },
  {
   "cell_type": "code",
   "execution_count": null,
   "metadata": {
    "ExecuteTime": {
     "end_time": "2020-03-03T00:58:41.520767Z",
     "start_time": "2020-03-03T00:58:40.532557Z"
    }
   },
   "outputs": [],
   "source": [
    "import pandas as pd\n",
    "table=pd.read_html('https://en.wikipedia.org/wiki/List_of_S%26P_500_companies')\n",
    "df = table[0]\n",
    "df.to_csv('S&P500-Info.csv')\n",
    "df.to_csv(\"S&P500-Symbols.csv\", columns=['Symbol'])\n",
    "\n",
    "df"
   ]
  },
  {
   "cell_type": "markdown",
   "metadata": {},
   "source": [
    "# new"
   ]
  },
  {
   "cell_type": "code",
   "execution_count": null,
   "metadata": {
    "ExecuteTime": {
     "end_time": "2020-03-03T01:08:23.192346Z",
     "start_time": "2020-03-03T01:08:23.184360Z"
    }
   },
   "outputs": [],
   "source": [
    "# Import initial libraries\n",
    "\n",
    "import pandas as pd\n",
    "import numpy as np\n",
    "import datetime\n",
    "import matplotlib.pyplot as plt\n",
    "%matplotlib inline"
   ]
  },
  {
   "cell_type": "code",
   "execution_count": null,
   "metadata": {
    "ExecuteTime": {
     "end_time": "2020-03-03T01:08:28.177430Z",
     "start_time": "2020-03-03T01:08:28.166462Z"
    }
   },
   "outputs": [],
   "source": [
    "# Imports in order to be able to use Plotly offline.\n",
    "from plotly import __version__\n",
    "from plotly.offline import download_plotlyjs, init_notebook_mode, plot, iplot\n",
    "\n",
    "import plotly.graph_objs as go\n",
    "\n",
    "print(__version__) # requires version >= 1.9.0\n",
    "\n",
    "init_notebook_mode(connected=True)"
   ]
  },
  {
   "cell_type": "code",
   "execution_count": null,
   "metadata": {
    "ExecuteTime": {
     "end_time": "2020-03-03T01:11:44.272714Z",
     "start_time": "2020-03-03T01:11:44.203865Z"
    }
   },
   "outputs": [],
   "source": [
    "# Import the Sample worksheet with acquisition dates and initial cost basis:\n",
    "\n",
    "portfolio_df = pd.read_excel(r'C:/Users/gordo/Programming/Data_Bank/sample/Sample stocks acquisition dates_costs.xlsx')\n",
    "\n",
    "portfolio_df.head(10)"
   ]
  },
  {
   "cell_type": "code",
   "execution_count": null,
   "metadata": {
    "ExecuteTime": {
     "end_time": "2020-03-03T01:11:55.200345Z",
     "start_time": "2020-03-03T01:11:55.191369Z"
    }
   },
   "outputs": [],
   "source": [
    "# Confirm that you have 8 values for each column.\n",
    "\n",
    "portfolio_df.info()"
   ]
  },
  {
   "cell_type": "code",
   "execution_count": null,
   "metadata": {
    "ExecuteTime": {
     "end_time": "2020-03-03T01:12:00.845308Z",
     "start_time": "2020-03-03T01:12:00.837339Z"
    }
   },
   "outputs": [],
   "source": [
    "# Date Ranges for SP 500 and for all tickers\n",
    "# Modify these date ranges each week.\n",
    "\n",
    "# The below will pull back stock prices from 2010 until end date specified.\n",
    "start_sp = datetime.datetime(2013, 1, 1)\n",
    "end_sp = datetime.datetime(2018, 3, 1)\n",
    "\n",
    "# This variable is used for YTD performance.\n",
    "end_of_last_year = datetime.datetime(2017, 12, 29)\n",
    "\n",
    "# These are separate if for some reason want different date range than SP.\n",
    "stocks_start = datetime.datetime(2013, 1, 1)\n",
    "stocks_end = datetime.datetime(2018, 3, 1)"
   ]
  },
  {
   "cell_type": "code",
   "execution_count": null,
   "metadata": {
    "ExecuteTime": {
     "end_time": "2020-03-03T01:12:13.260014Z",
     "start_time": "2020-03-03T01:12:12.878554Z"
    }
   },
   "outputs": [],
   "source": [
    "# Leveraged from the helpful Datacamp Python Finance trading blog post.\n",
    "\n",
    "from pandas_datareader import data as pdr\n",
    "import yfinance as yf\n",
    "yf.pdr_override() # <== that's all it takes :-)\n",
    "\n",
    "sp500 = pdr.get_data_yahoo('^GSPC', \n",
    "                           start_sp,\n",
    "                             end_sp)\n",
    "                          \n",
    "sp500.head()"
   ]
  },
  {
   "cell_type": "code",
   "execution_count": null,
   "metadata": {
    "ExecuteTime": {
     "end_time": "2020-03-03T01:12:18.331386Z",
     "start_time": "2020-03-03T01:12:18.318399Z"
    }
   },
   "outputs": [],
   "source": [
    "sp500.tail()\n"
   ]
  },
  {
   "cell_type": "code",
   "execution_count": null,
   "metadata": {
    "ExecuteTime": {
     "end_time": "2020-03-03T01:12:25.841459Z",
     "start_time": "2020-03-03T01:12:25.831486Z"
    }
   },
   "outputs": [],
   "source": [
    "# Create a dataframe with only the Adj Close column as that's all we need for this analysis.\n",
    "sp_500_adj_close = sp500[['Adj Close']].reset_index()"
   ]
  },
  {
   "cell_type": "code",
   "execution_count": null,
   "metadata": {
    "ExecuteTime": {
     "end_time": "2020-03-03T01:12:29.889936Z",
     "start_time": "2020-03-03T01:12:29.878638Z"
    }
   },
   "outputs": [],
   "source": [
    "#sp_500_adj_close.tail()"
   ]
  },
  {
   "cell_type": "code",
   "execution_count": null,
   "metadata": {
    "ExecuteTime": {
     "end_time": "2020-03-03T01:12:36.358959Z",
     "start_time": "2020-03-03T01:12:36.349995Z"
    }
   },
   "outputs": [],
   "source": [
    "# Adj Close for the EOY in 2017 in order to run comparisons versus stocks YTD performances.\n",
    "\n",
    "sp_500_adj_close_start = sp_500_adj_close[sp_500_adj_close['Date']==end_of_last_year]\n",
    "sp_500_adj_close_start"
   ]
  },
  {
   "cell_type": "code",
   "execution_count": null,
   "metadata": {
    "ExecuteTime": {
     "end_time": "2020-03-03T01:12:42.031898Z",
     "start_time": "2020-03-03T01:12:42.021933Z"
    }
   },
   "outputs": [],
   "source": [
    "# Generate a dynamic list of tickers to pull from Yahoo Finance API based on the imported file with tickers.\n",
    "tickers = portfolio_df['Ticker'].unique()\n",
    "tickers"
   ]
  },
  {
   "cell_type": "code",
   "execution_count": null,
   "metadata": {
    "ExecuteTime": {
     "end_time": "2020-03-03T01:12:49.239743Z",
     "start_time": "2020-03-03T01:12:46.634854Z"
    }
   },
   "outputs": [],
   "source": [
    "# Stock comparison code\n",
    "\n",
    "def get(tickers, startdate, enddate):\n",
    "    def data(ticker):\n",
    "        return (pdr.get_data_yahoo(ticker, start=startdate, end=enddate))\n",
    "    datas = map(data, tickers)\n",
    "    return(pd.concat(datas, keys=tickers, names=['Ticker', 'Date']))\n",
    "               \n",
    "all_data = get(tickers, stocks_start, stocks_end)\n",
    "#all_data.head()"
   ]
  },
  {
   "cell_type": "code",
   "execution_count": null,
   "metadata": {
    "ExecuteTime": {
     "end_time": "2020-03-03T01:12:57.829612Z",
     "start_time": "2020-03-03T01:12:57.815649Z"
    }
   },
   "outputs": [],
   "source": [
    "# Also only pulling the ticker, date and adj. close columns for our tickers.\n",
    "adj_close = all_data[['Adj Close']].reset_index()\n",
    "#adj_close.head()"
   ]
  },
  {
   "cell_type": "code",
   "execution_count": null,
   "metadata": {
    "ExecuteTime": {
     "end_time": "2020-03-03T01:13:03.929165Z",
     "start_time": "2020-03-03T01:13:03.913166Z"
    }
   },
   "outputs": [],
   "source": [
    "# Grabbing the ticker close from the end of last year\n",
    "adj_close_start = adj_close[adj_close['Date']==end_of_last_year]\n",
    "#adj_close_start.head()"
   ]
  },
  {
   "cell_type": "code",
   "execution_count": null,
   "metadata": {
    "ExecuteTime": {
     "end_time": "2020-03-03T01:13:09.124765Z",
     "start_time": "2020-03-03T01:13:09.110781Z"
    }
   },
   "outputs": [],
   "source": [
    "# Grab the latest stock close price\n",
    "adj_close_latest = adj_close[adj_close['Date']==stocks_end]\n",
    "#adj_close_latest"
   ]
  },
  {
   "cell_type": "code",
   "execution_count": null,
   "metadata": {
    "ExecuteTime": {
     "end_time": "2020-03-03T01:13:18.141278Z",
     "start_time": "2020-03-03T01:13:18.126313Z"
    }
   },
   "outputs": [],
   "source": [
    "adj_close_latest.set_index('Ticker', inplace=True)\n",
    "#adj_close_latest.head()"
   ]
  },
  {
   "cell_type": "code",
   "execution_count": null,
   "metadata": {
    "ExecuteTime": {
     "end_time": "2020-03-03T01:13:24.140476Z",
     "start_time": "2020-03-03T01:13:24.126513Z"
    }
   },
   "outputs": [],
   "source": [
    "portfolio_df.set_index(['Ticker'], inplace=True)\n",
    "#portfolio_df.head()"
   ]
  },
  {
   "cell_type": "code",
   "execution_count": null,
   "metadata": {
    "ExecuteTime": {
     "end_time": "2020-03-03T01:13:29.819126Z",
     "start_time": "2020-03-03T01:13:29.801144Z"
    }
   },
   "outputs": [],
   "source": [
    "# Merge the portfolio dataframe with the adj close dataframe; they are being joined by their indexes.\n",
    "merged_portfolio = pd.merge(portfolio_df, adj_close_latest, left_index=True, right_index=True)\n",
    "#merged_portfolio.head()"
   ]
  },
  {
   "cell_type": "code",
   "execution_count": null,
   "metadata": {
    "ExecuteTime": {
     "end_time": "2020-03-03T01:13:35.998255Z",
     "start_time": "2020-03-03T01:13:35.975284Z"
    }
   },
   "outputs": [],
   "source": [
    "# The below creates a new column which is the ticker return; takes the latest adjusted close for each position\n",
    "# and divides that by the initial share cost.\n",
    "merged_portfolio['ticker return'] = merged_portfolio['Adj Close'] / merged_portfolio['Unit Cost'] - 1\n",
    "#merged_portfolio"
   ]
  },
  {
   "cell_type": "code",
   "execution_count": null,
   "metadata": {
    "ExecuteTime": {
     "end_time": "2020-03-03T01:13:41.789337Z",
     "start_time": "2020-03-03T01:13:41.782348Z"
    }
   },
   "outputs": [],
   "source": [
    "#merged_portfolio.reset_index(inplace=True)"
   ]
  },
  {
   "cell_type": "code",
   "execution_count": null,
   "metadata": {
    "ExecuteTime": {
     "end_time": "2020-03-03T01:13:46.939866Z",
     "start_time": "2020-03-03T01:13:46.916921Z"
    }
   },
   "outputs": [],
   "source": [
    "# Here we are merging the new dataframe with the sp500 adjusted closes since the sp start price based on \n",
    "# each ticker's acquisition date and sp500 close date.\n",
    "merged_portfolio_sp = pd.merge(merged_portfolio, sp_500_adj_close, left_on='Acquisition Date', right_on='Date')\n",
    "    # .set_index('Ticker')\n",
    "#merged_portfolio_sp.head()"
   ]
  },
  {
   "cell_type": "code",
   "execution_count": null,
   "metadata": {
    "ExecuteTime": {
     "end_time": "2020-03-03T01:13:54.738588Z",
     "start_time": "2020-03-03T01:13:54.718622Z"
    }
   },
   "outputs": [],
   "source": [
    "# We will delete the additional date column which is created from this merge.\n",
    "# We then rename columns to Latest Date and then reflect Ticker Adj Close and SP 500 Initial Close.\n",
    "del merged_portfolio_sp['Date_y']\n",
    "merged_portfolio_sp.rename(columns={'Date_x': 'Latest Date', 'Adj Close_x': 'Ticker Adj Close'\n",
    "                                    , 'Adj Close_y': 'SP 500 Initial Close'}, inplace=True)\n",
    "#merged_portfolio_sp.head()"
   ]
  },
  {
   "cell_type": "code",
   "execution_count": null,
   "metadata": {
    "ExecuteTime": {
     "end_time": "2020-03-03T01:13:59.858952Z",
     "start_time": "2020-03-03T01:13:59.836368Z"
    }
   },
   "outputs": [],
   "source": [
    "# This new column determines what SP 500 equivalent purchase would have been at purchase date of stock.\n",
    "merged_portfolio_sp['Equiv SP Shares'] = merged_portfolio_sp['Cost Basis'] / merged_portfolio_sp['SP 500 Initial Close']\n",
    "#merged_portfolio_sp.head()"
   ]
  },
  {
   "cell_type": "code",
   "execution_count": null,
   "metadata": {
    "ExecuteTime": {
     "end_time": "2020-03-03T01:14:05.766329Z",
     "start_time": "2020-03-03T01:14:05.744390Z"
    }
   },
   "outputs": [],
   "source": [
    "# We are joining the developing dataframe with the sp500 closes again, this time with the latest close for SP.\n",
    "merged_portfolio1 = pd.merge(merged_portfolio_sp, sp_500_adj_close, left_on='Latest Date', right_on='Date')\n",
    "#merged_portfolio_sp_latest.head()"
   ]
  },
  {
   "cell_type": "code",
   "execution_count": null,
   "metadata": {
    "ExecuteTime": {
     "end_time": "2020-03-03T01:14:11.562231Z",
     "start_time": "2020-03-03T01:14:11.543322Z"
    }
   },
   "outputs": [],
   "source": [
    "    # Once again need to delete the new Date column added as it's redundant to Latest Date.  \n",
    "    # Modify Adj Close from the sp dataframe to distinguish it by calling it the SP 500 Latest Close.\n",
    "del merged_portfolio1['Date']\n",
    "merged_portfolio1.rename(columns={'Adj Close': 'SP 500 Latest Close'}, inplace=True)\n",
    "#merged_portfolio_sp_latest.head()"
   ]
  },
  {
   "cell_type": "code",
   "execution_count": null,
   "metadata": {
    "ExecuteTime": {
     "end_time": "2020-03-03T01:14:18.927259Z",
     "start_time": "2020-03-03T01:14:18.887764Z"
    }
   },
   "outputs": [],
   "source": [
    "    # Percent return of SP from acquisition date of position through latest trading day.\n",
    "merged_portfolio1['SP Return'] = merged_portfolio1['SP 500 Latest Close'] / merged_portfolio1['SP 500 Initial Close'] - 1\n",
    "    # This is a new column which takes the tickers return and subtracts the sp 500 equivalent range return.\n",
    "merged_portfolio1['Abs. Return Compare'] = merged_portfolio1['ticker return'] - merged_portfolio1['SP Return']\n",
    "    # This is a new column where we calculate the ticker's share value by multiplying the original quantity by the latest close.\n",
    "merged_portfolio1['Ticker Share Value'] = merged_portfolio1['Quantity'] * merged_portfolio1['Ticker Adj Close']\n",
    "    # We calculate the equivalent SP 500 Value if we take the original SP shares * the latest SP 500 share price.\n",
    "merged_portfolio1['SP 500 Value'] = merged_portfolio1['Equiv SP Shares'] * merged_portfolio1['SP 500 Latest Close']\n",
    "    # This is a new column where we take the current market value for the shares and subtract the SP 500 value.\n",
    "merged_portfolio1['Abs Value Compare'] = merged_portfolio1['Ticker Share Value'] - merged_portfolio1['SP 500 Value']\n",
    "    # This column calculates profit / loss for stock position.\n",
    "merged_portfolio1['Stock Gain / (Loss)'] = merged_portfolio1['Ticker Share Value'] - merged_portfolio1['Cost Basis']\n",
    "    # This column calculates profit / loss for SP 500.\n",
    "merged_portfolio1['SP 500 Gain / (Loss)'] = merged_portfolio1['SP 500 Value'] - merged_portfolio1['Cost Basis']\n",
    "#merged_portfolio1.head()"
   ]
  },
  {
   "cell_type": "code",
   "execution_count": null,
   "metadata": {
    "ExecuteTime": {
     "end_time": "2020-03-03T01:14:24.162914Z",
     "start_time": "2020-03-03T01:14:24.125778Z"
    }
   },
   "outputs": [],
   "source": [
    "    # Merge the overall dataframe with the adj close start of year\n",
    "        #dataframe for YTD tracking of tickers.\n",
    "    # Should not need to do the outer join;\n",
    "merged_portfolio1 = pd.merge(merged_portfolio1, adj_close_start, on='Ticker')\n",
    "#merged_portfolio_sp_latest_YTD.head()"
   ]
  },
  {
   "cell_type": "code",
   "execution_count": null,
   "metadata": {
    "ExecuteTime": {
     "end_time": "2020-03-03T01:14:30.750184Z",
     "start_time": "2020-03-03T01:14:30.724158Z"
    }
   },
   "outputs": [],
   "source": [
    "    # Deleting date again as it's an unnecessary column.  \n",
    "        #Explaining that new column is the Ticker Start of Year Close.\n",
    "del merged_port_YTD['Date']\n",
    "merged_port_YTD.rename(columns={'Adj Close': 'Ticker Start Year Close'},\n",
    "                                      inplace=True)\n",
    "#merged_portfolio_sp_latest_YTD.head()"
   ]
  },
  {
   "cell_type": "code",
   "execution_count": null,
   "metadata": {
    "ExecuteTime": {
     "end_time": "2020-03-03T01:14:37.076535Z",
     "start_time": "2020-03-03T01:14:37.038444Z"
    }
   },
   "outputs": [],
   "source": [
    "    # Join the SP 500 start of year with current dataframe \n",
    "        #for SP 500 ytd comparisons to tickers.\n",
    "merged_portfolio_sp_latest_YTD_sp = pd.merge(merged_portfolio_sp_latest_YTD,\n",
    "                                             sp_500_adj_close_start,\n",
    "                                             left_on='Start of Year', \n",
    "                                             right_on='Date')\n",
    "\n",
    "merged_portfolio_sp_latest_YTD_sp.head()"
   ]
  },
  {
   "cell_type": "code",
   "execution_count": null,
   "metadata": {
    "ExecuteTime": {
     "end_time": "2020-03-03T01:14:43.009197Z",
     "start_time": "2020-03-03T01:14:42.980217Z"
    }
   },
   "outputs": [],
   "source": [
    "# Deleting another unneeded Date column.\n",
    "\n",
    "del merged_portfolio_sp_latest_YTD_sp['Date']\n",
    "\n",
    "# Renaming so that it's clear this column is SP 500 start of year close.\n",
    "merged_portfolio_sp_latest_YTD_sp.rename(columns={'Adj Close': 'SP Start Year Close'}, inplace=True)\n",
    "\n",
    "# YTD return for portfolio position.\n",
    "merged_portfolio_sp_latest_YTD_sp['Share YTD'] = merged_portfolio_sp_latest_YTD_sp['Ticker Adj Close'] / merged_portfolio_sp_latest_YTD_sp['Ticker Start Year Close'] - 1\n",
    "\n",
    "# YTD return for SP to run compares.\n",
    "merged_portfolio_sp_latest_YTD_sp['SP 500 YTD'] = merged_portfolio_sp_latest_YTD_sp['SP 500 Latest Close'] / merged_portfolio_sp_latest_YTD_sp['SP Start Year Close'] - 1\n",
    "\n",
    "merged_portfolio_sp_latest_YTD_sp.head()"
   ]
  },
  {
   "cell_type": "code",
   "execution_count": null,
   "metadata": {
    "ExecuteTime": {
     "end_time": "2020-03-03T01:14:49.228622Z",
     "start_time": "2020-03-03T01:14:49.194681Z"
    }
   },
   "outputs": [],
   "source": [
    "merged_portfolio_sp_latest_YTD_sp = merged_portfolio_sp_latest_YTD_sp.sort_values(by='Ticker', ascending=True)\n",
    "merged_portfolio_sp_latest_YTD_sp"
   ]
  },
  {
   "cell_type": "code",
   "execution_count": null,
   "metadata": {
    "ExecuteTime": {
     "end_time": "2020-03-03T01:14:54.362846Z",
     "start_time": "2020-03-03T01:14:54.331965Z"
    }
   },
   "outputs": [],
   "source": [
    "# Cumulative sum of original investment\n",
    "merged_portfolio_sp_latest_YTD_sp['Cum Invst'] = merged_portfolio_sp_latest_YTD_sp['Cost Basis'].cumsum()\n",
    "\n",
    "# Cumulative sum of Ticker Share Value (latest FMV based on initial quantity purchased).\n",
    "merged_portfolio_sp_latest_YTD_sp['Cum Ticker Returns'] = merged_portfolio_sp_latest_YTD_sp['Ticker Share Value'].cumsum()\n",
    "\n",
    "# Cumulative sum of SP Share Value (latest FMV driven off of initial SP equiv purchase).\n",
    "merged_portfolio_sp_latest_YTD_sp['Cum SP Returns'] = merged_portfolio_sp_latest_YTD_sp['SP 500 Value'].cumsum()\n",
    "\n",
    "# Cumulative CoC multiple return for stock investments\n",
    "merged_portfolio_sp_latest_YTD_sp['Cum Ticker ROI Mult'] = merged_portfolio_sp_latest_YTD_sp['Cum Ticker Returns'] / merged_portfolio_sp_latest_YTD_sp['Cum Invst']\n",
    "\n",
    "merged_portfolio_sp_latest_YTD_sp.head()"
   ]
  },
  {
   "cell_type": "markdown",
   "metadata": {},
   "source": [
    "## Assessing Where Positions are At versus Highest Close"
   ]
  },
  {
   "cell_type": "code",
   "execution_count": null,
   "metadata": {
    "ExecuteTime": {
     "end_time": "2020-03-03T01:15:15.562524Z",
     "start_time": "2020-03-03T01:15:15.545662Z"
    }
   },
   "outputs": [],
   "source": [
    "# Referencing the adj_close dataframe from above\n",
    "\n",
    "adj_close.head()"
   ]
  },
  {
   "cell_type": "code",
   "execution_count": null,
   "metadata": {
    "ExecuteTime": {
     "end_time": "2020-03-03T01:15:20.868179Z",
     "start_time": "2020-03-03T01:15:20.856213Z"
    }
   },
   "outputs": [],
   "source": [
    "portfolio_df.head()\n"
   ]
  },
  {
   "cell_type": "code",
   "execution_count": null,
   "metadata": {
    "ExecuteTime": {
     "end_time": "2020-03-03T01:15:28.277353Z",
     "start_time": "2020-03-03T01:15:28.255394Z"
    }
   },
   "outputs": [],
   "source": [
    "# Need to factor in that some positions were purchased much more recently than others.\n",
    "# Join adj_close dataframe with portfolio in order to have acquisition date.\n",
    "\n",
    "portfolio_df.reset_index(inplace=True)\n",
    "\n",
    "adj_close_acq_date = pd.merge(adj_close, portfolio_df, on='Ticker')\n",
    "\n",
    "adj_close_acq_date.head()"
   ]
  },
  {
   "cell_type": "code",
   "execution_count": null,
   "metadata": {
    "ExecuteTime": {
     "end_time": "2020-03-03T01:15:38.923622Z",
     "start_time": "2020-03-03T01:15:38.912656Z"
    }
   },
   "outputs": [],
   "source": [
    "# delete_columns = ['Quantity', 'Unit Cost', 'Cost Basis', 'Start of Year']\n",
    "\n",
    "del adj_close_acq_date['Quantity']\n",
    "del adj_close_acq_date['Unit Cost']\n",
    "del adj_close_acq_date['Cost Basis']\n",
    "del adj_close_acq_date['Start of Year']\n",
    "\n",
    "# Sort by these columns in this order in order to make it clearer where compare for each position should begin.\n",
    "adj_close_acq_date.sort_values(by=['Ticker', 'Acquisition Date', 'Date'], ascending=[True, True, True], inplace=True)"
   ]
  },
  {
   "cell_type": "code",
   "execution_count": null,
   "metadata": {
    "ExecuteTime": {
     "end_time": "2020-03-03T01:15:44.173876Z",
     "start_time": "2020-03-03T01:15:44.152840Z"
    }
   },
   "outputs": [],
   "source": [
    "# Anything less than 0 means that the stock close was prior to acquisition.\n",
    "adj_close_acq_date['Date Delta'] = adj_close_acq_date['Date'] - adj_close_acq_date['Acquisition Date']\n",
    "\n",
    "adj_close_acq_date['Date Delta'] = adj_close_acq_date[['Date Delta']].apply(pd.to_numeric)  \n",
    "\n",
    "adj_close_acq_date.head()"
   ]
  },
  {
   "cell_type": "code",
   "execution_count": null,
   "metadata": {
    "ExecuteTime": {
     "end_time": "2020-03-03T01:15:49.929311Z",
     "start_time": "2020-03-03T01:15:49.912394Z"
    }
   },
   "outputs": [],
   "source": [
    "# Modified the dataframe being evaluated to look at highest close which occurred after Acquisition Date (aka, not prior to purchase).\n",
    "\n",
    "adj_close_acq_date_modified = adj_close_acq_date[adj_close_acq_date['Date Delta']>=0]\n",
    "\n",
    "adj_close_acq_date_modified.head()"
   ]
  },
  {
   "cell_type": "code",
   "execution_count": null,
   "metadata": {
    "ExecuteTime": {
     "end_time": "2020-03-03T01:15:56.189135Z",
     "start_time": "2020-03-03T01:15:56.167197Z"
    }
   },
   "outputs": [],
   "source": [
    "# This pivot table will index on the Ticker and Acquisition Date, and find the max adjusted close.\n",
    "\n",
    "adj_close_pivot = adj_close_acq_date_modified.pivot_table(index=['Ticker', 'Acquisition Date'], values='Adj Close', aggfunc=np.max)\n",
    "\n",
    "adj_close_pivot.reset_index(inplace=True)\n",
    "\n",
    "adj_close_pivot"
   ]
  },
  {
   "cell_type": "code",
   "execution_count": null,
   "metadata": {
    "ExecuteTime": {
     "end_time": "2020-03-03T01:16:03.915351Z",
     "start_time": "2020-03-03T01:16:03.880482Z"
    }
   },
   "outputs": [],
   "source": [
    "# Merge the adj close pivot table with the adj_close table in order to grab the date of the Adj Close High (good to know).\n",
    "\n",
    "adj_close_pivot_merged = pd.merge(adj_close_pivot, adj_close\n",
    "                                             , on=['Ticker', 'Adj Close'])\n",
    "\n",
    "adj_close_pivot_merged.head()"
   ]
  },
  {
   "cell_type": "code",
   "execution_count": null,
   "metadata": {
    "ExecuteTime": {
     "end_time": "2020-03-03T01:16:09.376095Z",
     "start_time": "2020-03-03T01:16:09.339951Z"
    }
   },
   "outputs": [],
   "source": [
    "# Merge the Adj Close pivot table with the master dataframe to have the closing high since you have owned the stock.\n",
    "\n",
    "merged_portfolio_sp_latest_YTD_sp_closing_high = pd.merge(merged_portfolio_sp_latest_YTD_sp, adj_close_pivot_merged\n",
    "                                             , on=['Ticker', 'Acquisition Date'])\n",
    "\n",
    "# Renaming so that it's clear that the new columns are two year closing high and two year closing high date.\n",
    "merged_portfolio_sp_latest_YTD_sp_closing_high.rename(columns={'Adj Close': 'Closing High Adj Close', 'Date': 'Closing High Adj Close Date'}, inplace=True)\n",
    "\n",
    "merged_portfolio_sp_latest_YTD_sp_closing_high['Pct off High'] = merged_portfolio_sp_latest_YTD_sp_closing_high['Ticker Adj Close'] / merged_portfolio_sp_latest_YTD_sp_closing_high['Closing High Adj Close'] - 1 \n",
    "\n",
    "merged_portfolio_sp_latest_YTD_sp_closing_high"
   ]
  },
  {
   "cell_type": "code",
   "execution_count": null,
   "metadata": {
    "ExecuteTime": {
     "end_time": "2020-03-03T01:16:17.030344Z",
     "start_time": "2020-03-03T01:16:17.028154Z"
    }
   },
   "outputs": [],
   "source": [
    "# Not needed for this blog post -- this is if you have multiple positions for the same ticker with different acquisition dates.\n",
    "# merged_portfolio_sp_latest_YTD_sp_closing_high['Counts'] = merged_portfolio_sp_latest_YTD_sp_closing_high.index\n",
    "\n",
    "# merged_portfolio_sp_latest_YTD_sp_closing_high['Ticker #'] = merged_portfolio_sp_latest_YTD_sp_closing_high['Ticker'].map(str) + ' ' + merged_portfolio_sp_latest_YTD_sp_closing_high['Counts'].map(str)\n",
    "\n",
    "# merged_portfolio_sp_latest_YTD_sp_closing_high.head()"
   ]
  },
  {
   "cell_type": "markdown",
   "metadata": {},
   "source": [
    "## YTD and Trailing Stop Charts"
   ]
  },
  {
   "cell_type": "code",
   "execution_count": null,
   "metadata": {
    "ExecuteTime": {
     "end_time": "2020-03-03T01:16:43.153450Z",
     "start_time": "2020-03-03T01:16:41.947022Z"
    }
   },
   "outputs": [],
   "source": [
    "# Ploty is an outstanding resource for interactive charts.\n",
    "\n",
    "trace1 = go.Bar(\n",
    "    x = merged_portfolio_sp_latest_YTD_sp['Ticker'][0:10],\n",
    "    y = merged_portfolio_sp_latest_YTD_sp['Share YTD'][0:10],\n",
    "    name = 'Ticker YTD')\n",
    "\n",
    "trace2 = go.Scatter(\n",
    "    x = merged_portfolio_sp_latest_YTD_sp['Ticker'][0:10],\n",
    "    y = merged_portfolio_sp_latest_YTD_sp['SP 500 YTD'][0:10],\n",
    "    name = 'SP500 YTD')\n",
    "    \n",
    "data = [trace1, trace2]\n",
    "\n",
    "layout = go.Layout(title = 'YTD Return vs S&P 500 YTD'\n",
    "    , barmode = 'group'\n",
    "    , yaxis=dict(title='Returns', tickformat=\".2%\")\n",
    "    , xaxis=dict(title='Ticker')\n",
    "    , legend=dict(x=.8,y=1)\n",
    "    )\n",
    "\n",
    "fig = go.Figure(data=data, layout=layout)\n",
    "iplot(fig)"
   ]
  },
  {
   "cell_type": "code",
   "execution_count": null,
   "metadata": {
    "ExecuteTime": {
     "end_time": "2020-03-03T01:16:50.879544Z",
     "start_time": "2020-03-03T01:16:50.602056Z"
    }
   },
   "outputs": [],
   "source": [
    "# Current Share Price versus Closing High Since Purchased\n",
    "\n",
    "trace1 = go.Bar(\n",
    "    x = merged_portfolio_sp_latest_YTD_sp_closing_high['Ticker'][0:10],\n",
    "    y = merged_portfolio_sp_latest_YTD_sp_closing_high['Pct off High'][0:10],\n",
    "    name = 'Pct off High')\n",
    "    \n",
    "data = [trace1]\n",
    "\n",
    "layout = go.Layout(title = 'Adj Close % off of High'\n",
    "    , barmode = 'group'\n",
    "    , yaxis=dict(title='% Below Adj Close High', tickformat=\".2%\")\n",
    "    , xaxis=dict(title='Ticker')\n",
    "    , legend=dict(x=.8,y=1)\n",
    "    )\n",
    "\n",
    "fig = go.Figure(data=data, layout=layout)\n",
    "iplot(fig)"
   ]
  },
  {
   "cell_type": "markdown",
   "metadata": {},
   "source": [
    "## Total Return Comparison Charts"
   ]
  },
  {
   "cell_type": "code",
   "execution_count": null,
   "metadata": {
    "ExecuteTime": {
     "end_time": "2020-03-03T01:17:14.486955Z",
     "start_time": "2020-03-03T01:17:14.081822Z"
    }
   },
   "outputs": [],
   "source": [
    "trace1 = go.Bar(\n",
    "    x = merged_portfolio_sp_latest_YTD_sp_closing_high['Ticker'][0:10],\n",
    "    y = merged_portfolio_sp_latest_YTD_sp_closing_high['ticker return'][0:10],\n",
    "    name = 'Ticker Total Return')\n",
    "\n",
    "trace2 = go.Scatter(\n",
    "    x = merged_portfolio_sp_latest_YTD_sp_closing_high['Ticker'][0:10],\n",
    "    y = merged_portfolio_sp_latest_YTD_sp_closing_high['SP Return'][0:10],\n",
    "    name = 'SP500 Total Return')\n",
    "    \n",
    "data = [trace1, trace2]\n",
    "\n",
    "layout = go.Layout(title = 'Total Return vs S&P 500'\n",
    "    , barmode = 'group'\n",
    "    , yaxis=dict(title='Returns', tickformat=\".2%\")\n",
    "    , xaxis=dict(title='Ticker', tickformat=\".2%\")\n",
    "    , legend=dict(x=.8,y=1)\n",
    "    )\n",
    "\n",
    "fig = go.Figure(data=data, layout=layout)\n",
    "iplot(fig)"
   ]
  },
  {
   "cell_type": "markdown",
   "metadata": {},
   "source": [
    "## Cumulative Returns Over Time"
   ]
  },
  {
   "cell_type": "code",
   "execution_count": null,
   "metadata": {
    "ExecuteTime": {
     "end_time": "2020-03-03T01:17:37.077046Z",
     "start_time": "2020-03-03T01:17:36.793823Z"
    }
   },
   "outputs": [],
   "source": [
    "trace1 = go.Bar(\n",
    "    x = merged_portfolio_sp_latest_YTD_sp_closing_high['Ticker'][0:10],\n",
    "    y = merged_portfolio_sp_latest_YTD_sp_closing_high['Stock Gain / (Loss)'][0:10],\n",
    "    name = 'Ticker Total Return ($)')\n",
    "\n",
    "trace2 = go.Bar(\n",
    "    x = merged_portfolio_sp_latest_YTD_sp_closing_high['Ticker'][0:10],\n",
    "    y = merged_portfolio_sp_latest_YTD_sp_closing_high['SP 500 Gain / (Loss)'][0:10],\n",
    "    name = 'SP 500 Total Return ($)')\n",
    "\n",
    "trace3 = go.Scatter(\n",
    "    x = merged_portfolio_sp_latest_YTD_sp_closing_high['Ticker'][0:10],\n",
    "    y = merged_portfolio_sp_latest_YTD_sp_closing_high['ticker return'][0:10],\n",
    "    name = 'Ticker Total Return %',\n",
    "    yaxis='y2')\n",
    "\n",
    "data = [trace1, trace2, trace3]\n",
    "\n",
    "layout = go.Layout(title = 'Gain / (Loss) Total Return vs S&P 500'\n",
    "    , barmode = 'group'\n",
    "    , yaxis=dict(title='Gain / (Loss) ($)')\n",
    "    , yaxis2=dict(title='Ticker Return', overlaying='y', side='right', tickformat=\".2%\")\n",
    "    , xaxis=dict(title='Ticker')\n",
    "    , legend=dict(x=.75,y=1)\n",
    "    )\n",
    "\n",
    "fig = go.Figure(data=data, layout=layout)\n",
    "iplot(fig)"
   ]
  },
  {
   "cell_type": "code",
   "execution_count": null,
   "metadata": {
    "ExecuteTime": {
     "end_time": "2020-03-03T01:17:46.432721Z",
     "start_time": "2020-03-03T01:17:45.911124Z"
    },
    "scrolled": false
   },
   "outputs": [],
   "source": [
    "trace1 = go.Bar(\n",
    "    x = merged_portfolio_sp_latest_YTD_sp_closing_high['Ticker'],\n",
    "    y = merged_portfolio_sp_latest_YTD_sp_closing_high['Cum Invst'],\n",
    "    # mode = 'lines+markers',\n",
    "    name = 'Cum Invst')\n",
    "\n",
    "trace2 = go.Bar(\n",
    "    x = merged_portfolio_sp_latest_YTD_sp_closing_high['Ticker'],\n",
    "    y = merged_portfolio_sp_latest_YTD_sp_closing_high['Cum SP Returns'],\n",
    "    # mode = 'lines+markers',\n",
    "    name = 'Cum SP500 Returns')\n",
    "\n",
    "trace3 = go.Bar(\n",
    "    x = merged_portfolio_sp_latest_YTD_sp_closing_high['Ticker'],\n",
    "    y = merged_portfolio_sp_latest_YTD_sp_closing_high['Cum Ticker Returns'],\n",
    "    # mode = 'lines+markers',\n",
    "    name = 'Cum Ticker Returns')\n",
    "\n",
    "trace4 = go.Scatter(\n",
    "    x = merged_portfolio_sp_latest_YTD_sp_closing_high['Ticker'],\n",
    "    y = merged_portfolio_sp_latest_YTD_sp_closing_high['Cum Ticker ROI Mult'],\n",
    "    # mode = 'lines+markers',\n",
    "    name = 'Cum ROI Mult'\n",
    "    , yaxis='y2')\n",
    "\n",
    "\n",
    "data = [trace1, trace2, trace3, trace4]\n",
    "\n",
    "layout = go.Layout(title = 'Total Cumulative Investments Over Time'\n",
    "    , barmode = 'group'\n",
    "    , yaxis=dict(title='Returns')\n",
    "    , xaxis=dict(title='Ticker')\n",
    "    , legend=dict(x=.4,y=1)\n",
    "    , yaxis2=dict(title='Cum ROI Mult', overlaying='y', side='right')               \n",
    "    )\n",
    "\n",
    "fig = go.Figure(data=data, layout=layout)\n",
    "iplot(fig)"
   ]
  },
  {
   "cell_type": "markdown",
   "metadata": {},
   "source": [
    "# finance test"
   ]
  },
  {
   "cell_type": "code",
   "execution_count": null,
   "metadata": {
    "ExecuteTime": {
     "end_time": "2020-03-03T01:21:40.200372Z",
     "start_time": "2020-03-03T01:21:40.195388Z"
    }
   },
   "outputs": [],
   "source": [
    "import pandas as pd\n",
    "import numpy as np\n",
    "import datetime\n",
    "import matplotlib.pyplot as plt"
   ]
  },
  {
   "cell_type": "code",
   "execution_count": null,
   "metadata": {
    "ExecuteTime": {
     "end_time": "2020-03-03T01:21:47.516955Z",
     "start_time": "2020-03-03T01:21:47.145208Z"
    }
   },
   "outputs": [],
   "source": [
    "from pandas_datareader import data as pdr\n",
    "import fix_yahoo_finance\n",
    "\n",
    "aapl = pdr.get_data_yahoo('AAPL', \n",
    "                          start=datetime.datetime(2006, 10, 1), \n",
    "                          end=datetime.datetime(2012, 1, 1))\n",
    "aapl.head()"
   ]
  },
  {
   "cell_type": "code",
   "execution_count": null,
   "metadata": {
    "ExecuteTime": {
     "end_time": "2020-03-03T01:21:55.990188Z",
     "start_time": "2020-03-03T01:21:54.963314Z"
    }
   },
   "outputs": [],
   "source": [
    "\n",
    "import quandl \n",
    "aapl = quandl.get(\"WIKI/AAPL\", start_date=\"2006-10-01\", end_date=\"2012-01-01\")\n",
    "aapl.head()"
   ]
  },
  {
   "cell_type": "code",
   "execution_count": null,
   "metadata": {
    "ExecuteTime": {
     "end_time": "2020-03-03T01:22:03.364226Z",
     "start_time": "2020-03-03T01:22:02.830249Z"
    }
   },
   "outputs": [],
   "source": [
    "# Alternatively, you can load in a data set that has been retrieved for you already from Yahoo! Finance: \n",
    "aapl = pd.read_csv(\"https://s3.amazonaws.com/assets.datacamp.com/blog_assets/aapl.csv\", header=0, index_col= 0, names=['Open', 'High', 'Low', 'Close', 'Volume', 'Adj Close'], parse_dates=True)"
   ]
  },
  {
   "cell_type": "markdown",
   "metadata": {},
   "source": [
    "## Working With Time Series Data"
   ]
  },
  {
   "cell_type": "code",
   "execution_count": null,
   "metadata": {
    "ExecuteTime": {
     "end_time": "2020-03-03T01:22:22.466384Z",
     "start_time": "2020-03-03T01:22:22.459404Z"
    }
   },
   "outputs": [],
   "source": [
    "\n",
    "# Inspect the index \n",
    "aapl.index\n",
    "\n",
    "# Inspect the columns\n",
    "aapl.columns\n",
    "\n",
    "# Select only the last 10 observations of `Close`\n",
    "ts = aapl['Close'][-10:]\n",
    "\n",
    "# Check the type of `ts` \n",
    "type(ts)"
   ]
  },
  {
   "cell_type": "code",
   "execution_count": null,
   "metadata": {
    "ExecuteTime": {
     "end_time": "2020-03-03T01:22:29.637391Z",
     "start_time": "2020-03-03T01:22:29.614424Z"
    }
   },
   "outputs": [],
   "source": [
    "# Inspect the first rows of November-December 2006\n",
    "print(aapl.loc[pd.Timestamp('2006-11-01'):pd.Timestamp('2006-12-31')].head())\n",
    "\n",
    "# Inspect the first rows of 2007 \n",
    "print(aapl.loc['2007'].head())\n",
    "\n",
    "# Inspect November 2006\n",
    "print(aapl.iloc[22:43])\n",
    "\n",
    "# Inspect the 'Open' and 'Close' values at 2006-11-01 and 2006-12-01\n",
    "print(aapl.iloc[[22,43], [0, 3]])"
   ]
  },
  {
   "cell_type": "code",
   "execution_count": null,
   "metadata": {
    "ExecuteTime": {
     "end_time": "2020-03-03T01:31:04.195900Z",
     "start_time": "2020-03-03T01:31:04.170935Z"
    }
   },
   "outputs": [],
   "source": [
    "# Sample 20 rows\n",
    "sample = aapl.sample(20)\n",
    "\n",
    "# Print `sample`\n",
    "print(sample)\n",
    "\n",
    "# Resample to monthly level \n",
    "monthly_aapl = aapl.resample('M')\n",
    "\n",
    "# Print `monthly_aapl`\n",
    "print(monthly_aapl)"
   ]
  },
  {
   "cell_type": "code",
   "execution_count": null,
   "metadata": {
    "ExecuteTime": {
     "end_time": "2020-03-03T01:31:14.482123Z",
     "start_time": "2020-03-03T01:31:14.477164Z"
    }
   },
   "outputs": [],
   "source": [
    "# Add a column `diff` to `aapl` \n",
    "aapl['diff'] = aapl.Open - aapl.Close\n",
    "\n",
    "# Delete the new `diff` column\n",
    "del aapl['diff']"
   ]
  },
  {
   "cell_type": "code",
   "execution_count": null,
   "metadata": {
    "ExecuteTime": {
     "end_time": "2020-03-03T01:31:16.483754Z",
     "start_time": "2020-03-03T01:31:16.272292Z"
    }
   },
   "outputs": [],
   "source": [
    "\n",
    "# Import Matplotlib's `pyplot` module as `plt`\n",
    "import matplotlib.pyplot as plt\n",
    "\n",
    "# Plot the closing prices for `aapl`\n",
    "aapl['Close'].plot(grid=True)\n",
    "\n",
    "# Show the plot\n",
    "plt.show()"
   ]
  },
  {
   "cell_type": "markdown",
   "metadata": {},
   "source": [
    "## Common Financial Analysis\n",
    "\n",
    "### Returns"
   ]
  },
  {
   "cell_type": "code",
   "execution_count": null,
   "metadata": {
    "ExecuteTime": {
     "end_time": "2020-03-03T01:32:03.383256Z",
     "start_time": "2020-03-03T01:32:03.362345Z"
    }
   },
   "outputs": [],
   "source": [
    "# Assign `Adj Close` to `daily_close`\n",
    "daily_close = aapl[['Adj Close']]\n",
    "\n",
    "# Daily returns\n",
    "daily_pct_c = daily_close.pct_change()\n",
    "\n",
    "# Replace NA values with 0\n",
    "daily_pct_c.fillna(0, inplace=True)\n",
    "\n",
    "# Inspect daily returns\n",
    "print(daily_pct_c)\n",
    "\n",
    "# Daily log returns\n",
    "daily_log_returns = np.log(daily_close.pct_change()+1)\n",
    "\n",
    "# Print daily log returns\n",
    "print(daily_log_returns)"
   ]
  },
  {
   "cell_type": "code",
   "execution_count": null,
   "metadata": {
    "ExecuteTime": {
     "end_time": "2020-03-03T01:32:12.789623Z",
     "start_time": "2020-03-03T01:32:12.718852Z"
    }
   },
   "outputs": [],
   "source": [
    "# Resample `aapl` to business months, take last observation as value \n",
    "monthly = aapl.resample('BM').apply(lambda x: x[-1])\n",
    "\n",
    "# Calculate the monthly percentage change\n",
    "monthly.pct_change()\n",
    "\n",
    "# Resample `aapl` to quarters, take the mean as value per quarter\n",
    "quarter = aapl.resample(\"4M\").mean()\n",
    "\n",
    "# Calculate the quarterly percentage change\n",
    "quarter.pct_change()"
   ]
  },
  {
   "cell_type": "code",
   "execution_count": null,
   "metadata": {
    "ExecuteTime": {
     "end_time": "2020-03-03T01:32:20.364895Z",
     "start_time": "2020-03-03T01:32:20.353888Z"
    }
   },
   "outputs": [],
   "source": [
    "# Daily returns\n",
    "daily_pct_c = daily_close / daily_close.shift(1) - 1\n",
    "\n",
    "# Print `daily_pct_c`\n",
    "print(daily_pct_c)"
   ]
  },
  {
   "cell_type": "code",
   "execution_count": null,
   "metadata": {
    "ExecuteTime": {
     "end_time": "2020-03-03T01:32:28.147392Z",
     "start_time": "2020-03-03T01:32:27.911291Z"
    }
   },
   "outputs": [],
   "source": [
    "\n",
    "# Import matplotlib\n",
    "import matplotlib.pyplot as plt\n",
    "\n",
    "# Plot the distribution of `daily_pct_c`\n",
    "daily_pct_c.hist(bins=50)\n",
    "\n",
    "# Show the plot\n",
    "plt.show()\n",
    "\n",
    "# Pull up summary statistics\n",
    "print(daily_pct_c.describe())"
   ]
  },
  {
   "cell_type": "code",
   "execution_count": null,
   "metadata": {
    "ExecuteTime": {
     "end_time": "2020-03-03T01:32:35.019703Z",
     "start_time": "2020-03-03T01:32:35.010731Z"
    }
   },
   "outputs": [],
   "source": [
    "# Calculate the cumulative daily returns\n",
    "cum_daily_return = (1 + daily_pct_c).cumprod()\n",
    "\n",
    "# Print `cum_daily_return`\n",
    "print(cum_daily_return)"
   ]
  },
  {
   "cell_type": "code",
   "execution_count": null,
   "metadata": {
    "ExecuteTime": {
     "end_time": "2020-03-03T01:32:42.451365Z",
     "start_time": "2020-03-03T01:32:42.278376Z"
    }
   },
   "outputs": [],
   "source": [
    "\n",
    "# Import matplotlib\n",
    "import matplotlib.pyplot as plt \n",
    "\n",
    "# Plot the cumulative daily returns\n",
    "cum_daily_return.plot(figsize=(12,8))\n",
    "\n",
    "# Show the plot\n",
    "plt.show()"
   ]
  },
  {
   "cell_type": "code",
   "execution_count": null,
   "metadata": {
    "ExecuteTime": {
     "end_time": "2020-03-03T01:32:48.268365Z",
     "start_time": "2020-03-03T01:32:48.249419Z"
    }
   },
   "outputs": [],
   "source": [
    "# Resample the cumulative daily return to cumulative monthly return \n",
    "cum_monthly_return = cum_daily_return.resample(\"M\").mean()\n",
    "\n",
    "# Print the `cum_monthly_return`\n",
    "print(cum_monthly_return)"
   ]
  },
  {
   "cell_type": "code",
   "execution_count": null,
   "metadata": {
    "ExecuteTime": {
     "end_time": "2020-03-03T01:32:57.384698Z",
     "start_time": "2020-03-03T01:32:56.143174Z"
    }
   },
   "outputs": [],
   "source": [
    "\n",
    "from pandas_datareader import data as pdr\n",
    "import fix_yahoo_finance\n",
    "\n",
    "def get(tickers, startdate, enddate):\n",
    "    def data(ticker):\n",
    "        return (pdr.get_data_yahoo(ticker, start=startdate, end=enddate))\n",
    "    datas = map (data, tickers)\n",
    "    return(pd.concat(datas, keys=tickers, names=['Ticker', 'Date']))\n",
    "\n",
    "tickers = ['AAPL', 'MSFT', 'IBM', 'GOOG']\n",
    "all_data = get(tickers, datetime.datetime(2006, 10, 1), datetime.datetime(2012, 1, 1))\n",
    "all_data.head()"
   ]
  },
  {
   "cell_type": "code",
   "execution_count": null,
   "metadata": {
    "ExecuteTime": {
     "end_time": "2020-03-03T01:33:13.319326Z",
     "start_time": "2020-03-03T01:33:13.314143Z"
    }
   },
   "outputs": [],
   "source": [
    "#all_data = pd.read_csv(\"https://s3.amazonaws.com/assets.datacamp.com/blog_assets/all_stock_data.csv\", index_col= [0,1], header=0, parse_dates=[1])"
   ]
  },
  {
   "cell_type": "code",
   "execution_count": null,
   "metadata": {
    "ExecuteTime": {
     "end_time": "2020-03-03T01:33:15.575227Z",
     "start_time": "2020-03-03T01:33:14.596608Z"
    }
   },
   "outputs": [],
   "source": [
    "daily_close_px = all_data[['Adj Close']].reset_index().pivot('Date', 'Ticker', 'Adj Close')\n",
    "\n",
    "# Calculate the daily percentage change for `daily_close_px`\n",
    "daily_pct_change = daily_close_px.pct_change()\n",
    "\n",
    "# Plot the distributions\n",
    "daily_pct_change.hist(bins=50, sharex=True, figsize=(12,8))\n",
    "\n",
    "# Show the resulting plot\n",
    "plt.show()"
   ]
  },
  {
   "cell_type": "code",
   "execution_count": null,
   "metadata": {
    "ExecuteTime": {
     "end_time": "2020-03-03T01:33:27.170203Z",
     "start_time": "2020-03-03T01:33:25.949730Z"
    }
   },
   "outputs": [],
   "source": [
    "# Plot a scatter matrix with the `daily_pct_change` data \n",
    "pd.plotting.scatter_matrix(daily_pct_change, diagonal='kde', alpha=0.1,figsize=(12,12))\n",
    "\n",
    "# Show the plot\n",
    "plt.show()"
   ]
  },
  {
   "cell_type": "markdown",
   "metadata": {},
   "source": [
    "## Moving Windows"
   ]
  },
  {
   "cell_type": "code",
   "execution_count": null,
   "metadata": {
    "ExecuteTime": {
     "end_time": "2020-03-03T01:33:53.051236Z",
     "start_time": "2020-03-03T01:33:53.040228Z"
    }
   },
   "outputs": [],
   "source": [
    "# Isolate the adjusted closing prices \n",
    "adj_close_px = aapl['Adj Close']\n",
    "\n",
    "# Calculate the moving average\n",
    "moving_avg = adj_close_px.rolling(window=40).mean()\n",
    "\n",
    "# Inspect the result\n",
    "moving_avg[-10:]"
   ]
  },
  {
   "cell_type": "code",
   "execution_count": null,
   "metadata": {
    "ExecuteTime": {
     "end_time": "2020-03-03T01:33:59.221079Z",
     "start_time": "2020-03-03T01:33:59.054151Z"
    }
   },
   "outputs": [],
   "source": [
    "# Short moving window rolling mean\n",
    "aapl['42'] = adj_close_px.rolling(window=40).mean()\n",
    "\n",
    "# Long moving window rolling mean\n",
    "aapl['252'] = adj_close_px.rolling(window=252).mean()\n",
    "\n",
    "# Plot the adjusted closing price, the short and long windows of rolling means\n",
    "aapl[['Adj Close', '42', '252']].plot()\n",
    "\n",
    "plt.show()"
   ]
  },
  {
   "cell_type": "markdown",
   "metadata": {},
   "source": [
    "## Volatility Calculation"
   ]
  },
  {
   "cell_type": "code",
   "execution_count": null,
   "metadata": {
    "ExecuteTime": {
     "end_time": "2020-03-03T01:34:20.937343Z",
     "start_time": "2020-03-03T01:34:20.713943Z"
    }
   },
   "outputs": [],
   "source": [
    "# Define the minumum of periods to consider \n",
    "min_periods = 75 \n",
    "\n",
    "# Calculate the volatility\n",
    "vol = daily_pct_change.rolling(min_periods).std() * np.sqrt(min_periods) \n",
    "\n",
    "# Plot the volatility\n",
    "vol.plot(figsize=(10, 8))\n",
    "\n",
    "# Show the plot\n",
    "plt.show()"
   ]
  },
  {
   "cell_type": "markdown",
   "metadata": {},
   "source": [
    "## Ordinary Least-Squares Regression (OLS)"
   ]
  },
  {
   "cell_type": "code",
   "execution_count": null,
   "metadata": {
    "ExecuteTime": {
     "end_time": "2020-03-03T01:37:46.556625Z",
     "start_time": "2020-03-03T01:37:46.503744Z"
    }
   },
   "outputs": [],
   "source": [
    "# Import the `api` model of `statsmodels` under alias `sm`\n",
    "import statsmodels.api as sm\n",
    "from pandas import tseries\n",
    "from datetime import date, datetime\n",
    "\n",
    "# Isolate the adjusted closing price\n",
    "all_adj_close = all_data[['Adj Close']]\n",
    "\n",
    "# Calculate the returns \n",
    "all_returns = np.log(all_adj_close / all_adj_close.shift(1))\n",
    "\n",
    "# Isolate the AAPL returns \n",
    "aapl_returns = all_returns.iloc[all_returns.index.get_level_values('Ticker') == 'AAPL']\n",
    "aapl_returns.index = aapl_returns.index.droplevel('Ticker')\n",
    "\n",
    "# Isolate the MSFT returns\n",
    "msft_returns = all_returns.iloc[all_returns.index.get_level_values('Ticker') == 'MSFT']\n",
    "msft_returns.index = msft_returns.index.droplevel('Ticker')\n",
    "\n",
    "# Build up a new DataFrame with AAPL and MSFT returns\n",
    "return_data = pd.concat([aapl_returns, msft_returns], axis=1)[1:]\n",
    "return_data.columns = ['AAPL', 'MSFT']\n",
    "\n",
    "# Add a constant \n",
    "X = sm.add_constant(return_data['AAPL'])\n",
    "\n",
    "# Construct the model\n",
    "model = sm.OLS(return_data['MSFT'],X).fit()\n",
    "\n",
    "# Print the summary\n",
    "print(model.summary())"
   ]
  },
  {
   "cell_type": "code",
   "execution_count": null,
   "metadata": {
    "ExecuteTime": {
     "end_time": "2020-03-03T01:38:02.960220Z",
     "start_time": "2020-03-03T01:38:02.803605Z"
    }
   },
   "outputs": [],
   "source": [
    "plt.plot(return_data['AAPL'], return_data['MSFT'], 'r.')\n",
    "\n",
    "ax = plt.axis()\n",
    "x = np.linspace(ax[0], ax[1] + 0.01)\n",
    "\n",
    "plt.plot(x, model.params[0] + model.params[1] * x, 'b', lw=2)\n",
    "\n",
    "plt.grid(True)\n",
    "plt.axis('tight')\n",
    "plt.xlabel('Apple Returns')\n",
    "plt.ylabel('Microsoft returns')\n",
    "\n",
    "plt.show()"
   ]
  },
  {
   "cell_type": "code",
   "execution_count": null,
   "metadata": {
    "ExecuteTime": {
     "end_time": "2020-03-03T01:38:09.581608Z",
     "start_time": "2020-03-03T01:38:09.388091Z"
    }
   },
   "outputs": [],
   "source": [
    "\n",
    "return_data['MSFT'].rolling(window=252).corr(return_data['AAPL']).plot()\n",
    "plt.show()"
   ]
  },
  {
   "cell_type": "markdown",
   "metadata": {},
   "source": [
    "## Building A Trading Strategy With Python"
   ]
  },
  {
   "cell_type": "code",
   "execution_count": null,
   "metadata": {
    "ExecuteTime": {
     "end_time": "2020-03-03T01:38:35.698490Z",
     "start_time": "2020-03-03T01:38:35.684526Z"
    }
   },
   "outputs": [],
   "source": [
    "# Initialize the short and long windows\n",
    "short_window = 40\n",
    "long_window = 100\n",
    "\n",
    "# Initialize the `signals` DataFrame with the `signal` column\n",
    "signals = pd.DataFrame(index=aapl.index)\n",
    "signals['signal'] = 0.0\n",
    "\n",
    "# Create short simple moving average over the short window\n",
    "signals['short_mavg'] = aapl['Close'].rolling(window=short_window, min_periods=1, center=False).mean()\n",
    "\n",
    "# Create long simple moving average over the long window\n",
    "signals['long_mavg'] = aapl['Close'].rolling(window=long_window, min_periods=1, center=False).mean()\n",
    "\n",
    "# Create signals\n",
    "signals['signal'][short_window:] = np.where(signals['short_mavg'][short_window:] \n",
    "                                            > signals['long_mavg'][short_window:], 1.0, 0.0)   \n",
    "\n",
    "# Generate trading orders\n",
    "signals['positions'] = signals['signal'].diff()\n"
   ]
  },
  {
   "cell_type": "code",
   "execution_count": null,
   "metadata": {
    "ExecuteTime": {
     "end_time": "2020-03-03T01:38:42.194887Z",
     "start_time": "2020-03-03T01:38:42.019324Z"
    }
   },
   "outputs": [],
   "source": [
    "# Initialize the plot figure\n",
    "fig = plt.figure()\n",
    "\n",
    "# Add a subplot and label for y-axis\n",
    "ax1 = fig.add_subplot(111,  ylabel='Price in $')\n",
    "\n",
    "# Plot the closing price\n",
    "aapl['Close'].plot(ax=ax1, color='r', lw=2.)\n",
    "\n",
    "# Plot the short and long moving averages\n",
    "signals[['short_mavg', 'long_mavg']].plot(ax=ax1, lw=2.)\n",
    "\n",
    "# Plot the buy signals\n",
    "ax1.plot(signals.loc[signals.positions == 1.0].index, \n",
    "         signals.short_mavg[signals.positions == 1.0],\n",
    "         '^', markersize=10, color='m')\n",
    "         \n",
    "# Plot the sell signals\n",
    "ax1.plot(signals.loc[signals.positions == -1.0].index, \n",
    "         signals.short_mavg[signals.positions == -1.0],\n",
    "         'v', markersize=10, color='k')\n",
    "         \n",
    "# Show the plot\n",
    "plt.show()"
   ]
  },
  {
   "cell_type": "markdown",
   "metadata": {},
   "source": [
    "## Backtesting A Strategy"
   ]
  },
  {
   "cell_type": "code",
   "execution_count": null,
   "metadata": {
    "ExecuteTime": {
     "end_time": "2020-03-03T01:39:04.110558Z",
     "start_time": "2020-03-03T01:39:04.091588Z"
    }
   },
   "outputs": [],
   "source": [
    "# Set the initial capital\n",
    "initial_capital= float(100000.0)\n",
    "\n",
    "# Create a DataFrame `positions`\n",
    "positions = pd.DataFrame(index=signals.index).fillna(0.0)\n",
    "\n",
    "# Buy a 100 shares\n",
    "positions['AAPL'] = 100*signals['signal']   \n",
    "  \n",
    "# Initialize the portfolio with value owned   \n",
    "portfolio = positions.multiply(aapl['Adj Close'], axis=0)\n",
    "\n",
    "# Store the difference in shares owned \n",
    "pos_diff = positions.diff()\n",
    "\n",
    "# Add `holdings` to portfolio\n",
    "portfolio['holdings'] = (positions.multiply(aapl['Adj Close'], axis=0)).sum(axis=1)\n",
    "\n",
    "# Add `cash` to portfolio\n",
    "portfolio['cash'] = initial_capital - (pos_diff.multiply(aapl['Adj Close'], axis=0)).sum(axis=1).cumsum()   \n",
    "\n",
    "# Add `total` to portfolio\n",
    "portfolio['total'] = portfolio['cash'] + portfolio['holdings']\n",
    "\n",
    "# Add `returns` to portfolio\n",
    "portfolio['returns'] = portfolio['total'].pct_change()"
   ]
  },
  {
   "cell_type": "code",
   "execution_count": null,
   "metadata": {
    "ExecuteTime": {
     "end_time": "2020-03-03T01:39:10.282803Z",
     "start_time": "2020-03-03T01:39:10.139198Z"
    }
   },
   "outputs": [],
   "source": [
    "import matplotlib.pyplot as plt\n",
    "\n",
    "fig = plt.figure()\n",
    "\n",
    "ax1 = fig.add_subplot(111, ylabel='Portfolio value in $')\n",
    "\n",
    "# Plot the equity curve in dollars\n",
    "portfolio['total'].plot(ax=ax1, lw=2.)\n",
    "\n",
    "# Plot the \"buy\" trades against the equity curve\n",
    "ax1.plot(portfolio.loc[signals.positions == 1.0].index, \n",
    "         portfolio.total[signals.positions == 1.0],\n",
    "         '^', markersize=10, color='m')\n",
    "\n",
    "# Plot the \"sell\" trades against the equity curve\n",
    "ax1.plot(portfolio.loc[signals.positions == -1.0].index, \n",
    "         portfolio.total[signals.positions == -1.0],\n",
    "         'v', markersize=10, color='k')\n",
    "\n",
    "# Show the plot\n",
    "plt.show()"
   ]
  },
  {
   "cell_type": "markdown",
   "metadata": {},
   "source": [
    "## Evaluating Moving Average Crossover Strategy"
   ]
  },
  {
   "cell_type": "markdown",
   "metadata": {},
   "source": [
    "### Sharpe Ratio"
   ]
  },
  {
   "cell_type": "code",
   "execution_count": null,
   "metadata": {
    "ExecuteTime": {
     "end_time": "2020-03-03T01:39:49.000705Z",
     "start_time": "2020-03-03T01:39:48.995752Z"
    }
   },
   "outputs": [],
   "source": [
    "# Isolate the returns of your strategy\n",
    "returns = portfolio['returns']\n",
    "\n",
    "# annualized Sharpe ratio\n",
    "sharpe_ratio = np.sqrt(252) * (returns.mean() / returns.std())\n",
    "\n",
    "# Print the Sharpe ratio\n",
    "print(sharpe_ratio)"
   ]
  },
  {
   "cell_type": "markdown",
   "metadata": {},
   "source": [
    "### Maximum Drawdown"
   ]
  },
  {
   "cell_type": "code",
   "execution_count": null,
   "metadata": {
    "ExecuteTime": {
     "end_time": "2020-03-03T01:40:19.982517Z",
     "start_time": "2020-03-03T01:40:19.844846Z"
    }
   },
   "outputs": [],
   "source": [
    "# Define a trailing 252 trading day window\n",
    "window = 252\n",
    "\n",
    "# Calculate the max drawdown in the past window days for each day\n",
    "rolling_max = aapl['Adj Close'].rolling(window, min_periods=1).max()\n",
    "daily_drawdown = aapl['Adj Close']/rolling_max - 1.0\n",
    "\n",
    "# Calculate the minimum (negative) daily drawdown\n",
    "max_daily_drawdown = daily_drawdown.rolling(window, min_periods=1).min()\n",
    "\n",
    "# Plot the results\n",
    "daily_drawdown.plot()\n",
    "max_daily_drawdown.plot()\n",
    "\n",
    "# Show the plot\n",
    "plt.show()"
   ]
  },
  {
   "cell_type": "markdown",
   "metadata": {},
   "source": [
    "### Compound Annual Growth Rate (CAGR)"
   ]
  },
  {
   "cell_type": "code",
   "execution_count": null,
   "metadata": {
    "ExecuteTime": {
     "end_time": "2020-03-03T02:10:54.431785Z",
     "start_time": "2020-03-03T02:10:54.404854Z"
    }
   },
   "outputs": [],
   "source": [
    "# Get the number of days in `aapl`\n",
    "days = (aapl.index[-1] - aapl.index[0]).days\n",
    "\n",
    "# Calculate the CAGR \n",
    "cagr = ((((aapl['Adj Close'][-1]) / aapl['Adj Close'][1])) ** (365.0/days)) - 1\n",
    "\n",
    "# Print CAGR\n",
    "print(cagr)"
   ]
  },
  {
   "cell_type": "markdown",
   "metadata": {},
   "source": [
    "# A Simple Time Series Analysis Of The S&P 500 Index\n",
    "\n",
    "In this blog post we'll examine some common techniques used in time series analysis by applying them to a data set containing daily closing values for the S&P 500 stock market index from 1950 up to present day. The objective is to explore some of the basic ideas and concepts from time series analysis, and observe their effects when applied to a real world data set. Although it's not possible to actually predict changes in the index using these techniques, the ideas presented here could theoretically be used as part of a larger strategy involving many additional variables to conduct a regression or machine learning effort.\n",
    "\n",
    "Time series analysis is a branch of statistics that involves reasoning about ordered sequences of related values in order to extract meaningful statistics and other characteristics of the data. It's used in a wide range of disciplines including econometrics, signal processing, weather forecasting, and basically any other field that involves time series data. These techniques are often used to develop models that can be used to attempt to forecast future values of a series, either on their own or in concert with other variables.\n",
    "\n",
    "To get started, let's first download the data. I got the historial data set from Yahoo Finance, which includes a link to download the whole thing as a .csv file. Now we can load up the data set and take a look. I'll be using several popular Python libraries for the analysis, so all of the code is in Python."
   ]
  },
  {
   "cell_type": "code",
   "execution_count": null,
   "metadata": {
    "ExecuteTime": {
     "end_time": "2020-03-03T02:10:54.431785Z",
     "start_time": "2020-03-03T02:10:54.404854Z"
    }
   },
   "outputs": [],
   "source": [
    "%matplotlib inline\n",
    "import os\n",
    "import numpy as np\n",
    "import pandas as pd\n",
    "import matplotlib.pyplot as plt\n",
    "import statsmodels.api as sm\n",
    "import seaborn as sb\n",
    "sb.set_style('darkgrid')\n",
    "\n",
    "path = os.getcwd() + '\\data\\stock_data.csv'\n",
    "stock_data = pd.read_csv(r'C:\\Users\\gordo\\Programming\\Data_Bank\\sample\\^GSPC.csv')\n",
    "#stock_data['Date'] = stock_data['Date'].convert_objects(convert_dates='coerce')\n",
    "#stock_data = stock_data.sort_index(by='Date')\n",
    "stock_data = stock_data.set_index('Date')\n",
    "\n",
    "stock_data"
   ]
  },
  {
   "cell_type": "markdown",
   "metadata": {},
   "source": [
    "The first obvious thing to note, aside from the two giant dips at the tail end corresponding to the market crashes in 2002 and 2008, is that the data is clearly non-stationary. This makes sense for market data as it tends to go up in the long run more than it goes down. This is a problem for time series analysis though as non-stationary data is hard to reason about. The first thing we can try is a first difference of the series. In other words, subtract the previous value t-1 from the current value t to get the difference d(t)."
   ]
  },
  {
   "cell_type": "code",
   "execution_count": null,
   "metadata": {
    "ExecuteTime": {
     "end_time": "2020-03-03T02:11:02.390719Z",
     "start_time": "2020-03-03T02:11:02.160719Z"
    },
    "scrolled": false
   },
   "outputs": [],
   "source": [
    "stock_data['First Difference'] = stock_data['Close'] - stock_data['Close'].shift()\n",
    "stock_data['First Difference'].plot(figsize=(16, 12))"
   ]
  },
  {
   "cell_type": "markdown",
   "metadata": {},
   "source": [
    "The data no longer appears to be trending up over time and is instead centered around 0. There's another problem though. Look at the variance. It's very small early on and steadily increases over time. This is a sign that the data is not only non-stationary but also exponentially increasing. The magnitude of the day-to-day variations at present day completely dwarf the magnitude of the changes in 1950. To deal with this, we'll apply a log transform to the original series."
   ]
  },
  {
   "cell_type": "code",
   "execution_count": null,
   "metadata": {
    "ExecuteTime": {
     "end_time": "2020-03-03T02:11:23.568107Z",
     "start_time": "2020-03-03T02:11:23.344668Z"
    },
    "scrolled": false
   },
   "outputs": [],
   "source": [
    "stock_data['Natural Log'] = stock_data['Close'].apply(lambda x: np.log(x))\n",
    "stock_data['Natural Log'].plot(figsize=(16, 12))"
   ]
  },
  {
   "cell_type": "markdown",
   "metadata": {},
   "source": [
    "So that gives us the original closing price with a log transform applied to \"flatten\" the data from an exponential curve to a linear curve. One way to visually see the effect that the log transform had is to analyze the variance over time. We can use a rolling variance statistic and compare both the original series and the logged series."
   ]
  },
  {
   "cell_type": "code",
   "execution_count": null,
   "metadata": {
    "ExecuteTime": {
     "end_time": "2020-03-03T02:15:45.845602Z",
     "start_time": "2020-03-03T02:15:45.491549Z"
    }
   },
   "outputs": [],
   "source": [
    "stock_data['Original Variance'] = stock_data['Close'].rolling(30).mean()\n",
    "stock_data['Log Variance'] = stock_data['Natural Log'].rolling(30).mean()\n",
    "\n",
    " #= pd.rolling_mean(stock_data['Close'], 30, min_periods=None, freq=None, center=True)\n",
    " #= pd.rolling_mean(stock_data['Natural Log'], 30, min_periods=None, freq=None, center=True)\n",
    "\n",
    "fig, ax = plt.subplots(2, 1, figsize=(13, 12))\n",
    "stock_data['Original Variance'].plot(ax=ax[0], title='Original Variance')\n",
    "stock_data['Log Variance'].plot(ax=ax[1], title='Log Variance')\n",
    "fig.tight_layout()\n",
    "\n",
    "#ts_log.rolling(30).mean()"
   ]
  },
  {
   "cell_type": "markdown",
   "metadata": {},
   "source": [
    "Observe that in the top graph, we can't even see any of the variations until the late 80s. In the bottom graph however it's a different story, changes in the value are clearly visible throughout the entire data set. From this view, it's clear that our transformation has made the variance relatively constant.\n",
    "\n",
    "Now we can see the earlier variations in the data set quite a bit better than before. We still need to take the first difference though so let's calculate that from the logged series."
   ]
  },
  {
   "cell_type": "code",
   "execution_count": null,
   "metadata": {
    "ExecuteTime": {
     "end_time": "2020-03-03T02:16:33.093370Z",
     "start_time": "2020-03-03T02:16:32.852016Z"
    }
   },
   "outputs": [],
   "source": [
    "stock_data['Logged First Difference'] = stock_data['Natural Log'] - stock_data['Natural Log'].shift()\n",
    "stock_data['Logged First Difference'].plot(figsize=(16, 12))"
   ]
  },
  {
   "cell_type": "markdown",
   "metadata": {},
   "source": [
    "Much better! We now have a stationary time series model of daily changes to the S&P 500 index. Now let's create some lag variables y(t-1), y(t-2) etc. and examine their relationship to y(t). We'll look at 1 and 2-day lags along with weekly and monthly lags to look for \"seasonal\" effects.\n",
    "\n",
    "One interesting visual way to evaluate the relationship between lagged variables is to do a scatter plot of the original variable vs. the lagged variable and see where the distribution lies. We can do this with a joint plot using the seaborn package."
   ]
  },
  {
   "cell_type": "code",
   "execution_count": null,
   "metadata": {
    "ExecuteTime": {
     "end_time": "2020-03-03T02:17:19.749320Z",
     "start_time": "2020-03-03T02:17:18.868635Z"
    }
   },
   "outputs": [],
   "source": [
    "stock_data['Lag 1'] = stock_data['Logged First Difference'].shift()\n",
    "stock_data['Lag 2'] = stock_data['Logged First Difference'].shift(2)\n",
    "stock_data['Lag 5'] = stock_data['Logged First Difference'].shift(5)\n",
    "stock_data['Lag 30'] = stock_data['Logged First Difference'].shift(30)\n",
    "\n",
    "sb.jointplot('Logged First Difference', 'Lag 1', stock_data, kind='reg', height=13)\n"
   ]
  },
  {
   "cell_type": "markdown",
   "metadata": {},
   "source": [
    "Notice how tightly packed the mass is around 0. It also appears to be pretty evenly distributed - the marginal distributions on both axes are roughly normal. This seems to indicate that knowing the index value one day doesn't tell us much about what it will do the next day.\n",
    "\n",
    "It probably comes as no surprise that there's very little correlation between the change in value from one day to the next. Although I didn't plot them out here, the other lagged variables that we created above show similar results. There could be a relationship to other lag steps that we haven't tried, but it's impractical to test every possible lag value manually. Fortunately there is a class of functions that can systematically do this for us."
   ]
  },
  {
   "cell_type": "code",
   "execution_count": null,
   "metadata": {
    "ExecuteTime": {
     "end_time": "2020-03-03T02:18:04.291073Z",
     "start_time": "2020-03-03T02:18:04.277090Z"
    }
   },
   "outputs": [],
   "source": [
    "from statsmodels.tsa.stattools import acf\n",
    "from statsmodels.tsa.stattools import pacf\n",
    "\n",
    "lag_correlations = acf(stock_data['Logged First Difference'].iloc[1:])\n",
    "lag_partial_correlations = pacf(stock_data['Logged First Difference'].iloc[1:])"
   ]
  },
  {
   "cell_type": "markdown",
   "metadata": {},
   "source": [
    "The auto-correlation function computes the correlation between a variable and itself at each lag step up to some limit (in this case 40). The partial auto-correlation function computes the correlation at each lag step that is NOT already explained by previous, lower-order lag steps. We can plot the results to see if there are any significant correlations."
   ]
  },
  {
   "cell_type": "code",
   "execution_count": null,
   "metadata": {
    "ExecuteTime": {
     "end_time": "2020-03-03T02:18:06.225652Z",
     "start_time": "2020-03-03T02:18:05.905474Z"
    },
    "scrolled": false
   },
   "outputs": [],
   "source": [
    "fig, ax = plt.subplots(figsize=(16,12))\n",
    "ax.plot(lag_correlations, marker='o', linestyle='--')"
   ]
  },
  {
   "cell_type": "markdown",
   "metadata": {},
   "source": [
    "The auto-correlation and partial-autocorrelation results are very close to each other (I only plotted the auto-correlation results above). What this shows is that there is no significant (> 0.2) correlation between the value at time t and at any time prior to t up to 40 steps behind. In order words, the series is a random walk.\n",
    "\n",
    "Another interesting technique we can try is a decomposition. This is a technique that attempts to break down a time series into trend, seasonal, and residual factors. Statsmodels comes with a decompose function out of the box."
   ]
  },
  {
   "cell_type": "code",
   "execution_count": null,
   "metadata": {
    "ExecuteTime": {
     "end_time": "2020-03-03T02:19:47.229905Z",
     "start_time": "2020-03-03T02:19:04.066777Z"
    }
   },
   "outputs": [],
   "source": [
    "from statsmodels.tsa.seasonal import seasonal_decompose\n",
    "\n",
    "decomposition = seasonal_decompose(stock_data['Natural Log'], model='additive', period=30)\n",
    "fig = plt.figure()\n",
    "fig = decomposition.plot()"
   ]
  },
  {
   "cell_type": "markdown",
   "metadata": {},
   "source": [
    "Since we don't see any real cycle in the data, the visualization is not that effective in this case. For data where this is a strong seasonal pattern though it can be very useful. The folling instance, for example, is a sample from the statsmodels documentation showing CO2 emissions data over time."
   ]
  },
  {
   "cell_type": "code",
   "execution_count": null,
   "metadata": {
    "ExecuteTime": {
     "end_time": "2020-03-03T02:19:56.759483Z",
     "start_time": "2020-03-03T02:19:55.977539Z"
    }
   },
   "outputs": [],
   "source": [
    "co2_data = sm.datasets.co2.load_pandas().data\n",
    "co2_data.co2.interpolate(inplace=True)\n",
    "result = sm.tsa.seasonal_decompose(co2_data.co2)\n",
    "fig = plt.figure()\n",
    "fig = result.plot()"
   ]
  },
  {
   "cell_type": "markdown",
   "metadata": {},
   "source": [
    "The decomposition is much more useful in this case. There are three clearly distinct components to the time series - a trend line, a seasonal adjustment, and residual values. Each of these would need to be accounted for and modeled appropriately.\n",
    "\n",
    "Going back to our stock data, we're already observed that it's a random walk and that our lagged variables don't seem to have much impact, but we can still try fitting some ARIMA models and see what we get. Let's start with a simple moving average model."
   ]
  },
  {
   "cell_type": "code",
   "execution_count": null,
   "metadata": {
    "ExecuteTime": {
     "end_time": "2020-03-03T02:20:01.022621Z",
     "start_time": "2020-03-03T02:20:00.573824Z"
    }
   },
   "outputs": [],
   "source": [
    "model = sm.tsa.ARIMA(stock_data['Natural Log'].iloc[1:], order=(1, 0, 0))\n",
    "results = model.fit(disp=-1)\n",
    "stock_data['Forecast'] = results.fittedvalues\n",
    "stock_data[['Natural Log', 'Forecast']].plot(figsize=(16, 12))"
   ]
  },
  {
   "cell_type": "markdown",
   "metadata": {},
   "source": [
    "So at first glance it seems like this model is doing pretty well. But although it appears like the forecasts are really close (the lines are almost indistinguishable after all), remember that we used the un-differenced series! The index only fluctuates a small percentage day-to-day relative to the total absolute value. What we really want is to predict the first difference, or the day-to-day moves. We can either re-run the model using the differenced series, or add an \"I\" term to the ARIMA model (resulting in a (1, 1, 0) model) which should accomplish the same thing. Let's try using the differenced series."
   ]
  },
  {
   "cell_type": "code",
   "execution_count": null,
   "metadata": {
    "ExecuteTime": {
     "end_time": "2020-03-03T02:20:26.100059Z",
     "start_time": "2020-03-03T02:20:25.778892Z"
    }
   },
   "outputs": [],
   "source": [
    "model = sm.tsa.ARIMA(stock_data['Logged First Difference'].iloc[1:], order=(1, 0, 0))\n",
    "results = model.fit(disp=-1)\n",
    "stock_data['Forecast'] = results.fittedvalues\n",
    "stock_data[['Logged First Difference', 'Forecast']].plot(figsize=(16, 12))"
   ]
  },
  {
   "cell_type": "markdown",
   "metadata": {},
   "source": [
    "It's a little hard to tell, but it appears like our forecasted changes are generally much smaller than the actual changes. It might be worth taking a closer look at a subset of the data to see what's really going on."
   ]
  },
  {
   "cell_type": "code",
   "execution_count": null,
   "metadata": {
    "ExecuteTime": {
     "end_time": "2020-03-03T02:20:53.899332Z",
     "start_time": "2020-03-03T02:20:53.692886Z"
    }
   },
   "outputs": [],
   "source": [
    "stock_data[['Logged First Difference', 'Forecast']].iloc[1200:1600, :].plot(figsize=(16, 12))\n"
   ]
  },
  {
   "cell_type": "markdown",
   "metadata": {},
   "source": [
    "So now it's pretty obvious that the forecast is way off. We're predicting tiny little variations relative to what is actually happening day-to-day. Again, this is more of less expected with a simple moving average model of a random walk time series. There's not enough information from the previous days to accurately forcast what's going to happen the next day.\n",
    "\n",
    "A moving average model doesn't appear to do so well. What about an exponential smoothing model? Exponential smoothing spreads out the impact of previous values using an exponential weighting, so things that happened more recently are more impactful than things that happened a long time ago. Maybe this \"smarter\" form of averaging will be more accurate?"
   ]
  },
  {
   "cell_type": "code",
   "execution_count": null,
   "metadata": {
    "ExecuteTime": {
     "end_time": "2020-03-03T02:21:00.165380Z",
     "start_time": "2020-03-03T02:20:59.826317Z"
    }
   },
   "outputs": [],
   "source": [
    "model = sm.tsa.ARIMA(stock_data['Logged First Difference'].iloc[1:], order=(0, 0, 1))\n",
    "results = model.fit(disp=-1)\n",
    "stock_data['Forecast'] = results.fittedvalues\n",
    "stock_data[['Logged First Difference', 'Forecast']].plot(figsize=(16, 12))"
   ]
  },
  {
   "cell_type": "markdown",
   "metadata": {},
   "source": [
    "You can probably guess the answer...if predicting the stock market were this easy, everyone would be doing it! As I mentioned at the top, the point of this analysis wasn't to claim that you can predict the market with these techniques, but rather to demonstrate the types of the analysis one might use when breaking down time series data. Time series analysis is a very rich field with lots more technical analysis than what I went into here (much of which I'm still learning). If you're interested in doing a deeper dive, I recommend these notes from a professor at Duke. A lot of what I learned about the field I picked up from reading online resources like this one. Finally, the original source code from this post is hosted on GitHub here, along with a variety of other notebooks. Feel free to check it out!"
   ]
  }
 ],
 "metadata": {
  "hide_input": false,
  "kernelspec": {
   "display_name": "Python 3",
   "language": "python",
   "name": "python3"
  },
  "language_info": {
   "codemirror_mode": {
    "name": "ipython",
    "version": 3
   },
   "file_extension": ".py",
   "mimetype": "text/x-python",
   "name": "python",
   "nbconvert_exporter": "python",
   "pygments_lexer": "ipython3",
   "version": "3.7.6"
  },
  "toc": {
   "base_numbering": 1,
   "nav_menu": {},
   "number_sections": true,
   "sideBar": true,
   "skip_h1_title": false,
   "title_cell": "Table of Contents",
   "title_sidebar": "Contents",
   "toc_cell": false,
   "toc_position": {
    "height": "calc(100% - 180px)",
    "left": "10px",
    "top": "150px",
    "width": "304.469px"
   },
   "toc_section_display": true,
   "toc_window_display": true
  }
 },
 "nbformat": 4,
 "nbformat_minor": 4
}
